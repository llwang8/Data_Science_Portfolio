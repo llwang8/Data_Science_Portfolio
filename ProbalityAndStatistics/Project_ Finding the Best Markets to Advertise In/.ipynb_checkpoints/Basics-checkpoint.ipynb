{
 "cells": [
  {
   "cell_type": "markdown",
   "metadata": {},
   "source": [
    "# Finding the Best Markets to Advertise In\n",
    "***\n",
    "\n",
    "This project is for a fictional e-learning company that offers courses on web and mobile development, data science, game development, etc. Company wants to promote courses and invest some money in advertisement. \n",
    "\n",
    "The goal in this project is to find out the two best markets to advertise products in.\n",
    "\n",
    "It is costly to organize surveys for a couple of different markets to find out which would be the best choices for advertising.  There is one good existing data that might be relevant for the purpose, which is freeCodeCamp's 2017 New Coder Survey.  \n",
    "\n",
    "freeCodeCamp is a free e-learning platform that offers courses on web development. Because they run a popular Medium publication (over 400,000 followers), their survey attracted new coders with varying interests (not only web development), which is ideal for the purpose of the analysis.  The survey data is publicly available in this _[GitHub repository](https://github.com/freeCodeCamp/2017-new-coder-survey)_.\n",
    "\n",
    "I start by evaluating if the survey is representative of the population of interest by examing job interest.  Once confirmed I proceed to find out countries where new coders locate and how much money new coders are willing to spend on learning by compiling relative frequency distribution by countries.  I also investigate outliers and remove them.  I use boxplot to illustrate distribution of money spent per country per month to find out the best markets to advertise in.\n"
   ]
  },
  {
   "cell_type": "markdown",
   "metadata": {},
   "source": [
    "### Import Libraries and Dataset\n",
    "***"
   ]
  },
  {
   "cell_type": "code",
   "execution_count": 1,
   "metadata": {
    "collapsed": true
   },
   "outputs": [],
   "source": [
    "import pandas as pd\n",
    "import matplotlib.pyplot as plt\n",
    "%matplotlib inline"
   ]
  },
  {
   "cell_type": "code",
   "execution_count": 2,
   "metadata": {
    "collapsed": false
   },
   "outputs": [
    {
     "name": "stderr",
     "output_type": "stream",
     "text": [
      "/dataquest/system/env/python3/lib/python3.4/site-packages/IPython/core/interactiveshell.py:2723: DtypeWarning: Columns (17,62) have mixed types. Specify dtype option on import or set low_memory=False.\n",
      "  interactivity=interactivity, compiler=compiler, result=result)\n"
     ]
    },
    {
     "data": {
      "text/plain": [
       "(18175, 136)"
      ]
     },
     "execution_count": 2,
     "metadata": {},
     "output_type": "execute_result"
    }
   ],
   "source": [
    "survey = pd.read_csv('2017-fCC-New-Coders-Survey-Data.csv')\n",
    "survey.shape\n"
   ]
  },
  {
   "cell_type": "code",
   "execution_count": 3,
   "metadata": {
    "collapsed": false
   },
   "outputs": [
    {
     "data": {
      "text/html": [
       "<div>\n",
       "<style scoped>\n",
       "    .dataframe tbody tr th:only-of-type {\n",
       "        vertical-align: middle;\n",
       "    }\n",
       "\n",
       "    .dataframe tbody tr th {\n",
       "        vertical-align: top;\n",
       "    }\n",
       "\n",
       "    .dataframe thead th {\n",
       "        text-align: right;\n",
       "    }\n",
       "</style>\n",
       "<table border=\"1\" class=\"dataframe\">\n",
       "  <thead>\n",
       "    <tr style=\"text-align: right;\">\n",
       "      <th></th>\n",
       "      <th>Age</th>\n",
       "      <th>AttendedBootcamp</th>\n",
       "      <th>BootcampFinish</th>\n",
       "      <th>BootcampLoanYesNo</th>\n",
       "      <th>BootcampName</th>\n",
       "      <th>BootcampRecommend</th>\n",
       "      <th>ChildrenNumber</th>\n",
       "      <th>CityPopulation</th>\n",
       "      <th>CodeEventConferences</th>\n",
       "      <th>CodeEventDjangoGirls</th>\n",
       "      <th>...</th>\n",
       "      <th>YouTubeFCC</th>\n",
       "      <th>YouTubeFunFunFunction</th>\n",
       "      <th>YouTubeGoogleDev</th>\n",
       "      <th>YouTubeLearnCode</th>\n",
       "      <th>YouTubeLevelUpTuts</th>\n",
       "      <th>YouTubeMIT</th>\n",
       "      <th>YouTubeMozillaHacks</th>\n",
       "      <th>YouTubeOther</th>\n",
       "      <th>YouTubeSimplilearn</th>\n",
       "      <th>YouTubeTheNewBoston</th>\n",
       "    </tr>\n",
       "  </thead>\n",
       "  <tbody>\n",
       "    <tr>\n",
       "      <th>0</th>\n",
       "      <td>27.0</td>\n",
       "      <td>0.0</td>\n",
       "      <td>NaN</td>\n",
       "      <td>NaN</td>\n",
       "      <td>NaN</td>\n",
       "      <td>NaN</td>\n",
       "      <td>NaN</td>\n",
       "      <td>more than 1 million</td>\n",
       "      <td>NaN</td>\n",
       "      <td>NaN</td>\n",
       "      <td>...</td>\n",
       "      <td>NaN</td>\n",
       "      <td>NaN</td>\n",
       "      <td>NaN</td>\n",
       "      <td>NaN</td>\n",
       "      <td>NaN</td>\n",
       "      <td>NaN</td>\n",
       "      <td>NaN</td>\n",
       "      <td>NaN</td>\n",
       "      <td>NaN</td>\n",
       "      <td>NaN</td>\n",
       "    </tr>\n",
       "    <tr>\n",
       "      <th>1</th>\n",
       "      <td>34.0</td>\n",
       "      <td>0.0</td>\n",
       "      <td>NaN</td>\n",
       "      <td>NaN</td>\n",
       "      <td>NaN</td>\n",
       "      <td>NaN</td>\n",
       "      <td>NaN</td>\n",
       "      <td>less than 100,000</td>\n",
       "      <td>NaN</td>\n",
       "      <td>NaN</td>\n",
       "      <td>...</td>\n",
       "      <td>1.0</td>\n",
       "      <td>NaN</td>\n",
       "      <td>NaN</td>\n",
       "      <td>NaN</td>\n",
       "      <td>NaN</td>\n",
       "      <td>NaN</td>\n",
       "      <td>NaN</td>\n",
       "      <td>NaN</td>\n",
       "      <td>NaN</td>\n",
       "      <td>NaN</td>\n",
       "    </tr>\n",
       "    <tr>\n",
       "      <th>2</th>\n",
       "      <td>21.0</td>\n",
       "      <td>0.0</td>\n",
       "      <td>NaN</td>\n",
       "      <td>NaN</td>\n",
       "      <td>NaN</td>\n",
       "      <td>NaN</td>\n",
       "      <td>NaN</td>\n",
       "      <td>more than 1 million</td>\n",
       "      <td>NaN</td>\n",
       "      <td>NaN</td>\n",
       "      <td>...</td>\n",
       "      <td>NaN</td>\n",
       "      <td>NaN</td>\n",
       "      <td>NaN</td>\n",
       "      <td>1.0</td>\n",
       "      <td>1.0</td>\n",
       "      <td>NaN</td>\n",
       "      <td>NaN</td>\n",
       "      <td>NaN</td>\n",
       "      <td>NaN</td>\n",
       "      <td>NaN</td>\n",
       "    </tr>\n",
       "    <tr>\n",
       "      <th>3</th>\n",
       "      <td>26.0</td>\n",
       "      <td>0.0</td>\n",
       "      <td>NaN</td>\n",
       "      <td>NaN</td>\n",
       "      <td>NaN</td>\n",
       "      <td>NaN</td>\n",
       "      <td>NaN</td>\n",
       "      <td>between 100,000 and 1 million</td>\n",
       "      <td>NaN</td>\n",
       "      <td>NaN</td>\n",
       "      <td>...</td>\n",
       "      <td>1.0</td>\n",
       "      <td>1.0</td>\n",
       "      <td>NaN</td>\n",
       "      <td>NaN</td>\n",
       "      <td>1.0</td>\n",
       "      <td>NaN</td>\n",
       "      <td>NaN</td>\n",
       "      <td>NaN</td>\n",
       "      <td>NaN</td>\n",
       "      <td>NaN</td>\n",
       "    </tr>\n",
       "    <tr>\n",
       "      <th>4</th>\n",
       "      <td>20.0</td>\n",
       "      <td>0.0</td>\n",
       "      <td>NaN</td>\n",
       "      <td>NaN</td>\n",
       "      <td>NaN</td>\n",
       "      <td>NaN</td>\n",
       "      <td>NaN</td>\n",
       "      <td>between 100,000 and 1 million</td>\n",
       "      <td>NaN</td>\n",
       "      <td>NaN</td>\n",
       "      <td>...</td>\n",
       "      <td>NaN</td>\n",
       "      <td>NaN</td>\n",
       "      <td>NaN</td>\n",
       "      <td>NaN</td>\n",
       "      <td>NaN</td>\n",
       "      <td>NaN</td>\n",
       "      <td>NaN</td>\n",
       "      <td>NaN</td>\n",
       "      <td>NaN</td>\n",
       "      <td>NaN</td>\n",
       "    </tr>\n",
       "  </tbody>\n",
       "</table>\n",
       "<p>5 rows × 136 columns</p>\n",
       "</div>"
      ],
      "text/plain": [
       "    Age  AttendedBootcamp  BootcampFinish  BootcampLoanYesNo BootcampName  \\\n",
       "0  27.0               0.0             NaN                NaN          NaN   \n",
       "1  34.0               0.0             NaN                NaN          NaN   \n",
       "2  21.0               0.0             NaN                NaN          NaN   \n",
       "3  26.0               0.0             NaN                NaN          NaN   \n",
       "4  20.0               0.0             NaN                NaN          NaN   \n",
       "\n",
       "   BootcampRecommend  ChildrenNumber                 CityPopulation  \\\n",
       "0                NaN             NaN            more than 1 million   \n",
       "1                NaN             NaN              less than 100,000   \n",
       "2                NaN             NaN            more than 1 million   \n",
       "3                NaN             NaN  between 100,000 and 1 million   \n",
       "4                NaN             NaN  between 100,000 and 1 million   \n",
       "\n",
       "   CodeEventConferences  CodeEventDjangoGirls         ...           \\\n",
       "0                   NaN                   NaN         ...            \n",
       "1                   NaN                   NaN         ...            \n",
       "2                   NaN                   NaN         ...            \n",
       "3                   NaN                   NaN         ...            \n",
       "4                   NaN                   NaN         ...            \n",
       "\n",
       "   YouTubeFCC  YouTubeFunFunFunction  YouTubeGoogleDev  YouTubeLearnCode  \\\n",
       "0         NaN                    NaN               NaN               NaN   \n",
       "1         1.0                    NaN               NaN               NaN   \n",
       "2         NaN                    NaN               NaN               1.0   \n",
       "3         1.0                    1.0               NaN               NaN   \n",
       "4         NaN                    NaN               NaN               NaN   \n",
       "\n",
       "   YouTubeLevelUpTuts  YouTubeMIT  YouTubeMozillaHacks YouTubeOther  \\\n",
       "0                 NaN         NaN                  NaN          NaN   \n",
       "1                 NaN         NaN                  NaN          NaN   \n",
       "2                 1.0         NaN                  NaN          NaN   \n",
       "3                 1.0         NaN                  NaN          NaN   \n",
       "4                 NaN         NaN                  NaN          NaN   \n",
       "\n",
       "   YouTubeSimplilearn  YouTubeTheNewBoston  \n",
       "0                 NaN                  NaN  \n",
       "1                 NaN                  NaN  \n",
       "2                 NaN                  NaN  \n",
       "3                 NaN                  NaN  \n",
       "4                 NaN                  NaN  \n",
       "\n",
       "[5 rows x 136 columns]"
      ]
     },
     "execution_count": 3,
     "metadata": {},
     "output_type": "execute_result"
    }
   ],
   "source": [
    "survey.head(5)"
   ]
  },
  {
   "cell_type": "code",
   "execution_count": 4,
   "metadata": {
    "collapsed": false
   },
   "outputs": [
    {
     "data": {
      "text/plain": [
       "Index(['Age', 'AttendedBootcamp', 'BootcampFinish', 'BootcampLoanYesNo',\n",
       "       'BootcampName', 'BootcampRecommend', 'ChildrenNumber', 'CityPopulation',\n",
       "       'CodeEventConferences', 'CodeEventDjangoGirls',\n",
       "       ...\n",
       "       'YouTubeFCC', 'YouTubeFunFunFunction', 'YouTubeGoogleDev',\n",
       "       'YouTubeLearnCode', 'YouTubeLevelUpTuts', 'YouTubeMIT',\n",
       "       'YouTubeMozillaHacks', 'YouTubeOther', 'YouTubeSimplilearn',\n",
       "       'YouTubeTheNewBoston'],\n",
       "      dtype='object', length=136)"
      ]
     },
     "execution_count": 4,
     "metadata": {},
     "output_type": "execute_result"
    }
   ],
   "source": [
    "survey.columns"
   ]
  },
  {
   "cell_type": "markdown",
   "metadata": {},
   "source": [
    "### Figure out whether the sample we have is representative for our population of interest.\n",
    "***"
   ]
  },
  {
   "cell_type": "markdown",
   "metadata": {},
   "source": [
    "#### Exam JobRoleInterest to see the samle is representative for the population of interest\n",
    "\n",
    "The JobRoleInterest column describes for every participant the role(s) they'd be interested in working.\n",
    "Generate a frequency distribution table for this column. Take percentages instead of absolute frequencies."
   ]
  },
  {
   "cell_type": "code",
   "execution_count": 5,
   "metadata": {
    "collapsed": false
   },
   "outputs": [
    {
     "data": {
      "text/plain": [
       "Full-Stack Web Developer                                                                                                                                                                                                                                 11.770595\n",
       "  Front-End Web Developer                                                                                                                                                                                                                                 6.435927\n",
       "  Data Scientist                                                                                                                                                                                                                                          2.173913\n",
       "Back-End Web Developer                                                                                                                                                                                                                                    2.030892\n",
       "  Mobile Developer                                                                                                                                                                                                                                        1.673341\n",
       "Game Developer                                                                                                                                                                                                                                            1.630435\n",
       "Information Security                                                                                                                                                                                                                                      1.315789\n",
       "Full-Stack Web Developer,   Front-End Web Developer                                                                                                                                                                                                       0.915332\n",
       "  Front-End Web Developer, Full-Stack Web Developer                                                                                                                                                                                                       0.800915\n",
       "  Product Manager                                                                                                                                                                                                                                         0.786613\n",
       "Data Engineer                                                                                                                                                                                                                                             0.758009\n",
       "  User Experience Designer                                                                                                                                                                                                                                0.743707\n",
       "  User Experience Designer,   Front-End Web Developer                                                                                                                                                                                                     0.614989\n",
       "  Front-End Web Developer, Back-End Web Developer, Full-Stack Web Developer                                                                                                                                                                               0.557780\n",
       "Back-End Web Developer,   Front-End Web Developer, Full-Stack Web Developer                                                                                                                                                                               0.514874\n",
       "  DevOps / SysAdmin                                                                                                                                                                                                                                       0.514874\n",
       "Back-End Web Developer, Full-Stack Web Developer,   Front-End Web Developer                                                                                                                                                                               0.514874\n",
       "Full-Stack Web Developer,   Front-End Web Developer, Back-End Web Developer                                                                                                                                                                               0.443364\n",
       "  Front-End Web Developer, Full-Stack Web Developer, Back-End Web Developer                                                                                                                                                                               0.429062\n",
       "  Front-End Web Developer,   User Experience Designer                                                                                                                                                                                                     0.414760\n",
       "Full-Stack Web Developer,   Mobile Developer                                                                                                                                                                                                              0.414760\n",
       "Back-End Web Developer, Full-Stack Web Developer                                                                                                                                                                                                          0.386156\n",
       "Full-Stack Web Developer, Back-End Web Developer                                                                                                                                                                                                          0.371854\n",
       "Back-End Web Developer,   Front-End Web Developer                                                                                                                                                                                                         0.286041\n",
       "Data Engineer,   Data Scientist                                                                                                                                                                                                                           0.271739\n",
       "Full-Stack Web Developer, Back-End Web Developer,   Front-End Web Developer                                                                                                                                                                               0.271739\n",
       "  Front-End Web Developer,   Mobile Developer                                                                                                                                                                                                             0.257437\n",
       "Full-Stack Web Developer,   Data Scientist                                                                                                                                                                                                                0.243135\n",
       "  Data Scientist, Data Engineer                                                                                                                                                                                                                           0.228833\n",
       "  Mobile Developer, Game Developer                                                                                                                                                                                                                        0.228833\n",
       "                                                                                                                                                                                                                                                           ...    \n",
       "  Mobile Developer,   Quality Assurance Engineer, Back-End Web Developer,   DevOps / SysAdmin,   Front-End Web Developer, Full-Stack Web Developer                                                                                                        0.014302\n",
       "Information Security,   Front-End Web Developer, Game Developer,   Quality Assurance Engineer                                                                                                                                                             0.014302\n",
       "Information Security, Full-Stack Web Developer, Data Engineer, Back-End Web Developer                                                                                                                                                                     0.014302\n",
       "Information Security, Game Developer, Back-End Web Developer,   Mobile Developer                                                                                                                                                                          0.014302\n",
       "  Data Scientist,   DevOps / SysAdmin, Full-Stack Web Developer, Back-End Web Developer                                                                                                                                                                   0.014302\n",
       "  DevOps / SysAdmin,   Product Manager,   Mobile Developer, Full-Stack Web Developer                                                                                                                                                                      0.014302\n",
       "  Product Manager, Full-Stack Web Developer,   User Experience Designer,   Mobile Developer,   Front-End Web Developer,   DevOps / SysAdmin, Back-End Web Developer                                                                                       0.014302\n",
       "  DevOps / SysAdmin, Full-Stack Web Developer, Information Security                                                                                                                                                                                       0.014302\n",
       "Back-End Web Developer,   Mobile Developer, Game Developer,   User Experience Designer                                                                                                                                                                    0.014302\n",
       "  User Experience Designer,   Front-End Web Developer,   Product Manager,   Quality Assurance Engineer                                                                                                                                                    0.014302\n",
       "Teacher. Teaching students to code.                                                                                                                                                                                                                       0.014302\n",
       "Back-End Web Developer, Full-Stack Web Developer,   Data Scientist,   Front-End Web Developer                                                                                                                                                             0.014302\n",
       "Back-End Web Developer, Information Security,   Mobile Developer,   Data Scientist,   User Experience Designer                                                                                                                                            0.014302\n",
       "  Front-End Web Developer,   Quality Assurance Engineer,   User Experience Designer,   DevOps / SysAdmin, Back-End Web Developer, Data Engineer,   Product Manager, Full-Stack Web Developer,   Data Scientist                                            0.014302\n",
       "  DevOps / SysAdmin, Information Security,   Mobile Developer,   Quality Assurance Engineer                                                                                                                                                               0.014302\n",
       "Game Developer,   DevOps / SysAdmin, Data Engineer, Information Security,   Data Scientist,   Quality Assurance Engineer,   Mobile Developer, Back-End Web Developer,   Front-End Web Developer,   User Experience Designer, Full-Stack Web Developer     0.014302\n",
       "  Data Scientist, Information Security,   Mobile Developer, Full-Stack Web Developer,   Product Manager                                                                                                                                                   0.014302\n",
       "  User Experience Designer, Game Developer,   Front-End Web Developer,   Data Scientist, Data Engineer,   Quality Assurance Engineer                                                                                                                      0.014302\n",
       "  Mobile Developer,   User Experience Designer, Full-Stack Web Developer, Back-End Web Developer,   Front-End Web Developer, Information Security                                                                                                         0.014302\n",
       "  Front-End Web Developer,   Product Manager,   Mobile Developer, Information Security, Full-Stack Web Developer, Back-End Web Developer                                                                                                                  0.014302\n",
       "Computer Architect                                                                                                                                                                                                                                        0.014302\n",
       "  DevOps / SysAdmin,   User Experience Designer, Full-Stack Web Developer,   Mobile Developer,   Front-End Web Developer, Back-End Web Developer                                                                                                          0.014302\n",
       "Game Developer,   Front-End Web Developer, Back-End Web Developer,   User Experience Designer, Full-Stack Web Developer,   Mobile Developer,   Product Manager                                                                                            0.014302\n",
       "Data Engineer,   Mobile Developer,   Product Manager,   Front-End Web Developer, Game Developer, Back-End Web Developer, Full-Stack Web Developer,   Data Scientist                                                                                       0.014302\n",
       "Full-Stack Web Developer,   User Experience Designer, Information Security, Game Developer                                                                                                                                                                0.014302\n",
       "Back-End Web Developer,   Mobile Developer, Full-Stack Web Developer,   DevOps / SysAdmin,   Front-End Web Developer, Data Engineer,   Product Manager                                                                                                    0.014302\n",
       "Back-End Web Developer,   Front-End Web Developer, Full-Stack Web Developer,   Quality Assurance Engineer, Data Engineer,   Mobile Developer                                                                                                              0.014302\n",
       "Full-Stack Web Developer,   Front-End Web Developer, Back-End Web Developer, Data Engineer                                                                                                                                                                0.014302\n",
       "  Data Scientist, Back-End Web Developer, Information Security, Data Engineer,   Mobile Developer                                                                                                                                                         0.014302\n",
       "  Front-End Web Developer,   Mobile Developer, Full-Stack Web Developer, Game Developer, Back-End Web Developer, Information Security                                                                                                                     0.014302\n",
       "Name: JobRoleInterest, Length: 3213, dtype: float64"
      ]
     },
     "execution_count": 5,
     "metadata": {},
     "output_type": "execute_result"
    }
   ],
   "source": [
    "survey['JobRoleInterest'].value_counts(normalize=True)*100\n"
   ]
  },
  {
   "cell_type": "markdown",
   "metadata": {
    "collapsed": true
   },
   "source": [
    "Observation:\n",
    "More people are interested in only only subject than in more than one subject."
   ]
  },
  {
   "cell_type": "markdown",
   "metadata": {
    "collapsed": true
   },
   "source": [
    "#### The focus of our courses is on web and mobile development. How many people are interested in at least one of these two subjects?\n",
    "\n",
    "To make sure we're working with a representative sample, drop all the rows where participants didn't answer what role they are interested in. Where a participant didn't respond, we can't know for sure what their interests are, so it's better if we leave out this category of participants."
   ]
  },
  {
   "cell_type": "code",
   "execution_count": 6,
   "metadata": {
    "collapsed": false
   },
   "outputs": [
    {
     "data": {
      "text/plain": [
       "True     82.608696\n",
       "False    17.391304\n",
       "Name: JobRoleInterest, dtype: float64"
      ]
     },
     "execution_count": 6,
     "metadata": {},
     "output_type": "execute_result"
    }
   ],
   "source": [
    "# drop null rows\n",
    "interests_no_nulls = survey['JobRoleInterest'].dropna()\n",
    "web_or_mobil = interests_no_nulls.str.contains('Web Developer|Mobil Developer')\n",
    "\n",
    "wm_freq_table = web_or_mobil.value_counts(normalize=True)*100\n",
    "wm_freq_table"
   ]
  },
  {
   "cell_type": "code",
   "execution_count": 7,
   "metadata": {
    "collapsed": false
   },
   "outputs": [
    {
     "data": {
      "image/png": "[encoded data removed]",
      "text/plain": [
       "<matplotlib.figure.Figure at 0x7efd6c45aef0>"
      ]
     },
     "metadata": {},
     "output_type": "display_data"
    }
   ],
   "source": [
    "plt.style.use('fivethirtyeight')\n",
    "wm_freq_table.plot.bar()\n",
    "plt.title('Most Participants are Interested in \\nWeb and / or Mobile Development')\n",
    "plt.ylabel('Percentage', fontsize=12)\n",
    "plt.xticks([0, 1], ['Web or Mobile \\nDevelopment', 'Others'], rotation=0)\n",
    "plt.ylim([0, 100])\n",
    "plt.show()\n"
   ]
  },
  {
   "cell_type": "markdown",
   "metadata": {},
   "source": [
    "More than 80% of participants are interested in Web Development and / or Mobil Development. It looks like the sample has the right categories of people for our purpose."
   ]
  },
  {
   "cell_type": "markdown",
   "metadata": {},
   "source": [
    "### Find out where new coders are located and what are the densities for each location\n",
    "***\n",
    "We working with CountryLive variable because we are interested in where people actually live at the moment when we run the ads instead of CountryCitizen.\n",
    "\n",
    "Because the data set provides information at a country level, we can think of each country as an individual market. This means we can frame our goal as finding the two best countries to advertise in.\n",
    "\n",
    "One indicator of a good market is the number of potential customers — the more potential customers in a market, the better"
   ]
  },
  {
   "cell_type": "code",
   "execution_count": 8,
   "metadata": {
    "collapsed": false
   },
   "outputs": [],
   "source": [
    "gsurvey = survey[survey['JobRoleInterest'].notnull()].copy()"
   ]
  },
  {
   "cell_type": "code",
   "execution_count": 9,
   "metadata": {
    "collapsed": false
   },
   "outputs": [
    {
     "data": {
      "text/plain": [
       "United States of America         3125\n",
       "India                             528\n",
       "United Kingdom                    315\n",
       "Canada                            260\n",
       "Poland                            131\n",
       "Brazil                            129\n",
       "Germany                           125\n",
       "Australia                         112\n",
       "Russia                            102\n",
       "Ukraine                            89\n",
       "Nigeria                            84\n",
       "Spain                              77\n",
       "France                             75\n",
       "Romania                            71\n",
       "Netherlands (Holland, Europe)      65\n",
       "Italy                              62\n",
       "Serbia                             52\n",
       "Philippines                        52\n",
       "Greece                             46\n",
       "Ireland                            43\n",
       "South Africa                       39\n",
       "Mexico                             37\n",
       "Turkey                             36\n",
       "Hungary                            34\n",
       "Singapore                          34\n",
       "New Zealand                        33\n",
       "Argentina                          32\n",
       "Croatia                            32\n",
       "Pakistan                           31\n",
       "Sweden                             31\n",
       "                                 ... \n",
       "Jordan                              1\n",
       "Qatar                               1\n",
       "Trinidad & Tobago                   1\n",
       "Rwanda                              1\n",
       "Papua New Guinea                    1\n",
       "Liberia                             1\n",
       "Mozambique                          1\n",
       "Guatemala                           1\n",
       "Somalia                             1\n",
       "Samoa                               1\n",
       "Cayman Islands                      1\n",
       "Panama                              1\n",
       "Yemen                               1\n",
       "Gibraltar                           1\n",
       "Nambia                              1\n",
       "Sudan                               1\n",
       "Bolivia                             1\n",
       "Aruba                               1\n",
       "Channel Islands                     1\n",
       "Turkmenistan                        1\n",
       "Gambia                              1\n",
       "Myanmar                             1\n",
       "Vanuatu                             1\n",
       "Cuba                                1\n",
       "Botswana                            1\n",
       "Nicaragua                           1\n",
       "Cameroon                            1\n",
       "Angola                              1\n",
       "Guadeloupe                          1\n",
       "Anguilla                            1\n",
       "Name: CountryLive, Length: 137, dtype: int64"
      ]
     },
     "execution_count": 9,
     "metadata": {},
     "output_type": "execute_result"
    }
   ],
   "source": [
    "gsurvey['CountryLive'].value_counts()"
   ]
  },
  {
   "cell_type": "code",
   "execution_count": 10,
   "metadata": {
    "collapsed": false
   },
   "outputs": [
    {
     "data": {
      "text/plain": [
       "United States of America         45.700497\n",
       "India                             7.721556\n",
       "United Kingdom                    4.606610\n",
       "Canada                            3.802281\n",
       "Poland                            1.915765\n",
       "Brazil                            1.886517\n",
       "Germany                           1.828020\n",
       "Australia                         1.637906\n",
       "Russia                            1.491664\n",
       "Ukraine                           1.301550\n",
       "Nigeria                           1.228429\n",
       "Spain                             1.126060\n",
       "France                            1.096812\n",
       "Romania                           1.038315\n",
       "Netherlands (Holland, Europe)     0.950570\n",
       "Italy                             0.906698\n",
       "Serbia                            0.760456\n",
       "Philippines                       0.760456\n",
       "Greece                            0.672711\n",
       "Ireland                           0.628839\n",
       "South Africa                      0.570342\n",
       "Mexico                            0.541094\n",
       "Turkey                            0.526470\n",
       "Hungary                           0.497221\n",
       "Singapore                         0.497221\n",
       "New Zealand                       0.482597\n",
       "Argentina                         0.467973\n",
       "Croatia                           0.467973\n",
       "Pakistan                          0.453349\n",
       "Sweden                            0.453349\n",
       "                                   ...    \n",
       "Jordan                            0.014624\n",
       "Qatar                             0.014624\n",
       "Trinidad & Tobago                 0.014624\n",
       "Rwanda                            0.014624\n",
       "Papua New Guinea                  0.014624\n",
       "Liberia                           0.014624\n",
       "Mozambique                        0.014624\n",
       "Guatemala                         0.014624\n",
       "Somalia                           0.014624\n",
       "Samoa                             0.014624\n",
       "Cayman Islands                    0.014624\n",
       "Panama                            0.014624\n",
       "Yemen                             0.014624\n",
       "Gibraltar                         0.014624\n",
       "Nambia                            0.014624\n",
       "Sudan                             0.014624\n",
       "Bolivia                           0.014624\n",
       "Aruba                             0.014624\n",
       "Channel Islands                   0.014624\n",
       "Turkmenistan                      0.014624\n",
       "Gambia                            0.014624\n",
       "Myanmar                           0.014624\n",
       "Vanuatu                           0.014624\n",
       "Cuba                              0.014624\n",
       "Botswana                          0.014624\n",
       "Nicaragua                         0.014624\n",
       "Cameroon                          0.014624\n",
       "Angola                            0.014624\n",
       "Guadeloupe                        0.014624\n",
       "Anguilla                          0.014624\n",
       "Name: CountryLive, Length: 137, dtype: float64"
      ]
     },
     "execution_count": 10,
     "metadata": {},
     "output_type": "execute_result"
    }
   ],
   "source": [
    "gsurvey['CountryLive'].value_counts(normalize=True)*100"
   ]
  },
  {
   "cell_type": "markdown",
   "metadata": {},
   "source": [
    "Based on both absolute and relative frequencies, it seems like US and India are the best two markets.  The question is if the potential new coders can afford the learning cost."
   ]
  },
  {
   "cell_type": "markdown",
   "metadata": {},
   "source": [
    "### How much money new coders are actually willing to spend on learning\n",
    "***\n",
    "Advertising within markets where most people are only willing to learn for free is extremely unlikely to be profitable for us.\n",
    "\n",
    "The MoneyForLearning column describes in American dollars the amount of money spent by participants from the moment they started coding until the moment they completed the survey. Our company sells subscriptions at a price of $59 per month, and for this reason we're interested in finding out how much money each student spends per month.\n",
    "\n",
    "It also seems like a good idea to narrow down our analysis to only four countries: the US, India, the United Kingdom, and Canada.\n",
    "\n",
    "Two reasons for this decision are:\n",
    "\n",
    "These are the countries having the highest absolute frequencies in our sample, which means we have a decent amount of data for each.\n",
    "\n",
    "Our courses are written in English, and English is an official language in all these four countries. The more people that know English, the better our chances to target the right people with our ads."
   ]
  },
  {
   "cell_type": "code",
   "execution_count": 11,
   "metadata": {
    "collapsed": true
   },
   "outputs": [],
   "source": [
    "# To avoid dividing by 0, replace all the values of 0 \n",
    "# with 1 in column MonthsProgramming\n",
    "gsurvey['MonthsProgramming'].replace(0, 1, inplace=True)\n",
    "\n",
    "# create new column\n",
    "gsurvey['MoneyPerMonth'] = gsurvey['MoneyForLearning'] / gsurvey['MonthsProgramming']\n"
   ]
  },
  {
   "cell_type": "markdown",
   "metadata": {},
   "source": [
    "#### Find out how many null values ther are in the new column"
   ]
  },
  {
   "cell_type": "code",
   "execution_count": 12,
   "metadata": {
    "collapsed": false
   },
   "outputs": [
    {
     "data": {
      "text/plain": [
       "675"
      ]
     },
     "execution_count": 12,
     "metadata": {},
     "output_type": "execute_result"
    }
   ],
   "source": [
    "gsurvey['MoneyPerMonth'].isnull().sum()"
   ]
  },
  {
   "cell_type": "code",
   "execution_count": 13,
   "metadata": {
    "collapsed": true
   },
   "outputs": [],
   "source": [
    "# keep only the rows that don't have a null value for the\n",
    "# new column\n",
    "gsurvey = gsurvey[gsurvey['MoneyPerMonth'].notnull()]\n",
    "\n",
    "# remove any rows that have null values in the \n",
    "# CountryLive column\n",
    "gsurvey = gsurvey[gsurvey['CountryLive'].notnull()]\n"
   ]
  },
  {
   "cell_type": "markdown",
   "metadata": {},
   "source": [
    "#### Group the remaining data by the CountryLive column and find out how much money a student spends on average each month in the US, India, the UK and Canada\n"
   ]
  },
  {
   "cell_type": "code",
   "execution_count": 14,
   "metadata": {
    "collapsed": false
   },
   "outputs": [],
   "source": [
    "four_countries = gsurvey[gsurvey['CountryLive'].str.contains('United States of America|India|United Kingdom|Canada')]\n",
    "#four_countries.head()"
   ]
  },
  {
   "cell_type": "code",
   "execution_count": 17,
   "metadata": {
    "collapsed": false
   },
   "outputs": [
    {
     "name": "stdout",
     "output_type": "stream",
     "text": [
      "CountryLive\n",
      "Canada                      113.510961\n",
      "India                       135.100982\n",
      "United Kingdom               45.534443\n",
      "United States of America    227.997996\n",
      "Name: MoneyPerMonth, dtype: float64\n"
     ]
    }
   ],
   "source": [
    "def countries_mean(df):\n",
    "    countries_mean = df.groupby(['CountryLive']).mean()\n",
    "    print(countries_mean['MoneyPerMonth'])\n",
    "    return countries_mean\n",
    "four_countries_mean = countries_mean(four_countries)"
   ]
  },
  {
   "cell_type": "markdown",
   "metadata": {
    "collapsed": true
   },
   "source": [
    "The results for the UK and Canada are surprisingly low relative to the values we see for India.  If we considered a few social economical metrics like GDP per capita, we would intuitively expect people in the UK and Canada to spend more on learning than people in India.\n",
    "\n",
    "It might be that there is not enough representative data for the UK, Canada and India, or there are some outliers.\n"
   ]
  },
  {
   "cell_type": "markdown",
   "metadata": {},
   "source": [
    "### Deal with Outliers\n",
    "***"
   ]
  },
  {
   "cell_type": "markdown",
   "metadata": {},
   "source": [
    "#### Generate box plots on the same figure to visualize for each country (the US, India, the UK, Canada) the distribution of the variable that describes how much money each participant had spent each month"
   ]
  },
  {
   "cell_type": "code",
   "execution_count": 21,
   "metadata": {
    "collapsed": false
   },
   "outputs": [
    {
     "name": "stderr",
     "output_type": "stream",
     "text": [
      "/dataquest/system/env/python3/lib/python3.4/site-packages/seaborn/categorical.py:454: FutureWarning: remove_na is deprecated and is a private function. Do not use.\n",
      "  box_data = remove_na(group_data)\n"
     ]
    },
    {
     "data": {
      "image/png": "[encoded data removed]",
      "text/plain": [
       "<matplotlib.figure.Figure at 0x7efd6c3f1d30>"
      ]
     },
     "metadata": {},
     "output_type": "display_data"
    }
   ],
   "source": [
    "import seaborn as sns\n",
    "\n",
    "def countries_boxplot(df):\n",
    "    #four_countries = gsurvey[gsurvey['CountryLive'].str.contains('United States of America|India|United Kingdom|Canada')]\n",
    "    sns.boxplot(y='MoneyPerMonth', x='CountryLive', data=df)\n",
    "    plt.title('Money Spent Per Month Per Country\\n(Distributions)',\n",
    "         fontsize = 16)\n",
    "    plt.ylabel('Money per month (US dollars)')\n",
    "    plt.xlabel('Country')\n",
    "    plt.xticks(range(4), ['US', 'UK', 'India', 'Canada']) # avoids tick labels overlap\n",
    "    plt.show()\n",
    "\n",
    "countries_boxplot(four_countries)"
   ]
  },
  {
   "cell_type": "markdown",
   "metadata": {},
   "source": [
    "It is hard to see from the plot that there is anything wroing with data for UK, India and Canada.  There are some extreme outliers for US that have spent over 50000 per month on learning coding each month. So we remove any value over $20000 per month."
   ]
  },
  {
   "cell_type": "markdown",
   "metadata": {},
   "source": [
    "#### Remove any value over $20000 per month"
   ]
  },
  {
   "cell_type": "code",
   "execution_count": 31,
   "metadata": {
    "collapsed": true
   },
   "outputs": [],
   "source": [
    "#gsurvey = gsurvey[gsurvey['MoneyPerMonth'] < 20000]\n",
    "four_countries = four_countries[four_countries['MoneyPerMonth'] < 20000]"
   ]
  },
  {
   "cell_type": "code",
   "execution_count": 34,
   "metadata": {
    "collapsed": false
   },
   "outputs": [
    {
     "name": "stdout",
     "output_type": "stream",
     "text": [
      "CountryLive\n",
      "Canada                      113.510961\n",
      "India                       135.100982\n",
      "United Kingdom               45.534443\n",
      "United States of America    183.800110\n",
      "Name: MoneyPerMonth, dtype: float64\n"
     ]
    }
   ],
   "source": [
    "# Recomputer the mean values\n",
    "countries_under20000_mean = countries_mean(four_countries)"
   ]
  },
  {
   "cell_type": "code",
   "execution_count": 35,
   "metadata": {
    "collapsed": false
   },
   "outputs": [
    {
     "name": "stderr",
     "output_type": "stream",
     "text": [
      "/dataquest/system/env/python3/lib/python3.4/site-packages/seaborn/categorical.py:454: FutureWarning: remove_na is deprecated and is a private function. Do not use.\n",
      "  box_data = remove_na(group_data)\n"
     ]
    },
    {
     "data": {
      "image/png": "[encoded data removed]",
      "text/plain": [
       "<matplotlib.figure.Figure at 0x7efd6c426518>"
      ]
     },
     "metadata": {},
     "output_type": "display_data"
    }
   ],
   "source": [
    " countries_boxplot(four_countries)"
   ]
  },
  {
   "cell_type": "markdown",
   "metadata": {},
   "source": [
    "We can see there are a few data poing with over $2500 spending per month.  Maybe they attended several bootcamps, which is very expensive.  Let's exam them in detail.\n"
   ]
  },
  {
   "cell_type": "markdown",
   "metadata": {},
   "source": [
    "#### India Outliers"
   ]
  },
  {
   "cell_type": "code",
   "execution_count": 36,
   "metadata": {
    "collapsed": false
   },
   "outputs": [],
   "source": [
    "four_countries = four_countries.reset_index()"
   ]
  },
  {
   "cell_type": "code",
   "execution_count": 37,
   "metadata": {
    "collapsed": false
   },
   "outputs": [
    {
     "data": {
      "text/html": [
       "<div>\n",
       "<style scoped>\n",
       "    .dataframe tbody tr th:only-of-type {\n",
       "        vertical-align: middle;\n",
       "    }\n",
       "\n",
       "    .dataframe tbody tr th {\n",
       "        vertical-align: top;\n",
       "    }\n",
       "\n",
       "    .dataframe thead th {\n",
       "        text-align: right;\n",
       "    }\n",
       "</style>\n",
       "<table border=\"1\" class=\"dataframe\">\n",
       "  <thead>\n",
       "    <tr style=\"text-align: right;\">\n",
       "      <th></th>\n",
       "      <th>index</th>\n",
       "      <th>Age</th>\n",
       "      <th>AttendedBootcamp</th>\n",
       "      <th>BootcampFinish</th>\n",
       "      <th>BootcampLoanYesNo</th>\n",
       "      <th>BootcampName</th>\n",
       "      <th>BootcampRecommend</th>\n",
       "      <th>ChildrenNumber</th>\n",
       "      <th>CityPopulation</th>\n",
       "      <th>CodeEventConferences</th>\n",
       "      <th>...</th>\n",
       "      <th>YouTubeFunFunFunction</th>\n",
       "      <th>YouTubeGoogleDev</th>\n",
       "      <th>YouTubeLearnCode</th>\n",
       "      <th>YouTubeLevelUpTuts</th>\n",
       "      <th>YouTubeMIT</th>\n",
       "      <th>YouTubeMozillaHacks</th>\n",
       "      <th>YouTubeOther</th>\n",
       "      <th>YouTubeSimplilearn</th>\n",
       "      <th>YouTubeTheNewBoston</th>\n",
       "      <th>MoneyPerMonth</th>\n",
       "    </tr>\n",
       "  </thead>\n",
       "  <tbody>\n",
       "    <tr>\n",
       "      <th>478</th>\n",
       "      <td>1728</td>\n",
       "      <td>24.0</td>\n",
       "      <td>0.0</td>\n",
       "      <td>NaN</td>\n",
       "      <td>NaN</td>\n",
       "      <td>NaN</td>\n",
       "      <td>NaN</td>\n",
       "      <td>NaN</td>\n",
       "      <td>between 100,000 and 1 million</td>\n",
       "      <td>NaN</td>\n",
       "      <td>...</td>\n",
       "      <td>NaN</td>\n",
       "      <td>NaN</td>\n",
       "      <td>NaN</td>\n",
       "      <td>NaN</td>\n",
       "      <td>NaN</td>\n",
       "      <td>NaN</td>\n",
       "      <td>NaN</td>\n",
       "      <td>NaN</td>\n",
       "      <td>NaN</td>\n",
       "      <td>5000.000000</td>\n",
       "    </tr>\n",
       "    <tr>\n",
       "      <th>480</th>\n",
       "      <td>1755</td>\n",
       "      <td>20.0</td>\n",
       "      <td>0.0</td>\n",
       "      <td>NaN</td>\n",
       "      <td>NaN</td>\n",
       "      <td>NaN</td>\n",
       "      <td>NaN</td>\n",
       "      <td>NaN</td>\n",
       "      <td>more than 1 million</td>\n",
       "      <td>NaN</td>\n",
       "      <td>...</td>\n",
       "      <td>NaN</td>\n",
       "      <td>NaN</td>\n",
       "      <td>1.0</td>\n",
       "      <td>NaN</td>\n",
       "      <td>1.0</td>\n",
       "      <td>NaN</td>\n",
       "      <td>NaN</td>\n",
       "      <td>NaN</td>\n",
       "      <td>NaN</td>\n",
       "      <td>3333.333333</td>\n",
       "    </tr>\n",
       "    <tr>\n",
       "      <th>2049</th>\n",
       "      <td>7989</td>\n",
       "      <td>28.0</td>\n",
       "      <td>0.0</td>\n",
       "      <td>NaN</td>\n",
       "      <td>NaN</td>\n",
       "      <td>NaN</td>\n",
       "      <td>NaN</td>\n",
       "      <td>NaN</td>\n",
       "      <td>between 100,000 and 1 million</td>\n",
       "      <td>1.0</td>\n",
       "      <td>...</td>\n",
       "      <td>NaN</td>\n",
       "      <td>NaN</td>\n",
       "      <td>NaN</td>\n",
       "      <td>NaN</td>\n",
       "      <td>NaN</td>\n",
       "      <td>NaN</td>\n",
       "      <td>NaN</td>\n",
       "      <td>NaN</td>\n",
       "      <td>NaN</td>\n",
       "      <td>5000.000000</td>\n",
       "    </tr>\n",
       "    <tr>\n",
       "      <th>2085</th>\n",
       "      <td>8126</td>\n",
       "      <td>22.0</td>\n",
       "      <td>0.0</td>\n",
       "      <td>NaN</td>\n",
       "      <td>NaN</td>\n",
       "      <td>NaN</td>\n",
       "      <td>NaN</td>\n",
       "      <td>NaN</td>\n",
       "      <td>more than 1 million</td>\n",
       "      <td>NaN</td>\n",
       "      <td>...</td>\n",
       "      <td>NaN</td>\n",
       "      <td>1.0</td>\n",
       "      <td>NaN</td>\n",
       "      <td>NaN</td>\n",
       "      <td>1.0</td>\n",
       "      <td>NaN</td>\n",
       "      <td>NaN</td>\n",
       "      <td>NaN</td>\n",
       "      <td>1.0</td>\n",
       "      <td>5000.000000</td>\n",
       "    </tr>\n",
       "    <tr>\n",
       "      <th>2919</th>\n",
       "      <td>13398</td>\n",
       "      <td>19.0</td>\n",
       "      <td>0.0</td>\n",
       "      <td>NaN</td>\n",
       "      <td>NaN</td>\n",
       "      <td>NaN</td>\n",
       "      <td>NaN</td>\n",
       "      <td>NaN</td>\n",
       "      <td>more than 1 million</td>\n",
       "      <td>NaN</td>\n",
       "      <td>...</td>\n",
       "      <td>NaN</td>\n",
       "      <td>NaN</td>\n",
       "      <td>NaN</td>\n",
       "      <td>NaN</td>\n",
       "      <td>NaN</td>\n",
       "      <td>NaN</td>\n",
       "      <td>NaN</td>\n",
       "      <td>NaN</td>\n",
       "      <td>NaN</td>\n",
       "      <td>10000.000000</td>\n",
       "    </tr>\n",
       "    <tr>\n",
       "      <th>3262</th>\n",
       "      <td>15587</td>\n",
       "      <td>27.0</td>\n",
       "      <td>0.0</td>\n",
       "      <td>NaN</td>\n",
       "      <td>NaN</td>\n",
       "      <td>NaN</td>\n",
       "      <td>NaN</td>\n",
       "      <td>NaN</td>\n",
       "      <td>more than 1 million</td>\n",
       "      <td>NaN</td>\n",
       "      <td>...</td>\n",
       "      <td>NaN</td>\n",
       "      <td>1.0</td>\n",
       "      <td>1.0</td>\n",
       "      <td>NaN</td>\n",
       "      <td>1.0</td>\n",
       "      <td>NaN</td>\n",
       "      <td>NaN</td>\n",
       "      <td>NaN</td>\n",
       "      <td>NaN</td>\n",
       "      <td>4166.666667</td>\n",
       "    </tr>\n",
       "  </tbody>\n",
       "</table>\n",
       "<p>6 rows × 138 columns</p>\n",
       "</div>"
      ],
      "text/plain": [
       "      index   Age  AttendedBootcamp  BootcampFinish  BootcampLoanYesNo  \\\n",
       "478    1728  24.0               0.0             NaN                NaN   \n",
       "480    1755  20.0               0.0             NaN                NaN   \n",
       "2049   7989  28.0               0.0             NaN                NaN   \n",
       "2085   8126  22.0               0.0             NaN                NaN   \n",
       "2919  13398  19.0               0.0             NaN                NaN   \n",
       "3262  15587  27.0               0.0             NaN                NaN   \n",
       "\n",
       "     BootcampName  BootcampRecommend  ChildrenNumber  \\\n",
       "478           NaN                NaN             NaN   \n",
       "480           NaN                NaN             NaN   \n",
       "2049          NaN                NaN             NaN   \n",
       "2085          NaN                NaN             NaN   \n",
       "2919          NaN                NaN             NaN   \n",
       "3262          NaN                NaN             NaN   \n",
       "\n",
       "                     CityPopulation  CodeEventConferences      ...        \\\n",
       "478   between 100,000 and 1 million                   NaN      ...         \n",
       "480             more than 1 million                   NaN      ...         \n",
       "2049  between 100,000 and 1 million                   1.0      ...         \n",
       "2085            more than 1 million                   NaN      ...         \n",
       "2919            more than 1 million                   NaN      ...         \n",
       "3262            more than 1 million                   NaN      ...         \n",
       "\n",
       "      YouTubeFunFunFunction  YouTubeGoogleDev  YouTubeLearnCode  \\\n",
       "478                     NaN               NaN               NaN   \n",
       "480                     NaN               NaN               1.0   \n",
       "2049                    NaN               NaN               NaN   \n",
       "2085                    NaN               1.0               NaN   \n",
       "2919                    NaN               NaN               NaN   \n",
       "3262                    NaN               1.0               1.0   \n",
       "\n",
       "      YouTubeLevelUpTuts  YouTubeMIT  YouTubeMozillaHacks  YouTubeOther  \\\n",
       "478                  NaN         NaN                  NaN           NaN   \n",
       "480                  NaN         1.0                  NaN           NaN   \n",
       "2049                 NaN         NaN                  NaN           NaN   \n",
       "2085                 NaN         1.0                  NaN           NaN   \n",
       "2919                 NaN         NaN                  NaN           NaN   \n",
       "3262                 NaN         1.0                  NaN           NaN   \n",
       "\n",
       "      YouTubeSimplilearn YouTubeTheNewBoston  MoneyPerMonth  \n",
       "478                  NaN                 NaN    5000.000000  \n",
       "480                  NaN                 NaN    3333.333333  \n",
       "2049                 NaN                 NaN    5000.000000  \n",
       "2085                 NaN                 1.0    5000.000000  \n",
       "2919                 NaN                 NaN   10000.000000  \n",
       "3262                 NaN                 NaN    4166.666667  \n",
       "\n",
       "[6 rows x 138 columns]"
      ]
     },
     "execution_count": 37,
     "metadata": {},
     "output_type": "execute_result"
    }
   ],
   "source": [
    "india_outliers = four_countries[\n",
    "    (four_countries['CountryLive'] == 'India') \n",
    "    & (four_countries['MoneyPerMonth'] >= 2500)]\n",
    "\n",
    "india_outliers"
   ]
  },
  {
   "cell_type": "markdown",
   "metadata": {
    "collapsed": true
   },
   "source": [
    "It seems none of these participants attended bootcamps.  It really is hard to under if these people spent that much of momey (over $2500) per month on learing to code. There is a possibility that they could have misunderstood the question and put their university tuition number in the survey. It seems safer to remove these rows"
   ]
  },
  {
   "cell_type": "code",
   "execution_count": 38,
   "metadata": {
    "collapsed": true
   },
   "outputs": [],
   "source": [
    "# remove india outliers\n",
    "four_countries = four_countries.drop(india_outliers.index)\n"
   ]
  },
  {
   "cell_type": "markdown",
   "metadata": {},
   "source": [
    "#### USA outliers"
   ]
  },
  {
   "cell_type": "markdown",
   "metadata": {
    "collapsed": true
   },
   "source": [
    "Looking back at the the above boxplot, there are some outlier in US of over $6000 spending per month.  Let's examine these participants in detail."
   ]
  },
  {
   "cell_type": "code",
   "execution_count": 40,
   "metadata": {
    "collapsed": false
   },
   "outputs": [
    {
     "data": {
      "text/html": [
       "<div>\n",
       "<style scoped>\n",
       "    .dataframe tbody tr th:only-of-type {\n",
       "        vertical-align: middle;\n",
       "    }\n",
       "\n",
       "    .dataframe tbody tr th {\n",
       "        vertical-align: top;\n",
       "    }\n",
       "\n",
       "    .dataframe thead th {\n",
       "        text-align: right;\n",
       "    }\n",
       "</style>\n",
       "<table border=\"1\" class=\"dataframe\">\n",
       "  <thead>\n",
       "    <tr style=\"text-align: right;\">\n",
       "      <th></th>\n",
       "      <th>index</th>\n",
       "      <th>Age</th>\n",
       "      <th>AttendedBootcamp</th>\n",
       "      <th>BootcampFinish</th>\n",
       "      <th>BootcampLoanYesNo</th>\n",
       "      <th>BootcampName</th>\n",
       "      <th>BootcampRecommend</th>\n",
       "      <th>ChildrenNumber</th>\n",
       "      <th>CityPopulation</th>\n",
       "      <th>CodeEventConferences</th>\n",
       "      <th>...</th>\n",
       "      <th>YouTubeFunFunFunction</th>\n",
       "      <th>YouTubeGoogleDev</th>\n",
       "      <th>YouTubeLearnCode</th>\n",
       "      <th>YouTubeLevelUpTuts</th>\n",
       "      <th>YouTubeMIT</th>\n",
       "      <th>YouTubeMozillaHacks</th>\n",
       "      <th>YouTubeOther</th>\n",
       "      <th>YouTubeSimplilearn</th>\n",
       "      <th>YouTubeTheNewBoston</th>\n",
       "      <th>MoneyPerMonth</th>\n",
       "    </tr>\n",
       "  </thead>\n",
       "  <tbody>\n",
       "    <tr>\n",
       "      <th>196</th>\n",
       "      <td>718</td>\n",
       "      <td>26.0</td>\n",
       "      <td>1.0</td>\n",
       "      <td>0.0</td>\n",
       "      <td>0.0</td>\n",
       "      <td>The Coding Boot Camp at UCLA Extension</td>\n",
       "      <td>1.0</td>\n",
       "      <td>NaN</td>\n",
       "      <td>more than 1 million</td>\n",
       "      <td>1.0</td>\n",
       "      <td>...</td>\n",
       "      <td>NaN</td>\n",
       "      <td>NaN</td>\n",
       "      <td>NaN</td>\n",
       "      <td>NaN</td>\n",
       "      <td>NaN</td>\n",
       "      <td>NaN</td>\n",
       "      <td>NaN</td>\n",
       "      <td>NaN</td>\n",
       "      <td>NaN</td>\n",
       "      <td>8000.000000</td>\n",
       "    </tr>\n",
       "    <tr>\n",
       "      <th>346</th>\n",
       "      <td>1222</td>\n",
       "      <td>32.0</td>\n",
       "      <td>1.0</td>\n",
       "      <td>0.0</td>\n",
       "      <td>0.0</td>\n",
       "      <td>The Iron Yard</td>\n",
       "      <td>1.0</td>\n",
       "      <td>NaN</td>\n",
       "      <td>between 100,000 and 1 million</td>\n",
       "      <td>NaN</td>\n",
       "      <td>...</td>\n",
       "      <td>NaN</td>\n",
       "      <td>NaN</td>\n",
       "      <td>1.0</td>\n",
       "      <td>NaN</td>\n",
       "      <td>NaN</td>\n",
       "      <td>NaN</td>\n",
       "      <td>NaN</td>\n",
       "      <td>NaN</td>\n",
       "      <td>NaN</td>\n",
       "      <td>6500.000000</td>\n",
       "    </tr>\n",
       "    <tr>\n",
       "      <th>871</th>\n",
       "      <td>3184</td>\n",
       "      <td>34.0</td>\n",
       "      <td>1.0</td>\n",
       "      <td>1.0</td>\n",
       "      <td>0.0</td>\n",
       "      <td>We Can Code IT</td>\n",
       "      <td>1.0</td>\n",
       "      <td>NaN</td>\n",
       "      <td>more than 1 million</td>\n",
       "      <td>NaN</td>\n",
       "      <td>...</td>\n",
       "      <td>NaN</td>\n",
       "      <td>NaN</td>\n",
       "      <td>NaN</td>\n",
       "      <td>NaN</td>\n",
       "      <td>NaN</td>\n",
       "      <td>NaN</td>\n",
       "      <td>NaN</td>\n",
       "      <td>NaN</td>\n",
       "      <td>NaN</td>\n",
       "      <td>9000.000000</td>\n",
       "    </tr>\n",
       "    <tr>\n",
       "      <th>1055</th>\n",
       "      <td>3930</td>\n",
       "      <td>31.0</td>\n",
       "      <td>0.0</td>\n",
       "      <td>NaN</td>\n",
       "      <td>NaN</td>\n",
       "      <td>NaN</td>\n",
       "      <td>NaN</td>\n",
       "      <td>NaN</td>\n",
       "      <td>between 100,000 and 1 million</td>\n",
       "      <td>NaN</td>\n",
       "      <td>...</td>\n",
       "      <td>1.0</td>\n",
       "      <td>1.0</td>\n",
       "      <td>1.0</td>\n",
       "      <td>1.0</td>\n",
       "      <td>1.0</td>\n",
       "      <td>NaN</td>\n",
       "      <td>various conf presentations</td>\n",
       "      <td>NaN</td>\n",
       "      <td>NaN</td>\n",
       "      <td>10833.333333</td>\n",
       "    </tr>\n",
       "    <tr>\n",
       "      <th>1758</th>\n",
       "      <td>6805</td>\n",
       "      <td>46.0</td>\n",
       "      <td>1.0</td>\n",
       "      <td>1.0</td>\n",
       "      <td>1.0</td>\n",
       "      <td>Sabio.la</td>\n",
       "      <td>0.0</td>\n",
       "      <td>NaN</td>\n",
       "      <td>between 100,000 and 1 million</td>\n",
       "      <td>NaN</td>\n",
       "      <td>...</td>\n",
       "      <td>NaN</td>\n",
       "      <td>NaN</td>\n",
       "      <td>NaN</td>\n",
       "      <td>NaN</td>\n",
       "      <td>NaN</td>\n",
       "      <td>NaN</td>\n",
       "      <td>NaN</td>\n",
       "      <td>NaN</td>\n",
       "      <td>NaN</td>\n",
       "      <td>15000.000000</td>\n",
       "    </tr>\n",
       "    <tr>\n",
       "      <th>1854</th>\n",
       "      <td>7198</td>\n",
       "      <td>32.0</td>\n",
       "      <td>0.0</td>\n",
       "      <td>NaN</td>\n",
       "      <td>NaN</td>\n",
       "      <td>NaN</td>\n",
       "      <td>NaN</td>\n",
       "      <td>NaN</td>\n",
       "      <td>more than 1 million</td>\n",
       "      <td>1.0</td>\n",
       "      <td>...</td>\n",
       "      <td>NaN</td>\n",
       "      <td>1.0</td>\n",
       "      <td>1.0</td>\n",
       "      <td>1.0</td>\n",
       "      <td>NaN</td>\n",
       "      <td>NaN</td>\n",
       "      <td>NaN</td>\n",
       "      <td>NaN</td>\n",
       "      <td>NaN</td>\n",
       "      <td>14000.000000</td>\n",
       "    </tr>\n",
       "    <tr>\n",
       "      <th>1933</th>\n",
       "      <td>7505</td>\n",
       "      <td>26.0</td>\n",
       "      <td>1.0</td>\n",
       "      <td>0.0</td>\n",
       "      <td>1.0</td>\n",
       "      <td>Codeup</td>\n",
       "      <td>0.0</td>\n",
       "      <td>NaN</td>\n",
       "      <td>more than 1 million</td>\n",
       "      <td>NaN</td>\n",
       "      <td>...</td>\n",
       "      <td>NaN</td>\n",
       "      <td>NaN</td>\n",
       "      <td>NaN</td>\n",
       "      <td>NaN</td>\n",
       "      <td>1.0</td>\n",
       "      <td>NaN</td>\n",
       "      <td>NaN</td>\n",
       "      <td>NaN</td>\n",
       "      <td>NaN</td>\n",
       "      <td>6666.666667</td>\n",
       "    </tr>\n",
       "    <tr>\n",
       "      <th>2490</th>\n",
       "      <td>9778</td>\n",
       "      <td>33.0</td>\n",
       "      <td>1.0</td>\n",
       "      <td>0.0</td>\n",
       "      <td>1.0</td>\n",
       "      <td>Grand Circus</td>\n",
       "      <td>1.0</td>\n",
       "      <td>NaN</td>\n",
       "      <td>between 100,000 and 1 million</td>\n",
       "      <td>NaN</td>\n",
       "      <td>...</td>\n",
       "      <td>NaN</td>\n",
       "      <td>NaN</td>\n",
       "      <td>NaN</td>\n",
       "      <td>NaN</td>\n",
       "      <td>NaN</td>\n",
       "      <td>NaN</td>\n",
       "      <td>NaN</td>\n",
       "      <td>NaN</td>\n",
       "      <td>NaN</td>\n",
       "      <td>8000.000000</td>\n",
       "    </tr>\n",
       "    <tr>\n",
       "      <th>3503</th>\n",
       "      <td>16650</td>\n",
       "      <td>29.0</td>\n",
       "      <td>0.0</td>\n",
       "      <td>NaN</td>\n",
       "      <td>NaN</td>\n",
       "      <td>NaN</td>\n",
       "      <td>NaN</td>\n",
       "      <td>2.0</td>\n",
       "      <td>more than 1 million</td>\n",
       "      <td>NaN</td>\n",
       "      <td>...</td>\n",
       "      <td>NaN</td>\n",
       "      <td>NaN</td>\n",
       "      <td>NaN</td>\n",
       "      <td>NaN</td>\n",
       "      <td>NaN</td>\n",
       "      <td>NaN</td>\n",
       "      <td>NaN</td>\n",
       "      <td>NaN</td>\n",
       "      <td>1.0</td>\n",
       "      <td>16666.666667</td>\n",
       "    </tr>\n",
       "    <tr>\n",
       "      <th>3601</th>\n",
       "      <td>16997</td>\n",
       "      <td>27.0</td>\n",
       "      <td>0.0</td>\n",
       "      <td>NaN</td>\n",
       "      <td>NaN</td>\n",
       "      <td>NaN</td>\n",
       "      <td>NaN</td>\n",
       "      <td>1.0</td>\n",
       "      <td>more than 1 million</td>\n",
       "      <td>NaN</td>\n",
       "      <td>...</td>\n",
       "      <td>NaN</td>\n",
       "      <td>NaN</td>\n",
       "      <td>NaN</td>\n",
       "      <td>NaN</td>\n",
       "      <td>NaN</td>\n",
       "      <td>NaN</td>\n",
       "      <td>NaN</td>\n",
       "      <td>NaN</td>\n",
       "      <td>NaN</td>\n",
       "      <td>12500.000000</td>\n",
       "    </tr>\n",
       "    <tr>\n",
       "      <th>3662</th>\n",
       "      <td>17231</td>\n",
       "      <td>50.0</td>\n",
       "      <td>0.0</td>\n",
       "      <td>NaN</td>\n",
       "      <td>NaN</td>\n",
       "      <td>NaN</td>\n",
       "      <td>NaN</td>\n",
       "      <td>2.0</td>\n",
       "      <td>less than 100,000</td>\n",
       "      <td>NaN</td>\n",
       "      <td>...</td>\n",
       "      <td>NaN</td>\n",
       "      <td>NaN</td>\n",
       "      <td>NaN</td>\n",
       "      <td>NaN</td>\n",
       "      <td>NaN</td>\n",
       "      <td>NaN</td>\n",
       "      <td>NaN</td>\n",
       "      <td>NaN</td>\n",
       "      <td>NaN</td>\n",
       "      <td>15000.000000</td>\n",
       "    </tr>\n",
       "  </tbody>\n",
       "</table>\n",
       "<p>11 rows × 138 columns</p>\n",
       "</div>"
      ],
      "text/plain": [
       "      index   Age  AttendedBootcamp  BootcampFinish  BootcampLoanYesNo  \\\n",
       "196     718  26.0               1.0             0.0                0.0   \n",
       "346    1222  32.0               1.0             0.0                0.0   \n",
       "871    3184  34.0               1.0             1.0                0.0   \n",
       "1055   3930  31.0               0.0             NaN                NaN   \n",
       "1758   6805  46.0               1.0             1.0                1.0   \n",
       "1854   7198  32.0               0.0             NaN                NaN   \n",
       "1933   7505  26.0               1.0             0.0                1.0   \n",
       "2490   9778  33.0               1.0             0.0                1.0   \n",
       "3503  16650  29.0               0.0             NaN                NaN   \n",
       "3601  16997  27.0               0.0             NaN                NaN   \n",
       "3662  17231  50.0               0.0             NaN                NaN   \n",
       "\n",
       "                                BootcampName  BootcampRecommend  \\\n",
       "196   The Coding Boot Camp at UCLA Extension                1.0   \n",
       "346                            The Iron Yard                1.0   \n",
       "871                           We Can Code IT                1.0   \n",
       "1055                                     NaN                NaN   \n",
       "1758                                Sabio.la                0.0   \n",
       "1854                                     NaN                NaN   \n",
       "1933                                  Codeup                0.0   \n",
       "2490                            Grand Circus                1.0   \n",
       "3503                                     NaN                NaN   \n",
       "3601                                     NaN                NaN   \n",
       "3662                                     NaN                NaN   \n",
       "\n",
       "      ChildrenNumber                 CityPopulation  CodeEventConferences  \\\n",
       "196              NaN            more than 1 million                   1.0   \n",
       "346              NaN  between 100,000 and 1 million                   NaN   \n",
       "871              NaN            more than 1 million                   NaN   \n",
       "1055             NaN  between 100,000 and 1 million                   NaN   \n",
       "1758             NaN  between 100,000 and 1 million                   NaN   \n",
       "1854             NaN            more than 1 million                   1.0   \n",
       "1933             NaN            more than 1 million                   NaN   \n",
       "2490             NaN  between 100,000 and 1 million                   NaN   \n",
       "3503             2.0            more than 1 million                   NaN   \n",
       "3601             1.0            more than 1 million                   NaN   \n",
       "3662             2.0              less than 100,000                   NaN   \n",
       "\n",
       "          ...        YouTubeFunFunFunction  YouTubeGoogleDev  \\\n",
       "196       ...                          NaN               NaN   \n",
       "346       ...                          NaN               NaN   \n",
       "871       ...                          NaN               NaN   \n",
       "1055      ...                          1.0               1.0   \n",
       "1758      ...                          NaN               NaN   \n",
       "1854      ...                          NaN               1.0   \n",
       "1933      ...                          NaN               NaN   \n",
       "2490      ...                          NaN               NaN   \n",
       "3503      ...                          NaN               NaN   \n",
       "3601      ...                          NaN               NaN   \n",
       "3662      ...                          NaN               NaN   \n",
       "\n",
       "      YouTubeLearnCode  YouTubeLevelUpTuts  YouTubeMIT  YouTubeMozillaHacks  \\\n",
       "196                NaN                 NaN         NaN                  NaN   \n",
       "346                1.0                 NaN         NaN                  NaN   \n",
       "871                NaN                 NaN         NaN                  NaN   \n",
       "1055               1.0                 1.0         1.0                  NaN   \n",
       "1758               NaN                 NaN         NaN                  NaN   \n",
       "1854               1.0                 1.0         NaN                  NaN   \n",
       "1933               NaN                 NaN         1.0                  NaN   \n",
       "2490               NaN                 NaN         NaN                  NaN   \n",
       "3503               NaN                 NaN         NaN                  NaN   \n",
       "3601               NaN                 NaN         NaN                  NaN   \n",
       "3662               NaN                 NaN         NaN                  NaN   \n",
       "\n",
       "                    YouTubeOther  YouTubeSimplilearn YouTubeTheNewBoston  \\\n",
       "196                          NaN                 NaN                 NaN   \n",
       "346                          NaN                 NaN                 NaN   \n",
       "871                          NaN                 NaN                 NaN   \n",
       "1055  various conf presentations                 NaN                 NaN   \n",
       "1758                         NaN                 NaN                 NaN   \n",
       "1854                         NaN                 NaN                 NaN   \n",
       "1933                         NaN                 NaN                 NaN   \n",
       "2490                         NaN                 NaN                 NaN   \n",
       "3503                         NaN                 NaN                 1.0   \n",
       "3601                         NaN                 NaN                 NaN   \n",
       "3662                         NaN                 NaN                 NaN   \n",
       "\n",
       "      MoneyPerMonth  \n",
       "196     8000.000000  \n",
       "346     6500.000000  \n",
       "871     9000.000000  \n",
       "1055   10833.333333  \n",
       "1758   15000.000000  \n",
       "1854   14000.000000  \n",
       "1933    6666.666667  \n",
       "2490    8000.000000  \n",
       "3503   16666.666667  \n",
       "3601   12500.000000  \n",
       "3662   15000.000000  \n",
       "\n",
       "[11 rows x 138 columns]"
      ]
     },
     "execution_count": 40,
     "metadata": {},
     "output_type": "execute_result"
    }
   ],
   "source": [
    "usa_outliers = four_countries[\n",
    "    (four_countries['CountryLive'] == 'United States of America') \n",
    "    & (four_countries['MoneyPerMonth'] >= 6000)]\n",
    "usa_outliers"
   ]
  },
  {
   "cell_type": "markdown",
   "metadata": {},
   "source": [
    "6 out of 10 participant attended bootcamps, which justify the large amount of money spent on learning coding.  For the other five, it is hard to figure out where they could have spent on learning.  Consequently, we are going to remove those five participants who didn't attend bootcamps while showing over $6000 spending on learning.\n",
    "\n",
    "Also, the data shows that eight respondents had been programming for no more than three months when they completed the survey. They most likely paid a large sum of money for a bootcamp that was going to last for several months, so the amount of money spent per month is unrealistic and should be significantly lower (because they probably didn't spend anything for the next couple of months after the survey). As a consequence, we'll remove every these eight outliers."
   ]
  },
  {
   "cell_type": "code",
   "execution_count": 44,
   "metadata": {
    "collapsed": false
   },
   "outputs": [],
   "source": [
    "# remove those who didn't attend bootcamp\n",
    "usa_no_bootcamp = four_countries[\n",
    "    (four_countries['CountryLive'] == 'United States of America')\n",
    "    & (four_countries['MoneyPerMonth'] >= 6000)\n",
    "    & (four_countries['AttendedBootcamp'] == 0)]\n",
    "\n",
    "four_countries = four_countries.drop(usa_no_bootcamp.index)\n",
    "\n",
    "# remove the respondents who spent less than 3 moths on programming\n",
    "usa_3months_less = four_countries[\n",
    "    (four_countries['CountryLive'] == 'United States of America') \n",
    "    & (four_countries['MoneyPerMonth'] >= 6000) \n",
    "    & (four_countries['MonthsProgramming'] <= 3)]\n",
    "\n",
    "four_countries = four_countries.drop(usa_3months_less.index)\n"
   ]
  },
  {
   "cell_type": "markdown",
   "metadata": {},
   "source": [
    "#### Canada Outliers\n",
    "\n",
    "From the above boxplot, there is one Canadian who spent more than $4000 a month on learning to code.  Let's exam that participant in detail"
   ]
  },
  {
   "cell_type": "code",
   "execution_count": 45,
   "metadata": {
    "collapsed": false
   },
   "outputs": [
    {
     "data": {
      "text/html": [
       "<div>\n",
       "<style scoped>\n",
       "    .dataframe tbody tr th:only-of-type {\n",
       "        vertical-align: middle;\n",
       "    }\n",
       "\n",
       "    .dataframe tbody tr th {\n",
       "        vertical-align: top;\n",
       "    }\n",
       "\n",
       "    .dataframe thead th {\n",
       "        text-align: right;\n",
       "    }\n",
       "</style>\n",
       "<table border=\"1\" class=\"dataframe\">\n",
       "  <thead>\n",
       "    <tr style=\"text-align: right;\">\n",
       "      <th></th>\n",
       "      <th>index</th>\n",
       "      <th>Age</th>\n",
       "      <th>AttendedBootcamp</th>\n",
       "      <th>BootcampFinish</th>\n",
       "      <th>BootcampLoanYesNo</th>\n",
       "      <th>BootcampName</th>\n",
       "      <th>BootcampRecommend</th>\n",
       "      <th>ChildrenNumber</th>\n",
       "      <th>CityPopulation</th>\n",
       "      <th>CodeEventConferences</th>\n",
       "      <th>...</th>\n",
       "      <th>YouTubeFunFunFunction</th>\n",
       "      <th>YouTubeGoogleDev</th>\n",
       "      <th>YouTubeLearnCode</th>\n",
       "      <th>YouTubeLevelUpTuts</th>\n",
       "      <th>YouTubeMIT</th>\n",
       "      <th>YouTubeMozillaHacks</th>\n",
       "      <th>YouTubeOther</th>\n",
       "      <th>YouTubeSimplilearn</th>\n",
       "      <th>YouTubeTheNewBoston</th>\n",
       "      <th>MoneyPerMonth</th>\n",
       "    </tr>\n",
       "  </thead>\n",
       "  <tbody>\n",
       "    <tr>\n",
       "      <th>2969</th>\n",
       "      <td>13659</td>\n",
       "      <td>24.0</td>\n",
       "      <td>1.0</td>\n",
       "      <td>0.0</td>\n",
       "      <td>0.0</td>\n",
       "      <td>Bloc.io</td>\n",
       "      <td>1.0</td>\n",
       "      <td>NaN</td>\n",
       "      <td>more than 1 million</td>\n",
       "      <td>1.0</td>\n",
       "      <td>...</td>\n",
       "      <td>NaN</td>\n",
       "      <td>NaN</td>\n",
       "      <td>NaN</td>\n",
       "      <td>NaN</td>\n",
       "      <td>1.0</td>\n",
       "      <td>NaN</td>\n",
       "      <td>NaN</td>\n",
       "      <td>NaN</td>\n",
       "      <td>NaN</td>\n",
       "      <td>5000.0</td>\n",
       "    </tr>\n",
       "  </tbody>\n",
       "</table>\n",
       "<p>1 rows × 138 columns</p>\n",
       "</div>"
      ],
      "text/plain": [
       "      index   Age  AttendedBootcamp  BootcampFinish  BootcampLoanYesNo  \\\n",
       "2969  13659  24.0               1.0             0.0                0.0   \n",
       "\n",
       "     BootcampName  BootcampRecommend  ChildrenNumber       CityPopulation  \\\n",
       "2969      Bloc.io                1.0             NaN  more than 1 million   \n",
       "\n",
       "      CodeEventConferences      ...        YouTubeFunFunFunction  \\\n",
       "2969                   1.0      ...                          NaN   \n",
       "\n",
       "      YouTubeGoogleDev  YouTubeLearnCode  YouTubeLevelUpTuts  YouTubeMIT  \\\n",
       "2969               NaN               NaN                 NaN         1.0   \n",
       "\n",
       "      YouTubeMozillaHacks  YouTubeOther  YouTubeSimplilearn  \\\n",
       "2969                  NaN           NaN                 NaN   \n",
       "\n",
       "     YouTubeTheNewBoston  MoneyPerMonth  \n",
       "2969                 NaN         5000.0  \n",
       "\n",
       "[1 rows x 138 columns]"
      ]
     },
     "execution_count": 45,
     "metadata": {},
     "output_type": "execute_result"
    }
   ],
   "source": [
    "canada_outliers = four_countries[\n",
    "    (four_countries['CountryLive'] == 'Canada')\n",
    "    & (four_countries['MoneyPerMonth'] > 4000)]\n",
    "canada_outliers"
   ]
  },
  {
   "cell_type": "markdown",
   "metadata": {},
   "source": [
    "Here the situation is probably the same with some of USA repondents, who spent a large amount of money in the beginning to enrol in bootcamp but would not spend much in the next few months.  We will take the same approach to take out this outlier."
   ]
  },
  {
   "cell_type": "code",
   "execution_count": 47,
   "metadata": {
    "collapsed": true
   },
   "outputs": [],
   "source": [
    "# remove the Canadian outlier\n",
    "four_countries = four_countries.drop(canada_outliers.index)\n"
   ]
  },
  {
   "cell_type": "markdown",
   "metadata": {},
   "source": [
    "### Recompute the mean and regenerate the box plot\n",
    "***"
   ]
  },
  {
   "cell_type": "code",
   "execution_count": 48,
   "metadata": {
    "collapsed": false
   },
   "outputs": [
    {
     "name": "stdout",
     "output_type": "stream",
     "text": [
      "CountryLive\n",
      "Canada                       93.065400\n",
      "India                        65.758763\n",
      "United Kingdom               45.534443\n",
      "United States of America    142.654608\n",
      "Name: MoneyPerMonth, dtype: float64\n"
     ]
    },
    {
     "data": {
      "text/html": [
       "<div>\n",
       "<style scoped>\n",
       "    .dataframe tbody tr th:only-of-type {\n",
       "        vertical-align: middle;\n",
       "    }\n",
       "\n",
       "    .dataframe tbody tr th {\n",
       "        vertical-align: top;\n",
       "    }\n",
       "\n",
       "    .dataframe thead th {\n",
       "        text-align: right;\n",
       "    }\n",
       "</style>\n",
       "<table border=\"1\" class=\"dataframe\">\n",
       "  <thead>\n",
       "    <tr style=\"text-align: right;\">\n",
       "      <th></th>\n",
       "      <th>index</th>\n",
       "      <th>Age</th>\n",
       "      <th>AttendedBootcamp</th>\n",
       "      <th>BootcampFinish</th>\n",
       "      <th>BootcampLoanYesNo</th>\n",
       "      <th>BootcampRecommend</th>\n",
       "      <th>ChildrenNumber</th>\n",
       "      <th>CodeEventConferences</th>\n",
       "      <th>CodeEventDjangoGirls</th>\n",
       "      <th>CodeEventFCC</th>\n",
       "      <th>...</th>\n",
       "      <th>YouTubeFCC</th>\n",
       "      <th>YouTubeFunFunFunction</th>\n",
       "      <th>YouTubeGoogleDev</th>\n",
       "      <th>YouTubeLearnCode</th>\n",
       "      <th>YouTubeLevelUpTuts</th>\n",
       "      <th>YouTubeMIT</th>\n",
       "      <th>YouTubeMozillaHacks</th>\n",
       "      <th>YouTubeSimplilearn</th>\n",
       "      <th>YouTubeTheNewBoston</th>\n",
       "      <th>MoneyPerMonth</th>\n",
       "    </tr>\n",
       "    <tr>\n",
       "      <th>CountryLive</th>\n",
       "      <th></th>\n",
       "      <th></th>\n",
       "      <th></th>\n",
       "      <th></th>\n",
       "      <th></th>\n",
       "      <th></th>\n",
       "      <th></th>\n",
       "      <th></th>\n",
       "      <th></th>\n",
       "      <th></th>\n",
       "      <th></th>\n",
       "      <th></th>\n",
       "      <th></th>\n",
       "      <th></th>\n",
       "      <th></th>\n",
       "      <th></th>\n",
       "      <th></th>\n",
       "      <th></th>\n",
       "      <th></th>\n",
       "      <th></th>\n",
       "      <th></th>\n",
       "    </tr>\n",
       "  </thead>\n",
       "  <tbody>\n",
       "    <tr>\n",
       "      <th>Canada</th>\n",
       "      <td>8203.564854</td>\n",
       "      <td>26.936975</td>\n",
       "      <td>0.033613</td>\n",
       "      <td>0.714286</td>\n",
       "      <td>0.250000</td>\n",
       "      <td>0.500000</td>\n",
       "      <td>1.888889</td>\n",
       "      <td>1.0</td>\n",
       "      <td>NaN</td>\n",
       "      <td>1.0</td>\n",
       "      <td>...</td>\n",
       "      <td>1.0</td>\n",
       "      <td>1.0</td>\n",
       "      <td>1.0</td>\n",
       "      <td>1.0</td>\n",
       "      <td>1.0</td>\n",
       "      <td>1.0</td>\n",
       "      <td>1.0</td>\n",
       "      <td>NaN</td>\n",
       "      <td>1.0</td>\n",
       "      <td>93.065400</td>\n",
       "    </tr>\n",
       "    <tr>\n",
       "      <th>India</th>\n",
       "      <td>7894.334792</td>\n",
       "      <td>21.433628</td>\n",
       "      <td>0.015385</td>\n",
       "      <td>0.166667</td>\n",
       "      <td>0.166667</td>\n",
       "      <td>0.833333</td>\n",
       "      <td>1.333333</td>\n",
       "      <td>1.0</td>\n",
       "      <td>1.0</td>\n",
       "      <td>1.0</td>\n",
       "      <td>...</td>\n",
       "      <td>1.0</td>\n",
       "      <td>1.0</td>\n",
       "      <td>1.0</td>\n",
       "      <td>1.0</td>\n",
       "      <td>1.0</td>\n",
       "      <td>1.0</td>\n",
       "      <td>1.0</td>\n",
       "      <td>1.0</td>\n",
       "      <td>1.0</td>\n",
       "      <td>65.758763</td>\n",
       "    </tr>\n",
       "    <tr>\n",
       "      <th>United Kingdom</th>\n",
       "      <td>7979.612903</td>\n",
       "      <td>28.620939</td>\n",
       "      <td>0.025090</td>\n",
       "      <td>0.714286</td>\n",
       "      <td>0.571429</td>\n",
       "      <td>0.857143</td>\n",
       "      <td>1.833333</td>\n",
       "      <td>1.0</td>\n",
       "      <td>1.0</td>\n",
       "      <td>1.0</td>\n",
       "      <td>...</td>\n",
       "      <td>1.0</td>\n",
       "      <td>1.0</td>\n",
       "      <td>1.0</td>\n",
       "      <td>1.0</td>\n",
       "      <td>1.0</td>\n",
       "      <td>1.0</td>\n",
       "      <td>1.0</td>\n",
       "      <td>1.0</td>\n",
       "      <td>1.0</td>\n",
       "      <td>45.534443</td>\n",
       "    </tr>\n",
       "    <tr>\n",
       "      <th>United States of America</th>\n",
       "      <td>8612.298630</td>\n",
       "      <td>29.359072</td>\n",
       "      <td>0.079835</td>\n",
       "      <td>0.537118</td>\n",
       "      <td>0.334783</td>\n",
       "      <td>0.773913</td>\n",
       "      <td>1.919776</td>\n",
       "      <td>1.0</td>\n",
       "      <td>1.0</td>\n",
       "      <td>1.0</td>\n",
       "      <td>...</td>\n",
       "      <td>1.0</td>\n",
       "      <td>1.0</td>\n",
       "      <td>1.0</td>\n",
       "      <td>1.0</td>\n",
       "      <td>1.0</td>\n",
       "      <td>1.0</td>\n",
       "      <td>1.0</td>\n",
       "      <td>1.0</td>\n",
       "      <td>1.0</td>\n",
       "      <td>142.654608</td>\n",
       "    </tr>\n",
       "  </tbody>\n",
       "</table>\n",
       "<p>4 rows × 107 columns</p>\n",
       "</div>"
      ],
      "text/plain": [
       "                                index        Age  AttendedBootcamp  \\\n",
       "CountryLive                                                          \n",
       "Canada                    8203.564854  26.936975          0.033613   \n",
       "India                     7894.334792  21.433628          0.015385   \n",
       "United Kingdom            7979.612903  28.620939          0.025090   \n",
       "United States of America  8612.298630  29.359072          0.079835   \n",
       "\n",
       "                          BootcampFinish  BootcampLoanYesNo  \\\n",
       "CountryLive                                                   \n",
       "Canada                          0.714286           0.250000   \n",
       "India                           0.166667           0.166667   \n",
       "United Kingdom                  0.714286           0.571429   \n",
       "United States of America        0.537118           0.334783   \n",
       "\n",
       "                          BootcampRecommend  ChildrenNumber  \\\n",
       "CountryLive                                                   \n",
       "Canada                             0.500000        1.888889   \n",
       "India                              0.833333        1.333333   \n",
       "United Kingdom                     0.857143        1.833333   \n",
       "United States of America           0.773913        1.919776   \n",
       "\n",
       "                          CodeEventConferences  CodeEventDjangoGirls  \\\n",
       "CountryLive                                                            \n",
       "Canada                                     1.0                   NaN   \n",
       "India                                      1.0                   1.0   \n",
       "United Kingdom                             1.0                   1.0   \n",
       "United States of America                   1.0                   1.0   \n",
       "\n",
       "                          CodeEventFCC      ...        YouTubeFCC  \\\n",
       "CountryLive                                 ...                     \n",
       "Canada                             1.0      ...               1.0   \n",
       "India                              1.0      ...               1.0   \n",
       "United Kingdom                     1.0      ...               1.0   \n",
       "United States of America           1.0      ...               1.0   \n",
       "\n",
       "                          YouTubeFunFunFunction  YouTubeGoogleDev  \\\n",
       "CountryLive                                                         \n",
       "Canada                                      1.0               1.0   \n",
       "India                                       1.0               1.0   \n",
       "United Kingdom                              1.0               1.0   \n",
       "United States of America                    1.0               1.0   \n",
       "\n",
       "                          YouTubeLearnCode  YouTubeLevelUpTuts  YouTubeMIT  \\\n",
       "CountryLive                                                                  \n",
       "Canada                                 1.0                 1.0         1.0   \n",
       "India                                  1.0                 1.0         1.0   \n",
       "United Kingdom                         1.0                 1.0         1.0   \n",
       "United States of America               1.0                 1.0         1.0   \n",
       "\n",
       "                          YouTubeMozillaHacks  YouTubeSimplilearn  \\\n",
       "CountryLive                                                         \n",
       "Canada                                    1.0                 NaN   \n",
       "India                                     1.0                 1.0   \n",
       "United Kingdom                            1.0                 1.0   \n",
       "United States of America                  1.0                 1.0   \n",
       "\n",
       "                          YouTubeTheNewBoston  MoneyPerMonth  \n",
       "CountryLive                                                   \n",
       "Canada                                    1.0      93.065400  \n",
       "India                                     1.0      65.758763  \n",
       "United Kingdom                            1.0      45.534443  \n",
       "United States of America                  1.0     142.654608  \n",
       "\n",
       "[4 rows x 107 columns]"
      ]
     },
     "execution_count": 48,
     "metadata": {},
     "output_type": "execute_result"
    }
   ],
   "source": [
    "countries_mean(four_countries)"
   ]
  },
  {
   "cell_type": "code",
   "execution_count": 49,
   "metadata": {
    "collapsed": false
   },
   "outputs": [
    {
     "name": "stderr",
     "output_type": "stream",
     "text": [
      "/dataquest/system/env/python3/lib/python3.4/site-packages/seaborn/categorical.py:454: FutureWarning: remove_na is deprecated and is a private function. Do not use.\n",
      "  box_data = remove_na(group_data)\n"
     ]
    },
    {
     "data": {
      "image/png": "[encoded data removed]",
      "text/plain": [
       "<matplotlib.figure.Figure at 0x7efd6c426dd8>"
      ]
     },
     "metadata": {},
     "output_type": "display_data"
    }
   ],
   "source": [
    "countries_boxplot(four_countries)\n"
   ]
  },
  {
   "cell_type": "markdown",
   "metadata": {},
   "source": [
    "### Choose the Best Two Markets\n",
    "***"
   ]
  },
  {
   "cell_type": "markdown",
   "metadata": {},
   "source": [
    "Obviously, USA is our top choice for advertising because people on average spent about $143 per month on learning.\n",
    "\n",
    "We sell subscription at $59 per month.  It seems that Cannada is the second best choice as they spent on average $93 per month compared to India (about $65 per month) and UK (about $45 per month).  Before we make decision, we check  frequency of respondents in different countries."
   ]
  },
  {
   "cell_type": "code",
   "execution_count": 52,
   "metadata": {
    "collapsed": false
   },
   "outputs": [
    {
     "data": {
      "text/plain": [
       "United States of America    74.967908\n",
       "India                       11.732991\n",
       "United Kingdom               7.163030\n",
       "Canada                       6.136072\n",
       "Name: CountryLive, dtype: float64"
      ]
     },
     "execution_count": 52,
     "metadata": {},
     "output_type": "execute_result"
    }
   ],
   "source": [
    "# frequency of participants in different countries\n",
    "four_countries['CountryLive'].value_counts(normalize=True) * 100\n"
   ]
  },
  {
   "cell_type": "markdown",
   "metadata": {},
   "source": [
    "### Conclusion\n",
    "***"
   ]
  },
  {
   "cell_type": "markdown",
   "metadata": {},
   "source": [
    "There are twice as many respondents in India as there are in Canada. It is a dilemma to choose between Canada and India.  Although it is tempting to choose Canada, there are good chances that India might actually be a best second choice because of the larget number of potential customers.  \n",
    "\n",
    "It is probably best to send our analysis to marketing team and let them use domain knowledge to decide which markets to choose and how to split advertising money.  \n"
   ]
  }
 ],
 "metadata": {
  "kernelspec": {
   "display_name": "Python 3",
   "language": "python",
   "name": "python3"
  },
  "language_info": {
   "codemirror_mode": {
    "name": "ipython",
    "version": 3
   },
   "file_extension": ".py",
   "mimetype": "text/x-python",
   "name": "python",
   "nbconvert_exporter": "python",
   "pygments_lexer": "ipython3",
   "version": "3.4.3"
  }
 },
 "nbformat": 4,
 "nbformat_minor": 2
}
