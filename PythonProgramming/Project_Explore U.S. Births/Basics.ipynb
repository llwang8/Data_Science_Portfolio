{
 "cells": [
  {
   "cell_type": "markdown",
   "metadata": {
    "collapsed": true
   },
   "source": [
    "###  Explore dataset on births in the U.S.\n",
    "\n",
    "working with the dataset on births in the U.S., compiled by FiveThirtyEight. \n"
   ]
  },
  {
   "cell_type": "code",
   "execution_count": 2,
   "metadata": {
    "collapsed": false
   },
   "outputs": [
    {
     "name": "stdout",
     "output_type": "stream",
     "text": [
      "['year,month,date_of_month,day_of_week,births', '1994,1,1,6,8096', '1994,1,2,7,7772', '1994,1,3,1,10142', '1994,1,4,2,11248', '1994,1,5,3,11053', '1994,1,6,4,11406', '1994,1,7,5,11251', '1994,1,8,6,8653', '1994,1,9,7,7910']\n"
     ]
    }
   ],
   "source": [
    "data = open('US_births_1994-2003_CDC_NCHS.csv', 'r').read().split('\\n')\n",
    "print(data[0:10])"
   ]
  },
  {
   "cell_type": "code",
   "execution_count": 2,
   "metadata": {
    "collapsed": false
   },
   "outputs": [
    {
     "name": "stdout",
     "output_type": "stream",
     "text": [
      "[[1994, 1, 1, 6, 8096], [1994, 1, 2, 7, 7772], [1994, 1, 3, 1, 10142], [1994, 1, 4, 2, 11248], [1994, 1, 5, 3, 11053], [1994, 1, 6, 4, 11406], [1994, 1, 7, 5, 11251], [1994, 1, 8, 6, 8653], [1994, 1, 9, 7, 7910], [1994, 1, 10, 1, 10498]]\n"
     ]
    }
   ],
   "source": [
    "# Create a function to read in string data from csv file and \n",
    "# and convert each field to integer and return a list of lists \n",
    "# of intergers\n",
    "\n",
    "def read_csv(file):\n",
    "    string_list = open(file, 'r').read().split('\\n')[1:]\n",
    "    final_list = []\n",
    "    for yr in string_list:\n",
    "        int_fields = []\n",
    "        string_fields = yr.split(',')\n",
    "        int_fields = [int(x) for x in string_fields]\n",
    "        final_list.append(int_fields)\n",
    "    return final_list\n",
    "\n",
    "# CDC data of births from 1994 to 2003\n",
    "cdc_list = read_csv('US_births_1994-2003_CDC_NCHS.csv')\n",
    "\n",
    "print(cdc_list[0:10])    "
   ]
  },
  {
   "cell_type": "code",
   "execution_count": 2,
   "metadata": {
    "collapsed": false
   },
   "outputs": [
    {
     "data": {
      "text/plain": [
       "{1: 3232517,\n",
       " 2: 3018140,\n",
       " 3: 3322069,\n",
       " 4: 3185314,\n",
       " 5: 3350907,\n",
       " 6: 3296530,\n",
       " 7: 3498783,\n",
       " 8: 3525858,\n",
       " 9: 3439698,\n",
       " 10: 3378814,\n",
       " 11: 3171647,\n",
       " 12: 3301860}"
      ]
     },
     "execution_count": 2,
     "metadata": {},
     "output_type": "execute_result"
    }
   ],
   "source": [
    "# calculate the total number of births that occured in\n",
    "# each month, across all of the years in the dataset.\n",
    "\n",
    "def month_births(blist):\n",
    "    births_per_month = {}\n",
    "    for yr in blist:\n",
    "        month = yr[1]\n",
    "        births = yr[4]\n",
    "        if month in births_per_month:\n",
    "            births_per_month[month] += births\n",
    "        else:\n",
    "            births_per_month[month] = births\n",
    "    return births_per_month\n",
    "\n",
    "# cdc births dataset: births by month over 1994 to 2003\n",
    "cdc_month_births = month_births(cdc_list)\n",
    "cdc_month_births\n",
    "    "
   ]
  },
  {
   "cell_type": "code",
   "execution_count": 3,
   "metadata": {
    "collapsed": false
   },
   "outputs": [
    {
     "data": {
      "text/plain": [
       "{1: 5789166,\n",
       " 2: 6446196,\n",
       " 3: 6322855,\n",
       " 4: 6288429,\n",
       " 5: 6233657,\n",
       " 6: 4562111,\n",
       " 7: 4079723}"
      ]
     },
     "execution_count": 3,
     "metadata": {},
     "output_type": "execute_result"
    }
   ],
   "source": [
    "# Create a function that calculates the total number of\n",
    "# births for each unique day of the week\n",
    "\n",
    "def dow_births(blist):\n",
    "    result = {}\n",
    "    for row in blist:\n",
    "        if row[3] in result:\n",
    "            result[row[3]] += row[4]\n",
    "        else:\n",
    "            result[row[3]] = row[4]\n",
    "    return result\n",
    "\n",
    "# cdc births dataset: births by day of the week\n",
    "cdc_day_births = dow_births(cdc_list)\n",
    "cdc_day_births"
   ]
  },
  {
   "cell_type": "code",
   "execution_count": 6,
   "metadata": {
    "collapsed": false
   },
   "outputs": [
    {
     "data": {
      "text/plain": [
       "{1: 3232517,\n",
       " 2: 3018140,\n",
       " 3: 3322069,\n",
       " 4: 3185314,\n",
       " 5: 3350907,\n",
       " 6: 3296530,\n",
       " 7: 3498783,\n",
       " 8: 3525858,\n",
       " 9: 3439698,\n",
       " 10: 3378814,\n",
       " 11: 3171647,\n",
       " 12: 3301860}"
      ]
     },
     "execution_count": 6,
     "metadata": {},
     "output_type": "execute_result"
    }
   ],
   "source": [
    "# create a single function that works for any column \n",
    "# to tally births by.\n",
    "\n",
    "def calc_counts(data, column):\n",
    "    result = {}\n",
    "    for row in data:\n",
    "        if row[column] in result:\n",
    "            result[row[column]] += row[4]\n",
    "        else:\n",
    "            result[row[column]] = row[4]\n",
    "    return result\n",
    "\n",
    "# Apply function on cdc births data\n",
    "cdc_year_births = calc_counts(cdc_list, 0)\n",
    "cdc_month_births = calc_counts(cdc_list, 1)\n",
    "cdc_dom_births = calc_counts(cdc_list, 2)\n",
    "cdc_dow_births = calc_counts(cdc_list, 3)\n",
    "\n",
    "cdc_month_births"
   ]
  },
  {
   "cell_type": "code",
   "execution_count": null,
   "metadata": {
    "collapsed": true
   },
   "outputs": [],
   "source": [
    "# Create a function that can calculate the min and max \n",
    "# values for any dictionry that's passed in\n",
    "\n",
    "def find_min_max(data_dic):\n",
    "    val_list = data_dic.values()\n",
    "    return (min(val_list), max(val_list))\n"
   ]
  },
  {
   "cell_type": "code",
   "execution_count": null,
   "metadata": {
    "collapsed": true
   },
   "outputs": [],
   "source": [
    "# Create a function  that extracts the same values \n",
    "# across years and calculates the differences between \n",
    "# consecutive values to show if number of births is \n",
    "# increasing or decreasing.\n",
    "\n",
    "def across_year(data, column, val):\n",
    "    result = {}\n",
    "    for row in data:\n",
    "        year = row[0]\n",
    "        if row[column] == val:\n",
    "            if year in result:\n",
    "                result[year] += row[4]\n",
    "            else:\n",
    "                result[year] = row[4]\n",
    "\n",
    "# cdc births on Saturday from 1994 to 2003\n",
    "cdc_births_saturday = across_year(cdc_list, 3, 6)\n"
   ]
  },
  {
   "cell_type": "code",
   "execution_count": null,
   "metadata": {
    "collapsed": true
   },
   "outputs": [],
   "source": [
    "# Find a way to combine the CDC data with the SSA data\n",
    "# (https://github.com/fivethirtyeight/data/tree/master/births).\n",
    "# Specifically, brainstorm ways to deal with the \n",
    "# overlapping time periods in the datasets.\n",
    "\n",
    "ssa_list = read_csv('US_births_2000-2014_SSA.csv')\n",
    "\n",
    "combined_list = cdc_list[:]\n",
    "for row in ssa_list:\n",
    "    if row[0] > 2003:\n",
    "        combined_list.append(row)\n"
   ]
  }
 ],
 "metadata": {
  "anaconda-cloud": {},
  "kernelspec": {
   "display_name": "Python 3",
   "language": "python",
   "name": "python3"
  },
  "language_info": {
   "codemirror_mode": {
    "name": "ipython",
    "version": 3
   },
   "file_extension": ".py",
   "mimetype": "text/x-python",
   "name": "python",
   "nbconvert_exporter": "python",
   "pygments_lexer": "ipython3",
   "version": "3.4.3"
  }
 },
 "nbformat": 4,
 "nbformat_minor": 1
}
