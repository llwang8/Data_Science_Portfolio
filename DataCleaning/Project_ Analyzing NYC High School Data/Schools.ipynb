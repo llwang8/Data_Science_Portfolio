{
 "cells": [
  {
   "cell_type": "markdown",
   "metadata": {},
   "source": [
    "# Analyzing NYC High School Data\n",
    "\n",
    "This project is to explore relationships between SAT scores and demographic factors in New York City public schools. The project investigate the following files:\n",
    "\n",
    "SAT scores by school - SAT scores for each high school in New York City\n",
    "\n",
    "School attendance - Attendance information for each school in New York City\n",
    "\n",
    "Class size - Information on class size for each school\n",
    "\n",
    "AP test results - Advanced Placement (AP) exam results for each high school (passing an optional AP exam in a particular subject can earn a student college credit in that subject)\n",
    "\n",
    "Graduation outcomes - The percentage of students who graduated, and other outcome information\n",
    "\n",
    "Demographics - Demographic information for each school\n",
    "\n",
    "School survey - Surveys of parents, teachers, and students at each school"
   ]
  },
  {
   "cell_type": "markdown",
   "metadata": {},
   "source": [
    "## Process and Combine data"
   ]
  },
  {
   "cell_type": "markdown",
   "metadata": {},
   "source": [
    "#### Read in the data"
   ]
  },
  {
   "cell_type": "code",
   "execution_count": 2,
   "metadata": {
    "collapsed": true
   },
   "outputs": [],
   "source": [
    "import pandas as pd\n",
    "import numpy as np\n",
    "import re\n",
    "import matplotlib.pyplot as plt\n",
    "%matplotlib inline\n",
    "\n",
    "data_files = [\n",
    "    \"ap_2010.csv\",\n",
    "    \"class_size.csv\",\n",
    "    \"demographics.csv\",\n",
    "    \"graduation.csv\",\n",
    "    \"hs_directory.csv\",\n",
    "    \"sat_results.csv\"\n",
    "]\n",
    "\n",
    "data = {}\n",
    "\n",
    "for f in data_files:\n",
    "    d = pd.read_csv(\"schools/{0}\".format(f))\n",
    "    data[f.replace(\".csv\", \"\")] = d"
   ]
  },
  {
   "cell_type": "markdown",
   "metadata": {},
   "source": [
    "#### Read in the surveys"
   ]
  },
  {
   "cell_type": "code",
   "execution_count": 3,
   "metadata": {
    "collapsed": true
   },
   "outputs": [],
   "source": [
    "all_survey = pd.read_csv(\"schools/survey_all.txt\", delimiter=\"\\t\", encoding='windows-1252')\n",
    "d75_survey = pd.read_csv(\"schools/survey_d75.txt\", delimiter=\"\\t\", encoding='windows-1252')\n",
    "survey = pd.concat([all_survey, d75_survey], axis=0)\n",
    "\n",
    "survey[\"DBN\"] = survey[\"dbn\"]\n",
    "\n",
    "survey_fields = [\n",
    "    \"DBN\", \n",
    "    \"rr_s\", \n",
    "    \"rr_t\", \n",
    "    \"rr_p\", \n",
    "    \"N_s\", \n",
    "    \"N_t\", \n",
    "    \"N_p\", \n",
    "    \"saf_p_11\", \n",
    "    \"com_p_11\", \n",
    "    \"eng_p_11\", \n",
    "    \"aca_p_11\", \n",
    "    \"saf_t_11\", \n",
    "    \"com_t_11\", \n",
    "    \"eng_t_11\", \n",
    "    \"aca_t_11\", \n",
    "    \"saf_s_11\", \n",
    "    \"com_s_11\", \n",
    "    \"eng_s_11\", \n",
    "    \"aca_s_11\", \n",
    "    \"saf_tot_11\", \n",
    "    \"com_tot_11\", \n",
    "    \"eng_tot_11\", \n",
    "    \"aca_tot_11\",\n",
    "]\n",
    "survey = survey.loc[:,survey_fields]\n",
    "data[\"survey\"] = survey"
   ]
  },
  {
   "cell_type": "code",
   "execution_count": 4,
   "metadata": {
    "collapsed": false
   },
   "outputs": [
    {
     "name": "stdout",
     "output_type": "stream",
     "text": [
      "<class 'pandas.core.frame.DataFrame'>\n",
      "RangeIndex: 435 entries, 0 to 434\n",
      "Data columns (total 58 columns):\n",
      "dbn                                 435 non-null object\n",
      "school_name                         435 non-null object\n",
      "boro                                435 non-null object\n",
      "building_code                       435 non-null object\n",
      "phone_number                        435 non-null object\n",
      "fax_number                          423 non-null object\n",
      "grade_span_min                      435 non-null object\n",
      "grade_span_max                      435 non-null int64\n",
      "expgrade_span_min                   33 non-null object\n",
      "expgrade_span_max                   33 non-null float64\n",
      "bus                                 434 non-null object\n",
      "subway                              358 non-null object\n",
      "primary_address_line_1              435 non-null object\n",
      "city                                435 non-null object\n",
      "state_code                          435 non-null object\n",
      "zip                                 435 non-null int64\n",
      "website                             430 non-null object\n",
      "total_students                      426 non-null float64\n",
      "campus_name                         217 non-null object\n",
      "school_type                         104 non-null object\n",
      "overview_paragraph                  434 non-null object\n",
      "program_highlights                  434 non-null object\n",
      "language_classes                    412 non-null object\n",
      "advancedplacement_courses           340 non-null object\n",
      "online_ap_courses                   64 non-null object\n",
      "online_language_courses             73 non-null object\n",
      "extracurricular_activities          435 non-null object\n",
      "psal_sports_boys                    380 non-null object\n",
      "psal_sports_girls                   373 non-null object\n",
      "psal_sports_coed                    147 non-null object\n",
      "school_sports                       297 non-null object\n",
      "partner_cbo                         354 non-null object\n",
      "partner_hospital                    196 non-null object\n",
      "partner_highered                    378 non-null object\n",
      "partner_cultural                    305 non-null object\n",
      "partner_nonprofit                   298 non-null object\n",
      "partner_corporate                   198 non-null object\n",
      "partner_financial                   72 non-null object\n",
      "partner_other                       188 non-null object\n",
      "addtl_info1                         354 non-null object\n",
      "addtl_info2                         229 non-null object\n",
      "start_time                          431 non-null object\n",
      "end_time                            431 non-null object\n",
      "se_services                         435 non-null object\n",
      "ell_programs                        435 non-null object\n",
      "school_accessibility_description    435 non-null object\n",
      "number_programs                     435 non-null int64\n",
      "priority01                          435 non-null object\n",
      "priority02                          352 non-null object\n",
      "priority03                          243 non-null object\n",
      "priority04                          177 non-null object\n",
      "priority05                          39 non-null object\n",
      "priority06                          17 non-null object\n",
      "priority07                          4 non-null object\n",
      "priority08                          1 non-null object\n",
      "priority09                          1 non-null object\n",
      "priority10                          1 non-null object\n",
      "Location 1                          435 non-null object\n",
      "dtypes: float64(2), int64(3), object(53)\n",
      "memory usage: 197.2+ KB\n"
     ]
    }
   ],
   "source": [
    "data['hs_directory'].info()"
   ]
  },
  {
   "cell_type": "markdown",
   "metadata": {},
   "source": [
    "#### Add DBN columns"
   ]
  },
  {
   "cell_type": "code",
   "execution_count": 5,
   "metadata": {
    "collapsed": true
   },
   "outputs": [],
   "source": [
    "data[\"hs_directory\"][\"DBN\"] = data[\"hs_directory\"][\"dbn\"]\n",
    "\n",
    "def pad_csd(num):\n",
    "    string_representation = str(num)\n",
    "    if len(string_representation) > 1:\n",
    "        return string_representation\n",
    "    else:\n",
    "        return \"0\" + string_representation\n",
    "    \n",
    "data[\"class_size\"][\"padded_csd\"] = data[\"class_size\"][\"CSD\"].apply(pad_csd)\n",
    "data[\"class_size\"][\"DBN\"] = data[\"class_size\"][\"padded_csd\"] + data[\"class_size\"][\"SCHOOL CODE\"]"
   ]
  },
  {
   "cell_type": "markdown",
   "metadata": {},
   "source": [
    "#### Convert  SAT score columns to numeric"
   ]
  },
  {
   "cell_type": "code",
   "execution_count": 6,
   "metadata": {
    "collapsed": true
   },
   "outputs": [],
   "source": [
    "cols = ['SAT Math Avg. Score', 'SAT Critical Reading Avg. Score', 'SAT Writing Avg. Score']\n",
    "for c in cols:\n",
    "    data[\"sat_results\"][c] = pd.to_numeric(data[\"sat_results\"][c], errors=\"coerce\")\n",
    "\n",
    "data['sat_results']['sat_score'] = data['sat_results'][cols[0]] + data['sat_results'][cols[1]] + data['sat_results'][cols[2]]\n",
    "\n",
    "def find_lat(loc):\n",
    "    coords = re.findall(\"\\(.+, .+\\)\", loc)\n",
    "    lat = coords[0].split(\",\")[0].replace(\"(\", \"\")\n",
    "    return lat\n",
    "\n",
    "def find_lon(loc):\n",
    "    coords = re.findall(\"\\(.+, .+\\)\", loc)\n",
    "    lon = coords[0].split(\",\")[1].replace(\")\", \"\").strip()\n",
    "    return lon\n",
    "\n",
    "data[\"hs_directory\"][\"lat\"] = data[\"hs_directory\"][\"Location 1\"].apply(find_lat)\n",
    "data[\"hs_directory\"][\"lon\"] = data[\"hs_directory\"][\"Location 1\"].apply(find_lon)\n",
    "\n",
    "data[\"hs_directory\"][\"lat\"] = pd.to_numeric(data[\"hs_directory\"][\"lat\"], errors=\"coerce\")\n",
    "data[\"hs_directory\"][\"lon\"] = pd.to_numeric(data[\"hs_directory\"][\"lon\"], errors=\"coerce\")"
   ]
  },
  {
   "cell_type": "markdown",
   "metadata": {},
   "source": [
    "#### Condense datasets by DBN"
   ]
  },
  {
   "cell_type": "code",
   "execution_count": 7,
   "metadata": {
    "collapsed": false
   },
   "outputs": [],
   "source": [
    "class_size = data[\"class_size\"]\n",
    "class_size = class_size[class_size[\"GRADE \"] == \"09-12\"]\n",
    "class_size = class_size[class_size[\"PROGRAM TYPE\"] == \"GEN ED\"]\n",
    "\n",
    "class_size = class_size.groupby(\"DBN\").agg(np.mean)\n",
    "class_size.reset_index(inplace=True)\n",
    "data[\"class_size\"] = class_size\n",
    "\n",
    "data[\"demographics\"] = data[\"demographics\"][data[\"demographics\"][\"schoolyear\"] == 20112012]\n",
    "\n",
    "data[\"graduation\"] = data[\"graduation\"][data[\"graduation\"][\"Cohort\"] == \"2006\"]\n",
    "data[\"graduation\"] = data[\"graduation\"][data[\"graduation\"][\"Demographic\"] == \"Total Cohort\"]"
   ]
  },
  {
   "cell_type": "markdown",
   "metadata": {},
   "source": [
    "#### Convert AP scores to numeric"
   ]
  },
  {
   "cell_type": "code",
   "execution_count": 8,
   "metadata": {
    "collapsed": true
   },
   "outputs": [],
   "source": [
    "cols = ['AP Test Takers ', 'Total Exams Taken', 'Number of Exams with scores 3 4 or 5']\n",
    "\n",
    "for col in cols:\n",
    "    data[\"ap_2010\"][col] = pd.to_numeric(data[\"ap_2010\"][col], errors=\"coerce\")"
   ]
  },
  {
   "cell_type": "markdown",
   "metadata": {},
   "source": [
    "#### Combine the datasets by DBN"
   ]
  },
  {
   "cell_type": "code",
   "execution_count": 9,
   "metadata": {
    "collapsed": true
   },
   "outputs": [],
   "source": [
    "combined = data[\"sat_results\"]\n",
    "\n",
    "combined = combined.merge(data[\"ap_2010\"], on=\"DBN\", how=\"left\")\n",
    "combined = combined.merge(data[\"graduation\"], on=\"DBN\", how=\"left\")\n",
    "\n",
    "to_merge = [\"class_size\", \"demographics\", \"survey\", \"hs_directory\"]\n",
    "\n",
    "for m in to_merge:\n",
    "    combined = combined.merge(data[m], on=\"DBN\", how=\"inner\")\n",
    "\n",
    "combined = combined.fillna(combined.mean())\n",
    "combined = combined.fillna(0)"
   ]
  },
  {
   "cell_type": "markdown",
   "metadata": {},
   "source": [
    "#### Add a school district column for mapping"
   ]
  },
  {
   "cell_type": "code",
   "execution_count": 10,
   "metadata": {
    "collapsed": true
   },
   "outputs": [],
   "source": [
    "def get_first_two_chars(dbn):\n",
    "    return dbn[0:2]\n",
    "\n",
    "combined[\"school_dist\"] = combined[\"DBN\"].apply(get_first_two_chars)"
   ]
  },
  {
   "cell_type": "markdown",
   "metadata": {},
   "source": [
    "## Analyzing Data"
   ]
  },
  {
   "cell_type": "markdown",
   "metadata": {},
   "source": [
    "### 1. Find SAT score correlation factors"
   ]
  },
  {
   "cell_type": "code",
   "execution_count": 11,
   "metadata": {
    "collapsed": true
   },
   "outputs": [],
   "source": [
    "#### Correlation of SAT score to survey fields "
   ]
  },
  {
   "cell_type": "code",
   "execution_count": 11,
   "metadata": {
    "collapsed": false
   },
   "outputs": [
    {
     "name": "stdout",
     "output_type": "stream",
     "text": [
      "SAT Critical Reading Avg. Score         0.986820\n",
      "SAT Math Avg. Score                     0.972643\n",
      "SAT Writing Avg. Score                  0.987771\n",
      "sat_score                               1.000000\n",
      "AP Test Takers                          0.523140\n",
      "Total Exams Taken                       0.514333\n",
      "Number of Exams with scores 3 4 or 5    0.463245\n",
      "Total Cohort                            0.325144\n",
      "CSD                                     0.042948\n",
      "NUMBER OF STUDENTS / SEATS FILLED       0.394626\n",
      "NUMBER OF SECTIONS                      0.362673\n",
      "AVERAGE CLASS SIZE                      0.381014\n",
      "SIZE OF SMALLEST CLASS                  0.249949\n",
      "SIZE OF LARGEST CLASS                   0.314434\n",
      "SCHOOLWIDE PUPIL-TEACHER RATIO               NaN\n",
      "schoolyear                                   NaN\n",
      "fl_percent                                   NaN\n",
      "frl_percent                            -0.722225\n",
      "total_enrollment                        0.367857\n",
      "ell_num                                -0.153778\n",
      "ell_percent                            -0.398750\n",
      "sped_num                                0.034933\n",
      "sped_percent                           -0.448170\n",
      "asian_num                               0.475445\n",
      "asian_per                               0.570730\n",
      "black_num                               0.027979\n",
      "black_per                              -0.284139\n",
      "hispanic_num                            0.025744\n",
      "hispanic_per                           -0.396985\n",
      "white_num                               0.449559\n",
      "                                          ...   \n",
      "rr_p                                    0.047925\n",
      "N_s                                     0.423463\n",
      "N_t                                     0.291463\n",
      "N_p                                     0.421530\n",
      "saf_p_11                                0.122913\n",
      "com_p_11                               -0.115073\n",
      "eng_p_11                                0.020254\n",
      "aca_p_11                                0.035155\n",
      "saf_t_11                                0.313810\n",
      "com_t_11                                0.082419\n",
      "eng_t_11                                0.036906\n",
      "aca_t_11                                0.132348\n",
      "saf_s_11                                0.337639\n",
      "com_s_11                                0.187370\n",
      "eng_s_11                                0.213822\n",
      "aca_s_11                                0.339435\n",
      "saf_tot_11                              0.318753\n",
      "com_tot_11                              0.077310\n",
      "eng_tot_11                              0.100102\n",
      "aca_tot_11                              0.190966\n",
      "grade_span_max                               NaN\n",
      "expgrade_span_max                            NaN\n",
      "zip                                    -0.063977\n",
      "total_students                          0.407827\n",
      "number_programs                         0.117012\n",
      "priority08                                   NaN\n",
      "priority09                                   NaN\n",
      "priority10                                   NaN\n",
      "lat                                    -0.121029\n",
      "lon                                    -0.132222\n",
      "Name: sat_score, dtype: float64\n"
     ]
    }
   ],
   "source": [
    "correlations = combined.corr()\n",
    "correlations = correlations[\"sat_score\"]\n",
    "print(correlations)"
   ]
  },
  {
   "cell_type": "markdown",
   "metadata": {},
   "source": [
    "#### Plotting survey and SAT score correlations"
   ]
  },
  {
   "cell_type": "code",
   "execution_count": 12,
   "metadata": {
    "collapsed": false
   },
   "outputs": [],
   "source": [
    "# Remove DBN since it's a unique identifier, not a \n",
    "# useful numerical value for correlation.\n",
    "\n",
    "survey_fields.remove(\"DBN\")\n",
    "survey_fields.append('sat_score')\n"
   ]
  },
  {
   "cell_type": "code",
   "execution_count": 13,
   "metadata": {
    "collapsed": false
   },
   "outputs": [
    {
     "data": {
      "text/plain": [
       "rr_s          0.232199\n",
       "rr_t         -0.023386\n",
       "rr_p          0.047925\n",
       "N_s           0.423463\n",
       "N_t           0.291463\n",
       "N_p           0.421530\n",
       "saf_p_11      0.122913\n",
       "com_p_11     -0.115073\n",
       "eng_p_11      0.020254\n",
       "aca_p_11      0.035155\n",
       "saf_t_11      0.313810\n",
       "com_t_11      0.082419\n",
       "eng_t_11      0.036906\n",
       "aca_t_11      0.132348\n",
       "saf_s_11      0.337639\n",
       "com_s_11      0.187370\n",
       "eng_s_11      0.213822\n",
       "aca_s_11      0.339435\n",
       "saf_tot_11    0.318753\n",
       "com_tot_11    0.077310\n",
       "eng_tot_11    0.100102\n",
       "aca_tot_11    0.190966\n",
       "sat_score     1.000000\n",
       "Name: sat_score, dtype: float64"
      ]
     },
     "execution_count": 13,
     "metadata": {},
     "output_type": "execute_result"
    }
   ],
   "source": [
    "survey_sat_correlations = combined[survey_fields].corr()['sat_score']\n",
    "survey_sat_correlations"
   ]
  },
  {
   "cell_type": "code",
   "execution_count": 14,
   "metadata": {
    "collapsed": false
   },
   "outputs": [
    {
     "data": {
      "image/png": "[encoded data removed]",
      "text/plain": [
       "<matplotlib.figure.Figure at 0x7f2ee0d054a8>"
      ]
     },
     "metadata": {},
     "output_type": "display_data"
    }
   ],
   "source": [
    "y_pos = np.arange(len(survey_fields))\n",
    "plt.bar(y_pos, survey_sat_correlations, alpha=0.5, align='center')\n",
    "plt.xticks(y_pos, survey_fields, rotation=90)\n",
    "plt.ylabel('Correlations with SAT')\n",
    "plt.show()"
   ]
  },
  {
   "cell_type": "markdown",
   "metadata": {
    "collapsed": true
   },
   "source": [
    "Columns having moderate correlation with sat_score:\n",
    "N_S (number of student respondents) 0.45\n",
    "N_P (number of parent respondents) 0.45\n",
    "\n",
    "Columns having weak correlation with sat_score:\n",
    "saf_t_11 (safety and respect score based on teacher responses) 0.31\n",
    "saf_s_11 (safety and respect score based on student responses) 0.34\n",
    "saf_total_11 (safety and respect total score) 0.32\n",
    "aca_s_11 (academic expectation score based on student responses) 0.33\n",
    "\n",
    "It is interesting to find that a school's SAT scores are correlated with the number of survey respondents in that school as well as safety and respect scores from that school.\n",
    "\n",
    "One possible explanation for the correlatioin between school's SAT scores and number of survey respondent is that willingness to respond to survey reflects the degree of attention students/parents pay to SAT topics.  Another possible explanation is that the high SAT score achievers are more willing to take the SAT survey, while low score achievers feel ashame to take the survey. \n",
    "\n",
    "High safety and respect scores reflect the amount of attention students pay to teachers and rules.  These two scores may reflect student's discipline which would lead to better study in school.  \n",
    "\n",
    "\n"
   ]
  },
  {
   "cell_type": "markdown",
   "metadata": {},
   "source": [
    "### 2. Investigate satety scores"
   ]
  },
  {
   "cell_type": "code",
   "execution_count": 15,
   "metadata": {
    "collapsed": false
   },
   "outputs": [
    {
     "data": {
      "image/png": "[encoded data removed]",
      "text/plain": [
       "<matplotlib.figure.Figure at 0x7f2ee0ce5eb8>"
      ]
     },
     "metadata": {},
     "output_type": "display_data"
    }
   ],
   "source": [
    "fg, ax = plt.subplots()\n",
    "ax.scatter(combined['saf_s_11'], combined['sat_score'])\n",
    "ax.set_xlabel('Safety and Respect Score')\n",
    "ax.set_ylabel('SAT Score')\n",
    "ax.set_title('Year 2011')\n",
    "plt.show()"
   ]
  },
  {
   "cell_type": "markdown",
   "metadata": {
    "collapsed": true
   },
   "source": [
    "It seems that SAT score does have a high correlation with safety and respect score.  There is a cluster of low safe score and low SAT score.\n"
   ]
  },
  {
   "cell_type": "markdown",
   "metadata": {
    "collapsed": true
   },
   "source": [
    "#### Map out safety scores over district"
   ]
  },
  {
   "cell_type": "code",
   "execution_count": 16,
   "metadata": {
    "collapsed": false
   },
   "outputs": [
    {
     "data": {
      "text/html": [
       "<div>\n",
       "<table border=\"1\" class=\"dataframe\">\n",
       "  <thead>\n",
       "    <tr style=\"text-align: right;\">\n",
       "      <th></th>\n",
       "      <th>school_dist</th>\n",
       "      <th>saf_s_11</th>\n",
       "      <th>lon</th>\n",
       "      <th>lat</th>\n",
       "    </tr>\n",
       "  </thead>\n",
       "  <tbody>\n",
       "    <tr>\n",
       "      <th>0</th>\n",
       "      <td>01</td>\n",
       "      <td>6.768611</td>\n",
       "      <td>-73.982377</td>\n",
       "      <td>40.719022</td>\n",
       "    </tr>\n",
       "    <tr>\n",
       "      <th>1</th>\n",
       "      <td>02</td>\n",
       "      <td>6.910660</td>\n",
       "      <td>-73.991386</td>\n",
       "      <td>40.739699</td>\n",
       "    </tr>\n",
       "    <tr>\n",
       "      <th>2</th>\n",
       "      <td>03</td>\n",
       "      <td>6.716667</td>\n",
       "      <td>-73.977370</td>\n",
       "      <td>40.781574</td>\n",
       "    </tr>\n",
       "    <tr>\n",
       "      <th>3</th>\n",
       "      <td>04</td>\n",
       "      <td>6.885714</td>\n",
       "      <td>-73.943215</td>\n",
       "      <td>40.793449</td>\n",
       "    </tr>\n",
       "    <tr>\n",
       "      <th>4</th>\n",
       "      <td>05</td>\n",
       "      <td>6.314286</td>\n",
       "      <td>-73.949251</td>\n",
       "      <td>40.817077</td>\n",
       "    </tr>\n",
       "  </tbody>\n",
       "</table>\n",
       "</div>"
      ],
      "text/plain": [
       "  school_dist  saf_s_11        lon        lat\n",
       "0          01  6.768611 -73.982377  40.719022\n",
       "1          02  6.910660 -73.991386  40.739699\n",
       "2          03  6.716667 -73.977370  40.781574\n",
       "3          04  6.885714 -73.943215  40.793449\n",
       "4          05  6.314286 -73.949251  40.817077"
      ]
     },
     "execution_count": 16,
     "metadata": {},
     "output_type": "execute_result"
    }
   ],
   "source": [
    "safety_district = combined.loc[:, ['saf_s_11','lon', 'lat', 'school_dist']]\n",
    "safety_district['lon'] = pd.to_numeric(safety_district['lon'], errors='coerce')\n",
    "safety_district['lat'] = pd.to_numeric(safety_district['lat'], errors='coerce')\n",
    "safety_district = safety_district.groupby('school_dist').agg(np.mean)\n",
    "safety_district.reset_index(inplace=True)\n",
    "safety_district.head()\n"
   ]
  },
  {
   "cell_type": "code",
   "execution_count": 19,
   "metadata": {
    "collapsed": false
   },
   "outputs": [
    {
     "data": {
      "image/png": "[encoded data removed]",
      "text/plain": [
       "<matplotlib.figure.Figure at 0x7f13feb579e8>"
      ]
     },
     "metadata": {},
     "output_type": "display_data"
    }
   ],
   "source": [
    "from mpl_toolkits.basemap import Basemap\n",
    "m = Basemap(\n",
    "        projection='merc',\n",
    "        llcrnrlat=40.496044,\n",
    "        urcrnrlat=40.915256,\n",
    "        llcrnrlon=-74.255735,\n",
    "        urcrnrlon=-73.700272,\n",
    "        resolution='i')\n",
    "m.drawmapboundary(fill_color='#85A6D9')\n",
    "m.drawcoastlines(color='#6D5F47', linewidth=.4)\n",
    "m.drawrivers(color='#6D5F47', linewidth=.4)\n",
    "longitudes = safety_district['lon'].tolist()\n",
    "latitudes = safety_district['lat'].tolist()\n",
    "#m.scatter(longitudes, latitudes, s=50, zorder=2, latlon=True, c=safety_district['saf_s_11'], cmap='summer')\n",
    "m.scatter(longitudes, latitudes, s=50, zorder=2, latlon=True, c=safety_district['saf_s_11'], cmap='summer')\n",
    "plt.show()"
   ]
  },
  {
   "cell_type": "markdown",
   "metadata": {},
   "source": [
    "Most schools in Manhattan, about half of Queens schools and 2 schools in Brooklyn have high safety scores."
   ]
  },
  {
   "cell_type": "markdown",
   "metadata": {
    "collapsed": true
   },
   "source": [
    "### 3. Investigate racial differences in SAT performance"
   ]
  },
  {
   "cell_type": "code",
   "execution_count": 17,
   "metadata": {
    "collapsed": false
   },
   "outputs": [
    {
     "name": "stdout",
     "output_type": "stream",
     "text": [
      "<class 'pandas.core.frame.DataFrame'>\n",
      "Int64Index: 363 entries, 0 to 362\n",
      "Data columns (total 5 columns):\n",
      "white_per       363 non-null float64\n",
      "asian_per       363 non-null float64\n",
      "black_per       363 non-null float64\n",
      "hispanic_per    363 non-null float64\n",
      "sat_score       363 non-null float64\n",
      "dtypes: float64(5)\n",
      "memory usage: 17.0 KB\n"
     ]
    }
   ],
   "source": [
    "racialcols = ['white_per','asian_per','black_per','hispanic_per', 'sat_score']\n",
    "racials = combined.loc[:, racialcols]\n",
    "racials.info()\n"
   ]
  },
  {
   "cell_type": "code",
   "execution_count": 22,
   "metadata": {
    "collapsed": false
   },
   "outputs": [
    {
     "data": {
      "image/png": "[encoded data removed]",
      "text/plain": [
       "<matplotlib.figure.Figure at 0x7f2ee07b6b70>"
      ]
     },
     "metadata": {},
     "output_type": "display_data"
    }
   ],
   "source": [
    "racials_corr = racials.corr()['sat_score']\n",
    "y_pos = np.arange(len(racials_corr))\n",
    "colnames = ['  White','  Asian','  Black','  Hispanic', '  SAT Score']\n",
    "fig, ax = plt.subplots()\n",
    "ax.bar(y_pos, racials_corr, alpha=.6)\n",
    "ax.set_xticklabels(colnames, horizontalalignment='left')\n",
    "ax.set_ylabel('SAT Score Correlation')\n",
    "ax.set_xlabel('Racial Percentage')\n",
    "ax.set_title('Year 2011')\n",
    "plt.show()"
   ]
  },
  {
   "cell_type": "markdown",
   "metadata": {},
   "source": [
    "A school's SAT scores have a positive correlation with the percentage of White or Asian students among the student population.  On the other hand, a negative correlation is observed between SAT scores and the percentage of Black or Hispanic students.  The data set does not contain additional information that could provide possible explanation for these observations."
   ]
  },
  {
   "cell_type": "markdown",
   "metadata": {},
   "source": [
    "### 4. Research about gender and SAT performance"
   ]
  },
  {
   "cell_type": "code",
   "execution_count": null,
   "metadata": {
    "collapsed": true
   },
   "outputs": [],
   "source": [
    "#### Correlations between genders and SAT score"
   ]
  },
  {
   "cell_type": "code",
   "execution_count": 19,
   "metadata": {
    "collapsed": false
   },
   "outputs": [
    {
     "data": {
      "image/png": "[encoded data removed]",
      "text/plain": [
       "<matplotlib.figure.Figure at 0x7f2ee0d5b9e8>"
      ]
     },
     "metadata": {},
     "output_type": "display_data"
    }
   ],
   "source": [
    "genders = combined.loc[:, ['male_per', 'female_per', 'sat_score']]\n",
    "genders_corr = genders.corr()['sat_score']\n",
    "y_pos = np.arange(len(genders_corr))\n",
    "fig,ax = plt.subplots()\n",
    "ax.bar(y_pos, genders_corr, alpha=0.4)\n",
    "ax.set_xticklabels(['Male', 'Female'])\n",
    "ax.set_ylabel('SAT Score')\n",
    "ax.set_title('Year 2011')\n",
    "plt.show()"
   ]
  },
  {
   "cell_type": "markdown",
   "metadata": {},
   "source": [
    "There is no correlation between gender and SAT score."
   ]
  },
  {
   "cell_type": "markdown",
   "metadata": {},
   "source": [
    "#### Investigate schools with high SAT scores and a high female percentage"
   ]
  },
  {
   "cell_type": "code",
   "execution_count": 20,
   "metadata": {
    "collapsed": false
   },
   "outputs": [
    {
     "data": {
      "image/png": "[encoded data removed]",
      "text/plain": [
       "<matplotlib.figure.Figure at 0x7f2ee0767a90>"
      ]
     },
     "metadata": {},
     "output_type": "display_data"
    }
   ],
   "source": [
    "fig, ax = plt.subplots()\n",
    "ax.scatter(combined['female_per'], combined['sat_score'])\n",
    "ax.set_xlabel('Percentage of Female')\n",
    "ax.set_ylabel('SAT Score')\n",
    "ax.set_title('Year 2011')\n",
    "plt.show()"
   ]
  },
  {
   "cell_type": "code",
   "execution_count": null,
   "metadata": {
    "collapsed": true
   },
   "outputs": [],
   "source": []
  },
  {
   "cell_type": "markdown",
   "metadata": {},
   "source": [
    "#### Research any schools with a female_per greater than 60% and an average SAT score greater than 1700"
   ]
  },
  {
   "cell_type": "code",
   "execution_count": 21,
   "metadata": {
    "collapsed": false,
    "scrolled": true
   },
   "outputs": [
    {
     "data": {
      "text/plain": [
       "5                         Bard High School Early College\n",
       "26                         Eleanor Roosevelt High School\n",
       "37                                Stuyvesant High School\n",
       "60                                    Beacon High School\n",
       "61     Fiorello H. LaGuardia High School of Music & A...\n",
       "79     High School for Mathematics, Science and Engin...\n",
       "151                         Bronx High School of Science\n",
       "155    High School of American Studies at Lehman College\n",
       "187                       Brooklyn Technical High School\n",
       "198                           Brooklyn Latin School, The\n",
       "302                          Townsend Harris High School\n",
       "327    Queens High School for the Sciences at York Co...\n",
       "356                  Staten Island Technical High School\n",
       "Name: school_name, dtype: object"
      ]
     },
     "execution_count": 21,
     "metadata": {},
     "output_type": "execute_result"
    }
   ],
   "source": [
    "female_per_gt60 = combined['female_per'] > 0.6\n",
    "sat_score_gt1700 = combined['sat_score'] > 1700\n",
    "schools = combined[female_per_gt60 & sat_score_gt1700]['school_name']\n",
    "#schools.head(2)\n",
    "schools"
   ]
  },
  {
   "cell_type": "code",
   "execution_count": null,
   "metadata": {
    "collapsed": true
   },
   "outputs": [],
   "source": []
  },
  {
   "cell_type": "markdown",
   "metadata": {},
   "source": [
    "### 5.  Investigate correlation of the percentage of students who took at least on AP exam and SAT performance"
   ]
  },
  {
   "cell_type": "code",
   "execution_count": null,
   "metadata": {
    "collapsed": true
   },
   "outputs": [],
   "source": []
  }
 ],
 "metadata": {
  "kernelspec": {
   "display_name": "Python 3",
   "language": "python",
   "name": "python3"
  },
  "language_info": {
   "codemirror_mode": {
    "name": "ipython",
    "version": 3
   },
   "file_extension": ".py",
   "mimetype": "text/x-python",
   "name": "python",
   "nbconvert_exporter": "python",
   "pygments_lexer": "ipython3",
   "version": "3.4.3"
  }
 },
 "nbformat": 4,
 "nbformat_minor": 2
}
