{
 "cells": [
  {
   "cell_type": "markdown",
   "metadata": {
    "collapsed": true
   },
   "source": [
    "# Practice Optimizing Dataframes and Processing in Chunks Using Lending Club's Lending Data\n",
    "\n",
    "\n",
    "We'll be working with financial lending data from Lending Club, a marketplace for personal loans that matches borrowers with investors. You can read more about the marketplace on its website.\n",
    "\n",
    "The Lending Club's website lists approved loans. Qualified investors can view the borrower's credit score, the purpose of the loan, and other details in the loan applications. Once a lender is ready to back a loan, it selects the amount of money it wants to fund. When the loan amount the borrower requested is fully funded, the borrower receives the money, minus the origination fee that Lending Club charges.\n",
    "\n",
    "We'll be working with a dataset of loans approved from 2007-2011, which you can download from Lending Club's website. We've already removed the desc column for you to make our system run more quickly.\n",
    "\n",
    "If we read in the entire data set, it will consume about 67 megabytes of memory. Let's imagine that we only have 10 megabytes of memory available throughout this project, so you can practice the concepts you learned in the last two missions. "
   ]
  },
  {
   "cell_type": "code",
   "execution_count": 2,
   "metadata": {
    "collapsed": true
   },
   "outputs": [],
   "source": [
    "import pandas as pd\n",
    "pd.options.display.max_columns = 99\n"
   ]
  },
  {
   "cell_type": "code",
   "execution_count": 3,
   "metadata": {
    "collapsed": false
   },
   "outputs": [
    {
     "data": {
      "text/html": [
       "<div>\n",
       "<style scoped>\n",
       "    .dataframe tbody tr th:only-of-type {\n",
       "        vertical-align: middle;\n",
       "    }\n",
       "\n",
       "    .dataframe tbody tr th {\n",
       "        vertical-align: top;\n",
       "    }\n",
       "\n",
       "    .dataframe thead th {\n",
       "        text-align: right;\n",
       "    }\n",
       "</style>\n",
       "<table border=\"1\" class=\"dataframe\">\n",
       "  <thead>\n",
       "    <tr style=\"text-align: right;\">\n",
       "      <th></th>\n",
       "      <th>id</th>\n",
       "      <th>member_id</th>\n",
       "      <th>loan_amnt</th>\n",
       "      <th>funded_amnt</th>\n",
       "      <th>funded_amnt_inv</th>\n",
       "      <th>term</th>\n",
       "      <th>int_rate</th>\n",
       "      <th>installment</th>\n",
       "      <th>grade</th>\n",
       "      <th>sub_grade</th>\n",
       "      <th>emp_title</th>\n",
       "      <th>emp_length</th>\n",
       "      <th>home_ownership</th>\n",
       "      <th>annual_inc</th>\n",
       "      <th>verification_status</th>\n",
       "      <th>issue_d</th>\n",
       "      <th>loan_status</th>\n",
       "      <th>pymnt_plan</th>\n",
       "      <th>purpose</th>\n",
       "      <th>title</th>\n",
       "      <th>zip_code</th>\n",
       "      <th>addr_state</th>\n",
       "      <th>dti</th>\n",
       "      <th>delinq_2yrs</th>\n",
       "      <th>earliest_cr_line</th>\n",
       "      <th>inq_last_6mths</th>\n",
       "      <th>open_acc</th>\n",
       "      <th>pub_rec</th>\n",
       "      <th>revol_bal</th>\n",
       "      <th>revol_util</th>\n",
       "      <th>total_acc</th>\n",
       "      <th>initial_list_status</th>\n",
       "      <th>out_prncp</th>\n",
       "      <th>out_prncp_inv</th>\n",
       "      <th>total_pymnt</th>\n",
       "      <th>total_pymnt_inv</th>\n",
       "      <th>total_rec_prncp</th>\n",
       "      <th>total_rec_int</th>\n",
       "      <th>total_rec_late_fee</th>\n",
       "      <th>recoveries</th>\n",
       "      <th>collection_recovery_fee</th>\n",
       "      <th>last_pymnt_d</th>\n",
       "      <th>last_pymnt_amnt</th>\n",
       "      <th>last_credit_pull_d</th>\n",
       "      <th>collections_12_mths_ex_med</th>\n",
       "      <th>policy_code</th>\n",
       "      <th>application_type</th>\n",
       "      <th>acc_now_delinq</th>\n",
       "      <th>chargeoff_within_12_mths</th>\n",
       "      <th>delinq_amnt</th>\n",
       "      <th>pub_rec_bankruptcies</th>\n",
       "      <th>tax_liens</th>\n",
       "    </tr>\n",
       "  </thead>\n",
       "  <tbody>\n",
       "    <tr>\n",
       "      <th>0</th>\n",
       "      <td>1077501</td>\n",
       "      <td>1296599.0</td>\n",
       "      <td>5000.0</td>\n",
       "      <td>5000.0</td>\n",
       "      <td>4975.0</td>\n",
       "      <td>36 months</td>\n",
       "      <td>10.65%</td>\n",
       "      <td>162.87</td>\n",
       "      <td>B</td>\n",
       "      <td>B2</td>\n",
       "      <td>NaN</td>\n",
       "      <td>10+ years</td>\n",
       "      <td>RENT</td>\n",
       "      <td>24000.0</td>\n",
       "      <td>Verified</td>\n",
       "      <td>Dec-2011</td>\n",
       "      <td>Fully Paid</td>\n",
       "      <td>n</td>\n",
       "      <td>credit_card</td>\n",
       "      <td>Computer</td>\n",
       "      <td>860xx</td>\n",
       "      <td>AZ</td>\n",
       "      <td>27.65</td>\n",
       "      <td>0.0</td>\n",
       "      <td>Jan-1985</td>\n",
       "      <td>1.0</td>\n",
       "      <td>3.0</td>\n",
       "      <td>0.0</td>\n",
       "      <td>13648.0</td>\n",
       "      <td>83.7%</td>\n",
       "      <td>9.0</td>\n",
       "      <td>f</td>\n",
       "      <td>0.00</td>\n",
       "      <td>0.00</td>\n",
       "      <td>5863.155187</td>\n",
       "      <td>5833.84</td>\n",
       "      <td>5000.00</td>\n",
       "      <td>863.16</td>\n",
       "      <td>0.00</td>\n",
       "      <td>0.00</td>\n",
       "      <td>0.00</td>\n",
       "      <td>Jan-2015</td>\n",
       "      <td>171.62</td>\n",
       "      <td>Jun-2016</td>\n",
       "      <td>0.0</td>\n",
       "      <td>1.0</td>\n",
       "      <td>INDIVIDUAL</td>\n",
       "      <td>0.0</td>\n",
       "      <td>0.0</td>\n",
       "      <td>0.0</td>\n",
       "      <td>0.0</td>\n",
       "      <td>0.0</td>\n",
       "    </tr>\n",
       "    <tr>\n",
       "      <th>1</th>\n",
       "      <td>1077430</td>\n",
       "      <td>1314167.0</td>\n",
       "      <td>2500.0</td>\n",
       "      <td>2500.0</td>\n",
       "      <td>2500.0</td>\n",
       "      <td>60 months</td>\n",
       "      <td>15.27%</td>\n",
       "      <td>59.83</td>\n",
       "      <td>C</td>\n",
       "      <td>C4</td>\n",
       "      <td>Ryder</td>\n",
       "      <td>&lt; 1 year</td>\n",
       "      <td>RENT</td>\n",
       "      <td>30000.0</td>\n",
       "      <td>Source Verified</td>\n",
       "      <td>Dec-2011</td>\n",
       "      <td>Charged Off</td>\n",
       "      <td>n</td>\n",
       "      <td>car</td>\n",
       "      <td>bike</td>\n",
       "      <td>309xx</td>\n",
       "      <td>GA</td>\n",
       "      <td>1.00</td>\n",
       "      <td>0.0</td>\n",
       "      <td>Apr-1999</td>\n",
       "      <td>5.0</td>\n",
       "      <td>3.0</td>\n",
       "      <td>0.0</td>\n",
       "      <td>1687.0</td>\n",
       "      <td>9.4%</td>\n",
       "      <td>4.0</td>\n",
       "      <td>f</td>\n",
       "      <td>0.00</td>\n",
       "      <td>0.00</td>\n",
       "      <td>1008.710000</td>\n",
       "      <td>1008.71</td>\n",
       "      <td>456.46</td>\n",
       "      <td>435.17</td>\n",
       "      <td>0.00</td>\n",
       "      <td>117.08</td>\n",
       "      <td>1.11</td>\n",
       "      <td>Apr-2013</td>\n",
       "      <td>119.66</td>\n",
       "      <td>Sep-2013</td>\n",
       "      <td>0.0</td>\n",
       "      <td>1.0</td>\n",
       "      <td>INDIVIDUAL</td>\n",
       "      <td>0.0</td>\n",
       "      <td>0.0</td>\n",
       "      <td>0.0</td>\n",
       "      <td>0.0</td>\n",
       "      <td>0.0</td>\n",
       "    </tr>\n",
       "    <tr>\n",
       "      <th>2</th>\n",
       "      <td>1077175</td>\n",
       "      <td>1313524.0</td>\n",
       "      <td>2400.0</td>\n",
       "      <td>2400.0</td>\n",
       "      <td>2400.0</td>\n",
       "      <td>36 months</td>\n",
       "      <td>15.96%</td>\n",
       "      <td>84.33</td>\n",
       "      <td>C</td>\n",
       "      <td>C5</td>\n",
       "      <td>NaN</td>\n",
       "      <td>10+ years</td>\n",
       "      <td>RENT</td>\n",
       "      <td>12252.0</td>\n",
       "      <td>Not Verified</td>\n",
       "      <td>Dec-2011</td>\n",
       "      <td>Fully Paid</td>\n",
       "      <td>n</td>\n",
       "      <td>small_business</td>\n",
       "      <td>real estate business</td>\n",
       "      <td>606xx</td>\n",
       "      <td>IL</td>\n",
       "      <td>8.72</td>\n",
       "      <td>0.0</td>\n",
       "      <td>Nov-2001</td>\n",
       "      <td>2.0</td>\n",
       "      <td>2.0</td>\n",
       "      <td>0.0</td>\n",
       "      <td>2956.0</td>\n",
       "      <td>98.5%</td>\n",
       "      <td>10.0</td>\n",
       "      <td>f</td>\n",
       "      <td>0.00</td>\n",
       "      <td>0.00</td>\n",
       "      <td>3005.666844</td>\n",
       "      <td>3005.67</td>\n",
       "      <td>2400.00</td>\n",
       "      <td>605.67</td>\n",
       "      <td>0.00</td>\n",
       "      <td>0.00</td>\n",
       "      <td>0.00</td>\n",
       "      <td>Jun-2014</td>\n",
       "      <td>649.91</td>\n",
       "      <td>Jun-2016</td>\n",
       "      <td>0.0</td>\n",
       "      <td>1.0</td>\n",
       "      <td>INDIVIDUAL</td>\n",
       "      <td>0.0</td>\n",
       "      <td>0.0</td>\n",
       "      <td>0.0</td>\n",
       "      <td>0.0</td>\n",
       "      <td>0.0</td>\n",
       "    </tr>\n",
       "    <tr>\n",
       "      <th>3</th>\n",
       "      <td>1076863</td>\n",
       "      <td>1277178.0</td>\n",
       "      <td>10000.0</td>\n",
       "      <td>10000.0</td>\n",
       "      <td>10000.0</td>\n",
       "      <td>36 months</td>\n",
       "      <td>13.49%</td>\n",
       "      <td>339.31</td>\n",
       "      <td>C</td>\n",
       "      <td>C1</td>\n",
       "      <td>AIR RESOURCES BOARD</td>\n",
       "      <td>10+ years</td>\n",
       "      <td>RENT</td>\n",
       "      <td>49200.0</td>\n",
       "      <td>Source Verified</td>\n",
       "      <td>Dec-2011</td>\n",
       "      <td>Fully Paid</td>\n",
       "      <td>n</td>\n",
       "      <td>other</td>\n",
       "      <td>personel</td>\n",
       "      <td>917xx</td>\n",
       "      <td>CA</td>\n",
       "      <td>20.00</td>\n",
       "      <td>0.0</td>\n",
       "      <td>Feb-1996</td>\n",
       "      <td>1.0</td>\n",
       "      <td>10.0</td>\n",
       "      <td>0.0</td>\n",
       "      <td>5598.0</td>\n",
       "      <td>21%</td>\n",
       "      <td>37.0</td>\n",
       "      <td>f</td>\n",
       "      <td>0.00</td>\n",
       "      <td>0.00</td>\n",
       "      <td>12231.890000</td>\n",
       "      <td>12231.89</td>\n",
       "      <td>10000.00</td>\n",
       "      <td>2214.92</td>\n",
       "      <td>16.97</td>\n",
       "      <td>0.00</td>\n",
       "      <td>0.00</td>\n",
       "      <td>Jan-2015</td>\n",
       "      <td>357.48</td>\n",
       "      <td>Apr-2016</td>\n",
       "      <td>0.0</td>\n",
       "      <td>1.0</td>\n",
       "      <td>INDIVIDUAL</td>\n",
       "      <td>0.0</td>\n",
       "      <td>0.0</td>\n",
       "      <td>0.0</td>\n",
       "      <td>0.0</td>\n",
       "      <td>0.0</td>\n",
       "    </tr>\n",
       "    <tr>\n",
       "      <th>4</th>\n",
       "      <td>1075358</td>\n",
       "      <td>1311748.0</td>\n",
       "      <td>3000.0</td>\n",
       "      <td>3000.0</td>\n",
       "      <td>3000.0</td>\n",
       "      <td>60 months</td>\n",
       "      <td>12.69%</td>\n",
       "      <td>67.79</td>\n",
       "      <td>B</td>\n",
       "      <td>B5</td>\n",
       "      <td>University Medical Group</td>\n",
       "      <td>1 year</td>\n",
       "      <td>RENT</td>\n",
       "      <td>80000.0</td>\n",
       "      <td>Source Verified</td>\n",
       "      <td>Dec-2011</td>\n",
       "      <td>Current</td>\n",
       "      <td>n</td>\n",
       "      <td>other</td>\n",
       "      <td>Personal</td>\n",
       "      <td>972xx</td>\n",
       "      <td>OR</td>\n",
       "      <td>17.94</td>\n",
       "      <td>0.0</td>\n",
       "      <td>Jan-1996</td>\n",
       "      <td>0.0</td>\n",
       "      <td>15.0</td>\n",
       "      <td>0.0</td>\n",
       "      <td>27783.0</td>\n",
       "      <td>53.9%</td>\n",
       "      <td>38.0</td>\n",
       "      <td>f</td>\n",
       "      <td>461.73</td>\n",
       "      <td>461.73</td>\n",
       "      <td>3581.120000</td>\n",
       "      <td>3581.12</td>\n",
       "      <td>2538.27</td>\n",
       "      <td>1042.85</td>\n",
       "      <td>0.00</td>\n",
       "      <td>0.00</td>\n",
       "      <td>0.00</td>\n",
       "      <td>Jun-2016</td>\n",
       "      <td>67.79</td>\n",
       "      <td>Jun-2016</td>\n",
       "      <td>0.0</td>\n",
       "      <td>1.0</td>\n",
       "      <td>INDIVIDUAL</td>\n",
       "      <td>0.0</td>\n",
       "      <td>0.0</td>\n",
       "      <td>0.0</td>\n",
       "      <td>0.0</td>\n",
       "      <td>0.0</td>\n",
       "    </tr>\n",
       "  </tbody>\n",
       "</table>\n",
       "</div>"
      ],
      "text/plain": [
       "        id  member_id  loan_amnt  funded_amnt  funded_amnt_inv        term  \\\n",
       "0  1077501  1296599.0     5000.0       5000.0           4975.0   36 months   \n",
       "1  1077430  1314167.0     2500.0       2500.0           2500.0   60 months   \n",
       "2  1077175  1313524.0     2400.0       2400.0           2400.0   36 months   \n",
       "3  1076863  1277178.0    10000.0      10000.0          10000.0   36 months   \n",
       "4  1075358  1311748.0     3000.0       3000.0           3000.0   60 months   \n",
       "\n",
       "  int_rate  installment grade sub_grade                 emp_title emp_length  \\\n",
       "0   10.65%       162.87     B        B2                       NaN  10+ years   \n",
       "1   15.27%        59.83     C        C4                     Ryder   < 1 year   \n",
       "2   15.96%        84.33     C        C5                       NaN  10+ years   \n",
       "3   13.49%       339.31     C        C1       AIR RESOURCES BOARD  10+ years   \n",
       "4   12.69%        67.79     B        B5  University Medical Group     1 year   \n",
       "\n",
       "  home_ownership  annual_inc verification_status   issue_d  loan_status  \\\n",
       "0           RENT     24000.0            Verified  Dec-2011   Fully Paid   \n",
       "1           RENT     30000.0     Source Verified  Dec-2011  Charged Off   \n",
       "2           RENT     12252.0        Not Verified  Dec-2011   Fully Paid   \n",
       "3           RENT     49200.0     Source Verified  Dec-2011   Fully Paid   \n",
       "4           RENT     80000.0     Source Verified  Dec-2011      Current   \n",
       "\n",
       "  pymnt_plan         purpose                 title zip_code addr_state    dti  \\\n",
       "0          n     credit_card              Computer    860xx         AZ  27.65   \n",
       "1          n             car                  bike    309xx         GA   1.00   \n",
       "2          n  small_business  real estate business    606xx         IL   8.72   \n",
       "3          n           other              personel    917xx         CA  20.00   \n",
       "4          n           other              Personal    972xx         OR  17.94   \n",
       "\n",
       "   delinq_2yrs earliest_cr_line  inq_last_6mths  open_acc  pub_rec  revol_bal  \\\n",
       "0          0.0         Jan-1985             1.0       3.0      0.0    13648.0   \n",
       "1          0.0         Apr-1999             5.0       3.0      0.0     1687.0   \n",
       "2          0.0         Nov-2001             2.0       2.0      0.0     2956.0   \n",
       "3          0.0         Feb-1996             1.0      10.0      0.0     5598.0   \n",
       "4          0.0         Jan-1996             0.0      15.0      0.0    27783.0   \n",
       "\n",
       "  revol_util  total_acc initial_list_status  out_prncp  out_prncp_inv  \\\n",
       "0      83.7%        9.0                   f       0.00           0.00   \n",
       "1       9.4%        4.0                   f       0.00           0.00   \n",
       "2      98.5%       10.0                   f       0.00           0.00   \n",
       "3        21%       37.0                   f       0.00           0.00   \n",
       "4      53.9%       38.0                   f     461.73         461.73   \n",
       "\n",
       "    total_pymnt  total_pymnt_inv  total_rec_prncp  total_rec_int  \\\n",
       "0   5863.155187          5833.84          5000.00         863.16   \n",
       "1   1008.710000          1008.71           456.46         435.17   \n",
       "2   3005.666844          3005.67          2400.00         605.67   \n",
       "3  12231.890000         12231.89         10000.00        2214.92   \n",
       "4   3581.120000          3581.12          2538.27        1042.85   \n",
       "\n",
       "   total_rec_late_fee  recoveries  collection_recovery_fee last_pymnt_d  \\\n",
       "0                0.00        0.00                     0.00     Jan-2015   \n",
       "1                0.00      117.08                     1.11     Apr-2013   \n",
       "2                0.00        0.00                     0.00     Jun-2014   \n",
       "3               16.97        0.00                     0.00     Jan-2015   \n",
       "4                0.00        0.00                     0.00     Jun-2016   \n",
       "\n",
       "   last_pymnt_amnt last_credit_pull_d  collections_12_mths_ex_med  \\\n",
       "0           171.62           Jun-2016                         0.0   \n",
       "1           119.66           Sep-2013                         0.0   \n",
       "2           649.91           Jun-2016                         0.0   \n",
       "3           357.48           Apr-2016                         0.0   \n",
       "4            67.79           Jun-2016                         0.0   \n",
       "\n",
       "   policy_code application_type  acc_now_delinq  chargeoff_within_12_mths  \\\n",
       "0          1.0       INDIVIDUAL             0.0                       0.0   \n",
       "1          1.0       INDIVIDUAL             0.0                       0.0   \n",
       "2          1.0       INDIVIDUAL             0.0                       0.0   \n",
       "3          1.0       INDIVIDUAL             0.0                       0.0   \n",
       "4          1.0       INDIVIDUAL             0.0                       0.0   \n",
       "\n",
       "   delinq_amnt  pub_rec_bankruptcies  tax_liens  \n",
       "0          0.0                   0.0        0.0  \n",
       "1          0.0                   0.0        0.0  \n",
       "2          0.0                   0.0        0.0  \n",
       "3          0.0                   0.0        0.0  \n",
       "4          0.0                   0.0        0.0  "
      ]
     },
     "execution_count": 3,
     "metadata": {},
     "output_type": "execute_result"
    }
   ],
   "source": [
    "# Samply of the dataset\n",
    "first_five = pd.read_csv('loans_2007.csv', nrows=5)\n",
    "first_five"
   ]
  },
  {
   "cell_type": "markdown",
   "metadata": {},
   "source": [
    "### Memory footprint for 3000 rows (in megabytes)"
   ]
  },
  {
   "cell_type": "code",
   "execution_count": 4,
   "metadata": {
    "collapsed": false
   },
   "outputs": [
    {
     "name": "stdout",
     "output_type": "stream",
     "text": [
      "4.649013519287109\n"
     ]
    }
   ],
   "source": [
    "first_n = pd.read_csv('loans_2007.csv', nrows=3000)\n",
    "print(first_n.memory_usage(deep=True).sum() / 2 ** 20)\n"
   ]
  },
  {
   "cell_type": "markdown",
   "metadata": {},
   "source": [
    "### How many rows in dataset?"
   ]
  },
  {
   "cell_type": "code",
   "execution_count": 5,
   "metadata": {
    "collapsed": false
   },
   "outputs": [
    {
     "name": "stdout",
     "output_type": "stream",
     "text": [
      "42538\n"
     ]
    }
   ],
   "source": [
    "total_rows = 0\n",
    "chunk_iter = pd.read_csv('loans_2007.csv', chunksize=3000)   \n",
    "for chunk in chunk_iter:\n",
    "    total_rows += len(chunk)\n",
    "    \n",
    "print(total_rows)\n"
   ]
  },
  {
   "cell_type": "markdown",
   "metadata": {},
   "source": [
    "### Explore Data in the Chunk"
   ]
  },
  {
   "cell_type": "markdown",
   "metadata": {
    "collapsed": true
   },
   "source": [
    "#### How many columns have a numeric type? How many have a string type?"
   ]
  },
  {
   "cell_type": "code",
   "execution_count": 6,
   "metadata": {
    "collapsed": false
   },
   "outputs": [
    {
     "data": {
      "text/plain": [
       "float64    30\n",
       "object     21\n",
       "int64       1\n",
       "dtype: int64"
      ]
     },
     "execution_count": 6,
     "metadata": {},
     "output_type": "execute_result"
    }
   ],
   "source": [
    "first_five.dtypes.value_counts()\n"
   ]
  },
  {
   "cell_type": "code",
   "execution_count": 7,
   "metadata": {
    "collapsed": false
   },
   "outputs": [
    {
     "name": "stdout",
     "output_type": "stream",
     "text": [
      "Numeric columns number: 31\n",
      "String columns number: 21\n"
     ]
    }
   ],
   "source": [
    "numeric_cols_num = len(first_five.select_dtypes(include=['float64', 'int64']).columns)   \n",
    "print('Numeric columns number: {}'.format(numeric_cols_num))\n",
    "\n",
    "string_cols_num = len(first_five.select_dtypes(include='object').columns)                 \n",
    "print('String columns number: {}'.format(string_cols_num))\n",
    "\n"
   ]
  },
  {
   "cell_type": "code",
   "execution_count": 8,
   "metadata": {
    "collapsed": false
   },
   "outputs": [
    {
     "name": "stdout",
     "output_type": "stream",
     "text": [
      "{'grade': 42538, 'acc_now_delinq': 42538, 'inq_last_6mths': 42538, 'pymnt_plan': 42538, 'open_acc': 42538, 'purpose': 42538, 'revol_bal': 42538, 'sub_grade': 42538, 'total_rec_int': 42538, 'zip_code': 42538, 'chargeoff_within_12_mths': 42538, 'loan_status': 42538, 'last_credit_pull_d': 42538, 'last_pymnt_amnt': 42538, 'emp_length': 42538, 'revol_util': 42538, 'recoveries': 42538, 'out_prncp': 42538, 'collection_recovery_fee': 42538, 'total_rec_prncp': 42538, 'policy_code': 42538, 'int_rate': 42538, 'total_rec_late_fee': 42538, 'verification_status': 42538, 'issue_d': 42538, 'addr_state': 42538, 'funded_amnt': 42538, 'member_id': 42538, 'loan_amnt': 42538, 'collections_12_mths_ex_med': 42538, 'home_ownership': 42538, 'pub_rec_bankruptcies': 42538, 'delinq_amnt': 42538, 'total_acc': 42538, 'id': 42538, 'initial_list_status': 42538, 'application_type': 42538, 'pub_rec': 42538, 'last_pymnt_d': 42538, 'funded_amnt_inv': 42538, 'annual_inc': 42538, 'total_pymnt': 42538, 'total_pymnt_inv': 42538, 'title': 42538, 'out_prncp_inv': 42538, 'term': 42538, 'dti': 42538, 'tax_liens': 42538, 'delinq_2yrs': 42538, 'earliest_cr_line': 42538, 'emp_title': 42538, 'installment': 42538}\n"
     ]
    }
   ],
   "source": [
    "# total rows by column\n",
    "total_rows_by_col = {}\n",
    "chunk_iter = pd.read_csv('loans_2007.csv', chunksize=3000)   \n",
    "for chunk in chunk_iter:\n",
    "    for col in chunk:\n",
    "        if col in total_rows_by_col:\n",
    "            total_rows_by_col[col] += len(chunk[col])\n",
    "        else:\n",
    "            total_rows_by_col[col] = len(chunk[col])\n",
    "            \n",
    "print(total_rows_by_col)            \n",
    "    "
   ]
  },
  {
   "cell_type": "markdown",
   "metadata": {},
   "source": [
    "#### How many unique values are there in each string column? How many of the string columns contain values that are less than 50% unique?\n"
   ]
  },
  {
   "cell_type": "code",
   "execution_count": 9,
   "metadata": {
    "collapsed": false
   },
   "outputs": [
    {
     "name": "stdout",
     "output_type": "stream",
     "text": [
      "42535\n"
     ]
    },
    {
     "data": {
      "text/plain": [
       "<function print>"
      ]
     },
     "execution_count": 9,
     "metadata": {},
     "output_type": "execute_result"
    }
   ],
   "source": [
    "# unique values in each string column\n",
    "obj_col_vc = {} # key is the column name\n",
    "chunk_iter = pd.read_csv('loans_2007.csv', chunksize=3000)   \n",
    "for chunk in chunk_iter:\n",
    "    obj_cols = chunk.select_dtypes(include='object')\n",
    "    #print(obj_cols.columns)\n",
    "    for col in obj_cols.columns:\n",
    "        current_vc = obj_cols[col].value_counts()\n",
    "        if col in obj_col_vc:\n",
    "            obj_col_vc[col].append(current_vc) \n",
    "        else:\n",
    "            obj_col_vc[col] = [current_vc]\n",
    "    \n",
    "# combine\n",
    "final_vcs = {}\n",
    "vc_lt50pct = []\n",
    "for col in obj_col_vc:\n",
    "    combined_vc = pd.concat(obj_col_vc[col])\n",
    "    final_vc = combined_vc.groupby(combined_vc.index).sum()\n",
    "    final_vcs[col] = final_vc\n",
    "    \n",
    "    #if final_vc[col].sum() < total_rows_by_col[col] * 0.5:\n",
    "    #    vc_lt50pct.append(col)\n",
    "\n",
    "print(final_vcs['loan_status'].sum())\n",
    "print\n",
    "#print(vc_lt50pct)\n",
    "    "
   ]
  },
  {
   "cell_type": "markdown",
   "metadata": {},
   "source": [
    "#### Which float columns have no missing values and could be candidates for conversion to the integer type?"
   ]
  },
  {
   "cell_type": "code",
   "execution_count": 10,
   "metadata": {
    "collapsed": false
   },
   "outputs": [
    {
     "name": "stdout",
     "output_type": "stream",
     "text": [
      "{'loan_amnt': 3, 'acc_now_delinq': 32, 'total_pymnt_inv': 3, 'inq_last_6mths': 32, 'collections_12_mths_ex_med': 148, 'pub_rec_bankruptcies': 1368, 'open_acc': 32, 'revol_bal': 3, 'total_rec_int': 3, 'total_acc': 32, 'policy_code': 3, 'chargeoff_within_12_mths': 148, 'pub_rec': 32, 'recoveries': 3, 'funded_amnt_inv': 3, 'last_pymnt_amnt': 3, 'out_prncp': 3, 'collection_recovery_fee': 3, 'total_rec_prncp': 3, 'total_pymnt': 3, 'total_rec_late_fee': 3, 'out_prncp_inv': 3, 'annual_inc': 7, 'dti': 3, 'tax_liens': 108, 'delinq_2yrs': 32, 'funded_amnt': 3, 'member_id': 3, 'delinq_amnt': 32, 'installment': 3}\n"
     ]
    }
   ],
   "source": [
    "float_cols_mv = {}\n",
    "chunk_iter = pd.read_csv('loans_2007.csv', chunksize=3000)   \n",
    "for chunk in chunk_iter:\n",
    "    float_cols = chunk.select_dtypes(include='float64')\n",
    "    for col in float_cols:\n",
    "        if col in float_cols_mv:\n",
    "            float_cols_mv[col] += float_cols[col].isnull().sum()  \n",
    "        else:\n",
    "            float_cols_mv[col] = float_cols[col].isnull().sum()  \n",
    "\n",
    "print(float_cols_mv)\n"
   ]
  },
  {
   "cell_type": "code",
   "execution_count": 11,
   "metadata": {
    "collapsed": false
   },
   "outputs": [
    {
     "data": {
      "text/plain": [
       "[]"
      ]
     },
     "execution_count": 11,
     "metadata": {},
     "output_type": "execute_result"
    }
   ],
   "source": [
    "float_cols_no_mv = [k for (k, v) in float_cols_mv.items() if v==0]   \n",
    "float_cols_no_mv\n"
   ]
  },
  {
   "cell_type": "markdown",
   "metadata": {},
   "source": [
    "#### Calculate the total memory usage across all of the chunks.\n"
   ]
  },
  {
   "cell_type": "code",
   "execution_count": 28,
   "metadata": {
    "collapsed": false
   },
   "outputs": [
    {
     "name": "stdout",
     "output_type": "stream",
     "text": [
      "Total Memory Usage Across all the Chunks before cleaning: 66.215 megabytes\n"
     ]
    }
   ],
   "source": [
    "# in megabytes\n",
    "memory_usages_before = []\n",
    "chunk_iter = pd.read_csv('loans_2007.csv', chunksize=3000)   \n",
    "for chunk in chunk_iter:\n",
    "    #memory_usages.append(chunk.memory_usage(deep=True).sum()/ 2**20)    \n",
    "    memory_usage = chunk.memory_usage(deep=True).sum() / 2**20 \n",
    "    memory_usages_before.append(memory_usage)\n",
    "    \n",
    "total_memory_usages_before = sum(memory_usages_before)   \n",
    "print('Total Memory Usage Across all the Chunks before cleaning: {:.3f} megabytes'.format(total_memory_usages_before) ) \n",
    "\n",
    "    "
   ]
  },
  {
   "cell_type": "markdown",
   "metadata": {},
   "source": [
    "### Data Cleaning and calculate memory usage after cleaning"
   ]
  },
  {
   "cell_type": "markdown",
   "metadata": {
    "collapsed": true
   },
   "source": [
    "\n",
    "\n",
    "Convert 'issue_d', 'earliest_cr_line', 'last_pymnt_d', and 'last_credit_pull_d' to datetime.\n",
    "\n",
    "Determine which string columns you can convert to a numeric type if you clean them.  For example, column 'term' data has month at the end.  The 'int_rate' and 'revol_util' column is only a string because of the % sign at the end.  \n",
    "\n",
    "Convert the columns that contain numeric values to the float type.  Focus on columns that would actually be useful for analysis and modelling.\n",
    "\n",
    "Determine which columns have a few unique values and convert them to the category type.  For example, you may want to convert the grade and sub_grade columns.\n"
   ]
  },
  {
   "cell_type": "markdown",
   "metadata": {},
   "source": [
    "#### Based on your conclusions, perform the necessary type changes across all chunks. Calculate the total memory footprint, and compare it with the previous one."
   ]
  },
  {
   "cell_type": "code",
   "execution_count": 13,
   "metadata": {
    "collapsed": true
   },
   "outputs": [],
   "source": [
    "\n",
    "convert_col_dtypes = {\n",
    "    \"sub_grade\": \"category\", \n",
    "    \"home_ownership\": \"category\", \n",
    "    \"verification_status\": \"category\", \n",
    "    \"purpose\": \"category\"\n",
    "}"
   ]
  },
  {
   "cell_type": "code",
   "execution_count": 29,
   "metadata": {
    "collapsed": false
   },
   "outputs": [
    {
     "name": "stdout",
     "output_type": "stream",
     "text": [
      "<class 'pandas.core.frame.DataFrame'>\n",
      "RangeIndex: 538 entries, 42000 to 42537\n",
      "Data columns (total 52 columns):\n",
      "id                            538 non-null object\n",
      "member_id                     536 non-null float64\n",
      "loan_amnt                     536 non-null float64\n",
      "funded_amnt                   536 non-null float64\n",
      "funded_amnt_inv               536 non-null float64\n",
      "term                          536 non-null float64\n",
      "int_rate                      536 non-null float64\n",
      "installment                   536 non-null float64\n",
      "grade                         536 non-null object\n",
      "sub_grade                     536 non-null category\n",
      "emp_title                     499 non-null object\n",
      "emp_length                    536 non-null object\n",
      "home_ownership                536 non-null category\n",
      "annual_inc                    532 non-null float64\n",
      "verification_status           536 non-null category\n",
      "issue_d                       536 non-null datetime64[ns]\n",
      "loan_status                   536 non-null object\n",
      "pymnt_plan                    536 non-null object\n",
      "purpose                       536 non-null category\n",
      "title                         536 non-null object\n",
      "zip_code                      536 non-null object\n",
      "addr_state                    536 non-null object\n",
      "dti                           536 non-null float64\n",
      "delinq_2yrs                   507 non-null float64\n",
      "earliest_cr_line              507 non-null datetime64[ns]\n",
      "inq_last_6mths                507 non-null float64\n",
      "open_acc                      507 non-null float64\n",
      "pub_rec                       507 non-null float64\n",
      "revol_bal                     536 non-null float64\n",
      "revol_util                    504 non-null float64\n",
      "total_acc                     507 non-null float64\n",
      "initial_list_status           536 non-null object\n",
      "out_prncp                     536 non-null float64\n",
      "out_prncp_inv                 536 non-null float64\n",
      "total_pymnt                   536 non-null float64\n",
      "total_pymnt_inv               536 non-null float64\n",
      "total_rec_prncp               536 non-null float64\n",
      "total_rec_int                 536 non-null float64\n",
      "total_rec_late_fee            536 non-null float64\n",
      "recoveries                    536 non-null float64\n",
      "collection_recovery_fee       536 non-null float64\n",
      "last_pymnt_d                  536 non-null datetime64[ns]\n",
      "last_pymnt_amnt               536 non-null float64\n",
      "last_credit_pull_d            534 non-null datetime64[ns]\n",
      "collections_12_mths_ex_med    447 non-null float64\n",
      "policy_code                   536 non-null float64\n",
      "application_type              536 non-null object\n",
      "acc_now_delinq                507 non-null float64\n",
      "chargeoff_within_12_mths      447 non-null float64\n",
      "delinq_amnt                   507 non-null float64\n",
      "pub_rec_bankruptcies          26 non-null float64\n",
      "tax_liens                     470 non-null float64\n",
      "dtypes: category(4), datetime64[ns](4), float64(33), object(11)\n",
      "memory usage: 206.4+ KB\n",
      "None\n",
      "Missing Value Count for float columns by column:\n",
      "Total memory usage after cleaning and converting: 39.790 megabytes\n"
     ]
    }
   ],
   "source": [
    "# Convert issue_d, earliest_cr_line, last_pymnt_d, and last_credit_pull_d to datetime.¶\n",
    "# Convert 'term', 'int_rate' and 'revol_util' to numerical by data cleaning.\n",
    "# calculate missing value counts for float columns\n",
    "# convert 'grade', 'sub_grade' to category type\n",
    "chunk_iter = pd.read_csv('loans_2007.csv', \n",
    "                         chunksize=3000, \n",
    "                         dtype = convert_col_dtypes,\n",
    "                         parse_dates=[\"issue_d\", \"earliest_cr_line\", \"last_pymnt_d\", \"last_credit_pull_d\"]   \n",
    "                        ) \n",
    "\n",
    "float_mv_counts_by_col = {}\n",
    "memory_usages_after = []\n",
    "\n",
    "for chunk in chunk_iter:\n",
    "    term_cleaned = chunk['term'].str.strip(' ').str.rstrip('months')  \n",
    "    chunk['term'] = pd.to_numeric(term_cleaned)\n",
    "    \n",
    "    revol_cleaned = chunk['revol_util'].str.rstrip('%')\n",
    "    chunk['revol_util'] = pd.to_numeric(revol_cleaned)\n",
    "    int_rate_cleaned = chunk['int_rate'].str.rstrip('%') \n",
    "    chunk['int_rate'] = pd.to_numeric(int_rate_cleaned)\n",
    "    \n",
    "    memory_usage = chunk.memory_usage(deep=True).sum() / 2**20  \n",
    "    memory_usages_after.append(memory_usage)   \n",
    " \n",
    "    float_cols = chunk.select_dtypes(include='float')\n",
    "    for col in float_cols.columns:\n",
    "        mv_count = len(chunk) - chunk[col].count()\n",
    "        if col in float_mv_counts_by_col:\n",
    "            float_mv_counts_by_col[col] += mv_count\n",
    "        else: \n",
    "            float_mv_counts_by_col[col] = mv_count\n",
    "\n",
    "print(chunk.info())\n",
    "\n",
    "print('Missing Value Count for float columns by column:'.format(float_mv_counts_by_col))  \n",
    "\n",
    "print('Total memory usage after cleaning and converting: {:.3f} megabytes'.format(sum(memory_usages_after)))\n",
    "\n"
   ]
  },
  {
   "cell_type": "markdown",
   "metadata": {
    "collapsed": true
   },
   "source": [
    "It looks like we were able to realize some powerful memory savings of about 40% memory usage by converting to the category type and converting string columns to numeric ones."
   ]
  },
  {
   "cell_type": "markdown",
   "metadata": {},
   "source": [
    "\n",
    "\n",
    "### optimize the numeric columns using the pandas.to_numeric() function.\n",
    "\n",
    "While working with dataframe chunks:\n",
    "- Identify float columns that contain missing values, and that we can convert to a more space efficient subtype.\n",
    "- Identify float columns that don't contain any missing values, and that we can convert to the integer type because they represent whole numbers.\n",
    "- Based on your conclusions, perform the necessary type changes across all chunks. Calculate the total memory footprint and compare it with the previous one."
   ]
  },
  {
   "cell_type": "code",
   "execution_count": null,
   "metadata": {
    "collapsed": true
   },
   "outputs": [],
   "source": []
  },
  {
   "cell_type": "code",
   "execution_count": null,
   "metadata": {
    "collapsed": true
   },
   "outputs": [],
   "source": []
  },
  {
   "cell_type": "markdown",
   "metadata": {
    "collapsed": true
   },
   "source": [
    "### Create a function to automates cleaning work"
   ]
  },
  {
   "cell_type": "markdown",
   "metadata": {},
   "source": [
    "Create a function that automates as much of the work you just did as possible, so that you could use it on other Lending Club data sets. This function should:\n",
    "- Determine the optimal chunk size based on the memory constraints you provide\n",
    "- Determine which string columns can be converted to numeric ones by removing the % character\n",
    "- Determine which numeric columns can be converted to more space efficient representations"
   ]
  },
  {
   "cell_type": "code",
   "execution_count": null,
   "metadata": {
    "collapsed": true
   },
   "outputs": [],
   "source": []
  },
  {
   "cell_type": "code",
   "execution_count": null,
   "metadata": {
    "collapsed": true
   },
   "outputs": [],
   "source": []
  },
  {
   "cell_type": "code",
   "execution_count": 1,
   "metadata": {
    "collapsed": false
   },
   "outputs": [
    {
     "ename": "NameError",
     "evalue": "name 'first_five' is not defined",
     "output_type": "error",
     "traceback": [
      "\u001b[1;31m\u001b[0m",
      "\u001b[1;31mNameError\u001b[0mTraceback (most recent call last)",
      "\u001b[1;32m<ipython-input-1-9bdd0f073789>\u001b[0m in \u001b[0;36m<module>\u001b[1;34m()\u001b[0m\n\u001b[1;32m----> 1\u001b[1;33m \u001b[0mfirst_five\u001b[0m\u001b[1;33m[\u001b[0m\u001b[0museful_obj_cols\u001b[0m\u001b[1;33m]\u001b[0m\u001b[1;33m.\u001b[0m\u001b[0minfo\u001b[0m\u001b[1;33m(\u001b[0m\u001b[1;33m)\u001b[0m\u001b[1;33m\u001b[0m\u001b[0m\n\u001b[0m",
      "\u001b[1;31mNameError\u001b[0m: name 'first_five' is not defined"
     ]
    }
   ],
   "source": [
    "first_five[useful_obj_cols].info()"
   ]
  },
  {
   "cell_type": "code",
   "execution_count": null,
   "metadata": {
    "collapsed": true
   },
   "outputs": [],
   "source": [
    "useful_obj_cols = ['term', 'sub_grade', 'emp_title', 'home_ownership', 'verification_status', 'issue_d', 'purpose', 'earliest_cr_line', 'revol_util', 'last_pymnt_d', 'last_credit_pull_d']   \n"
   ]
  },
  {
   "cell_type": "code",
   "execution_count": null,
   "metadata": {
    "collapsed": true
   },
   "outputs": [],
   "source": []
  }
 ],
 "metadata": {
  "anaconda-cloud": {},
  "kernelspec": {
   "display_name": "Python 3",
   "language": "python",
   "name": "python3"
  },
  "language_info": {
   "codemirror_mode": {
    "name": "ipython",
    "version": 3
   },
   "file_extension": ".py",
   "mimetype": "text/x-python",
   "name": "python",
   "nbconvert_exporter": "python",
   "pygments_lexer": "ipython3",
   "version": "3.4.3"
  }
 },
 "nbformat": 4,
 "nbformat_minor": 2
}
