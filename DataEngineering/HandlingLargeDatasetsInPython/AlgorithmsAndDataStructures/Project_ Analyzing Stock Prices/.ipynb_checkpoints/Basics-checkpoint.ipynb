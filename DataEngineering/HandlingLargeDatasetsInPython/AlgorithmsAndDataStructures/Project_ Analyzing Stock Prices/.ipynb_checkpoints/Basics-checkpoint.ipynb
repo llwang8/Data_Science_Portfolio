{
 "cells": [
  {
   "cell_type": "markdown",
   "metadata": {
    "collapsed": true
   },
   "source": [
    "# Analyzing Stock Prices\n",
    "\n",
    "In this guided project, we'll work with stock market data that was downloaded from Yahoo Finance using the yahoo_finance Python package. This data consists of the daily stock prices from 2007-1-1 to 2017-04-17 for several hundred stock symbols traded on the NASDAQ stock exchange, stored in the prices folder. The download_data.py script in the same folder as the Jupyter notebook was used to download all of the stock price data. Each file in the prices folder is named for a specific stock symbol, and contains the:\n",
    "\n",
    "date -- date that the data is from.\n",
    "close -- the closing price on that day, which is the price when the trading day ends.\n",
    "open -- the opening price on that day, which is the price when the trading day starts.\n",
    "high -- the highest price the stock reached during trading.\n",
    "low -- the lowest price the stock reached during trading.\n",
    "volume -- the number of shares that were traded during the day."
   ]
  },
  {
   "cell_type": "markdown",
   "metadata": {},
   "source": [
    "Use dict data structure, which would make search by stock symbol easier.  A dataframe would allow efficient use of panda and numpy libries for data analysis.\n",
    "\n",
    "- Layer 1 : Use stock symbol as key, \n",
    "- Layer 2 & 3: datafame that contains stock price over time period with columns data as value\n",
    "\n"
   ]
  },
  {
   "cell_type": "code",
   "execution_count": null,
   "metadata": {
    "collapsed": true
   },
   "outputs": [],
   "source": []
  },
  {
   "cell_type": "code",
   "execution_count": null,
   "metadata": {
    "collapsed": true
   },
   "outputs": [],
   "source": [
    "# The concurrent.futures module provides a high-level \n",
    "# interface for asynchronously executing callables.\n",
    "\n"
   ]
  }
 ],
 "metadata": {
  "kernelspec": {
   "display_name": "Python 3",
   "language": "python",
   "name": "python3"
  },
  "language_info": {
   "codemirror_mode": {
    "name": "ipython",
    "version": 3
   },
   "file_extension": ".py",
   "mimetype": "text/x-python",
   "name": "python",
   "nbconvert_exporter": "python",
   "pygments_lexer": "ipython3",
   "version": "3.4.3"
  }
 },
 "nbformat": 4,
 "nbformat_minor": 0
}
