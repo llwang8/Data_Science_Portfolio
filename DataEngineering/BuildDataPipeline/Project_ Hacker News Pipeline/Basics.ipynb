{
 "cells": [
  {
   "cell_type": "markdown",
   "metadata": {
    "collapsed": true
   },
   "source": [
    "# Hacker News Pipeline\n",
    "\n",
    "From a JSON API, transform data with a Pipeline class of processing tasks to filter, clean, aggregate, and summarize data including runing a sequence of basic natural language processing. The goal will be to find the top 100 keywords of Hacker News posts in 2014. Because Hacker News is the most popular technology social media site, this will give us an understanding of the most talked about tech topics in 2014!\n",
    "\n",
    "The data comes from a Hacker News (HN) API that returns JSON data of the top stories in 2014. Hacker News is a link aggregator website that users vote up stories that are interesting to the community. It is similar to Reddit, but the community only revolves around on computer science and entrepreneurship posts.\n",
    "\n",
    "The JSON file contains a single key stories, which contains a list of stories (posts). Each post has a set of keys, but we will deal only with the following keys:\n",
    "\n",
    "- created_at: A timestamp of the story's creation time.\n",
    "- created_at_i: A unix epoch timestamp.\n",
    "- url: The URL of the story link.\n",
    "- objectID: The ID of the story.\n",
    "- author: The story's author (username on HN).\n",
    "- points: The number of upvotes the story had.\n",
    "- title: The headline of the post.\n",
    "- num_comments: The number of a comments a post has.\n",
    "\n"
   ]
  },
  {
   "cell_type": "code",
   "execution_count": 12,
   "metadata": {
    "collapsed": true
   },
   "outputs": [],
   "source": [
    "from pipeline import Pipeline, build_csv\n",
    "import json\n",
    "import csv\n",
    "import io\n",
    "import string\n",
    "from stop_words import stop_words\n",
    "from datetime import datetime\n"
   ]
  },
  {
   "cell_type": "code",
   "execution_count": 13,
   "metadata": {
    "collapsed": true
   },
   "outputs": [],
   "source": [
    "pipeline = Pipeline()"
   ]
  },
  {
   "cell_type": "markdown",
   "metadata": {},
   "source": [
    "Step 1: load in all the stories as a list of dict objects"
   ]
  },
  {
   "cell_type": "code",
   "execution_count": 14,
   "metadata": {
    "collapsed": true
   },
   "outputs": [],
   "source": [
    "@pipeline.task()\n",
    "def file_to_json():\n",
    "    with open('hn_stories_2014.json', 'r') as f:\n",
    "        data = json.load(f)\n",
    "    return data['stories']\n"
   ]
  },
  {
   "cell_type": "markdown",
   "metadata": {},
   "source": [
    "Step 2: filter popular stories that have more than 50 points, more than 1 comment, and do not begin with \"Ask HN\"."
   ]
  },
  {
   "cell_type": "code",
   "execution_count": 15,
   "metadata": {
    "collapsed": true
   },
   "outputs": [],
   "source": [
    "@pipeline.task(depends_on=file_to_json)\n",
    "def filter_stories(stories):\n",
    "    def is_popular(story):\n",
    "        return story['points']>50 and story['num_comments'] and not story['title'].startswith('Ask HN') \n",
    "    \n",
    "    return (story for story in stories if is_popular(story))  \n",
    "        \n",
    "    "
   ]
  },
  {
   "cell_type": "markdown",
   "metadata": {},
   "source": [
    "Step 3: write these dict objects to a CSV file. The purpose of translating the dictionaries to a CSV is to have a consistent data format when running the later summarizations. By keeping consistent data formats, each of your pipeline tasks will be adaptable with future task requirements."
   ]
  },
  {
   "cell_type": "code",
   "execution_count": 16,
   "metadata": {
    "collapsed": true
   },
   "outputs": [],
   "source": [
    "@pipeline.task(depends_on=filter_stories)\n",
    "def json_to_csv(stories):\n",
    "    lines = []\n",
    "    for story in stories:\n",
    "        line = (story['objectID'], datetime.strptime(story['created_at'], '%Y-%m-%dT%H:%M:%SZ'), story['url'], story['points'], story['title']) \n",
    "        lines.append(line)\n",
    "    return build_csv(lines, header=['objectID', 'created_at', 'url', 'points', 'title'], file=io.StringIO())\n",
    "          "
   ]
  },
  {
   "cell_type": "markdown",
   "metadata": {
    "collapsed": true
   },
   "source": [
    "Step 4: extract the title column using the CSV file format we created in the previous task. "
   ]
  },
  {
   "cell_type": "code",
   "execution_count": 17,
   "metadata": {
    "collapsed": true
   },
   "outputs": [],
   "source": [
    "@pipeline.task(depends_on=json_to_csv)\n",
    "def extract_titles(csvfile):\n",
    "    reader = csv.reader(csvfile)\n",
    "    header = next(reader)\n",
    "    title_idx = header.index('title')\n",
    "    return (line[title_idx] for line in reader)\n",
    "               "
   ]
  },
  {
   "cell_type": "markdown",
   "metadata": {},
   "source": [
    "Step 5: to clean the titles, lower case the titles, and remove the punctuation before creating a non-empty word frequency model of words from Hacker News titles,"
   ]
  },
  {
   "cell_type": "code",
   "execution_count": 18,
   "metadata": {
    "collapsed": true
   },
   "outputs": [],
   "source": [
    "@pipeline.task(depends_on=extract_titles)\n",
    "def clean_titles(titles):\n",
    "    for title in titles:\n",
    "        title = title.lower()\n",
    "        title = ''.join(c for c in title if c not in string.punctuation)  \n",
    "        yield title\n",
    "    "
   ]
  },
  {
   "cell_type": "markdown",
   "metadata": {},
   "source": [
    "Step 6: build the word frequency dictionary not including stop words."
   ]
  },
  {
   "cell_type": "code",
   "execution_count": 19,
   "metadata": {
    "collapsed": true
   },
   "outputs": [],
   "source": [
    "@pipeline.task(depends_on=clean_titles)\n",
    "def build_keyword_dictionary(titles):\n",
    "    word_frequency = {}\n",
    "    for title in titles:\n",
    "        words = title.split(' ')\n",
    "        for word in words:\n",
    "            if word and word not in stop_words:\n",
    "                if word not in word_frequency:\n",
    "                    word_frequency[word] = 1\n",
    "                word_frequency[word] += 1\n",
    "                                 \n",
    "    return word_frequency\n"
   ]
  },
  {
   "cell_type": "markdown",
   "metadata": {},
   "source": [
    "Step 7: sort the top words used in all the titles.   Save a file of the output for each task. This will allow you to \"checkpoint\" tasks so they don't have to be run twice."
   ]
  },
  {
   "cell_type": "code",
   "execution_count": 20,
   "metadata": {
    "collapsed": true
   },
   "outputs": [],
   "source": [
    "@pipeline.task(depends_on=build_keyword_dictionary)\n",
    "def sort_top_words(word_freq):\n",
    "    sorted_word_freq = sorted(word_freq.items(), key=lambda x: x[1], reverse=True)  \n",
    "    \n",
    "    csv_file = 'word_frequency_desc.csv'  \n",
    "    try:\n",
    "        with open(csv_file, 'w') as f:\n",
    "            writer = csv.writer(f)\n",
    "            writer.writerow(('words', 'frequency'))\n",
    "            for row in sorted_word_freq:\n",
    "                writer.writerow(row)\n",
    "    except IOError:\n",
    "        print('I/O error')\n",
    "        \n",
    "    return sorted_word_freq[:100]\n",
    "\n",
    "\n"
   ]
  },
  {
   "cell_type": "markdown",
   "metadata": {},
   "source": [
    "Step 9: Run the pipeline and print the word and frequency in descending order"
   ]
  },
  {
   "cell_type": "code",
   "execution_count": 21,
   "metadata": {
    "collapsed": false
   },
   "outputs": [
    {
     "name": "stdout",
     "output_type": "stream",
     "text": [
      "[('new', 186), ('google', 168), ('bitcoin', 102), ('open', 94), ('programming', 91), ('web', 89), ('data', 87), ('video', 80), ('python', 77), ('code', 73), ('released', 72), ('facebook', 72), ('using', 71), ('javascript', 66), ('free', 66), ('source', 66), ('2013', 66), ('game', 64), ('internet', 63), ('microsoft', 60), ('c', 60), ('linux', 59), ('app', 58), ('pdf', 56), ('language', 55), ('work', 55), ('software', 53), ('2014', 53), ('startup', 52), ('make', 51), ('use', 51), ('apple', 51), ('yc', 49), ('security', 49), ('time', 49), ('nsa', 46), ('github', 46), ('windows', 45), ('way', 42), ('like', 42), ('world', 42), ('project', 41), ('heartbleed', 41), ('computer', 41), ('1', 41), ('git', 38), ('dont', 38), ('design', 38), ('ios', 38), ('users', 38), ('os', 37), ('developer', 37), ('twitter', 37), ('vs', 37), ('ceo', 37), ('life', 37), ('big', 36), ('day', 36), ('online', 35), ('android', 35), ('years', 34), ('simple', 34), ('court', 34), ('mt', 33), ('guide', 33), ('apps', 33), ('learning', 33), ('api', 33), ('browser', 33), ('says', 33), ('server', 32), ('site', 32), ('problem', 32), ('fast', 32), ('engine', 32), ('mozilla', 32), ('firefox', 32), ('gox', 32), ('amazon', 31), ('year', 31), ('introducing', 31), ('better', 30), ('support', 30), ('text', 30), ('stop', 30), ('built', 30), ('million', 30), ('people', 30), ('3', 29), ('development', 29), ('does', 29), ('tech', 29), ('library', 28), ('developers', 28), ('did', 28), ('money', 28), ('just', 28), ('2048', 28), ('best', 28), ('chrome', 28)]\n"
     ]
    }
   ],
   "source": [
    "run_pipeline = pipeline.run()\n",
    "print(run_pipeline[sort_top_words])\n"
   ]
  },
  {
   "cell_type": "code",
   "execution_count": null,
   "metadata": {
    "collapsed": true
   },
   "outputs": [],
   "source": [
    "\n"
   ]
  },
  {
   "cell_type": "markdown",
   "metadata": {
    "collapsed": true
   },
   "source": [
    "Additional Steps:\n",
    "\n",
    "- Use the nltk package for more advanced natural language processing tasks.\n",
    "\n",
    "- Convert to a CSV before filtering, so you can keep all the stories from 2014 in a raw file.\n",
    "\n",
    "- Fetch the data from Hacker News directly from a JSON API. Instead of reading from the file we gave, you can perform additional data processing using newer data."
   ]
  },
  {
   "cell_type": "code",
   "execution_count": null,
   "metadata": {
    "collapsed": true
   },
   "outputs": [],
   "source": []
  },
  {
   "cell_type": "code",
   "execution_count": null,
   "metadata": {
    "collapsed": true
   },
   "outputs": [],
   "source": []
  },
  {
   "cell_type": "code",
   "execution_count": null,
   "metadata": {
    "collapsed": true
   },
   "outputs": [],
   "source": []
  }
 ],
 "metadata": {
  "anaconda-cloud": {},
  "kernelspec": {
   "display_name": "Python 3",
   "language": "python",
   "name": "python3"
  },
  "language_info": {
   "codemirror_mode": {
    "name": "ipython",
    "version": 3
   },
   "file_extension": ".py",
   "mimetype": "text/x-python",
   "name": "python",
   "nbconvert_exporter": "python",
   "pygments_lexer": "ipython3",
   "version": "3.4.3"
  }
 },
 "nbformat": 4,
 "nbformat_minor": 1
}
