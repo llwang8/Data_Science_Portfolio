{
 "cells": [
  {
   "cell_type": "markdown",
   "metadata": {
    "collapsed": true
   },
   "source": [
    "# Predicting House Sale Prices\n",
    "\n",
    "In this project, I practice what I learned about approaches to model fitting, and techniques for cleaning, transforming, and selecting features by exploring ways to improve the linear regression model built in the course of Linear Regression for Machine Learning.  I also experiment with different k-fold to achieve the optimal LinearRegression model.\n",
    "\n",
    "I'll work with housing data for the city of Ames, Iowa, United States from 2006 to 2010. You can also read about the different columns in the data _[here](https://www.kaggle.com/c/house-prices-advanced-regression-techniques/data)_.\n"
   ]
  },
  {
   "cell_type": "code",
   "execution_count": 1,
   "metadata": {
    "collapsed": false
   },
   "outputs": [],
   "source": [
    "import pandas as pd\n",
    "import numpy as np\n",
    "import matplotlib.pyplot as plt\n",
    "%matplotlib inline\n",
    "import seaborn as sns\n",
    "from sklearn.linear_model import LinearRegression\n",
    "from sklearn.metrics import mean_squared_error\n",
    "from sklearn.model_selection import KFold\n"
   ]
  },
  {
   "cell_type": "code",
   "execution_count": 2,
   "metadata": {
    "collapsed": false
   },
   "outputs": [
    {
     "data": {
      "text/html": [
       "<div>\n",
       "<style scoped>\n",
       "    .dataframe tbody tr th:only-of-type {\n",
       "        vertical-align: middle;\n",
       "    }\n",
       "\n",
       "    .dataframe tbody tr th {\n",
       "        vertical-align: top;\n",
       "    }\n",
       "\n",
       "    .dataframe thead th {\n",
       "        text-align: right;\n",
       "    }\n",
       "</style>\n",
       "<table border=\"1\" class=\"dataframe\">\n",
       "  <thead>\n",
       "    <tr style=\"text-align: right;\">\n",
       "      <th></th>\n",
       "      <th>Order</th>\n",
       "      <th>PID</th>\n",
       "      <th>MS SubClass</th>\n",
       "      <th>MS Zoning</th>\n",
       "      <th>Lot Frontage</th>\n",
       "      <th>Lot Area</th>\n",
       "      <th>Street</th>\n",
       "      <th>Alley</th>\n",
       "      <th>Lot Shape</th>\n",
       "      <th>Land Contour</th>\n",
       "      <th>...</th>\n",
       "      <th>Pool Area</th>\n",
       "      <th>Pool QC</th>\n",
       "      <th>Fence</th>\n",
       "      <th>Misc Feature</th>\n",
       "      <th>Misc Val</th>\n",
       "      <th>Mo Sold</th>\n",
       "      <th>Yr Sold</th>\n",
       "      <th>Sale Type</th>\n",
       "      <th>Sale Condition</th>\n",
       "      <th>SalePrice</th>\n",
       "    </tr>\n",
       "  </thead>\n",
       "  <tbody>\n",
       "    <tr>\n",
       "      <th>0</th>\n",
       "      <td>1</td>\n",
       "      <td>526301100</td>\n",
       "      <td>20</td>\n",
       "      <td>RL</td>\n",
       "      <td>141.0</td>\n",
       "      <td>31770</td>\n",
       "      <td>Pave</td>\n",
       "      <td>NaN</td>\n",
       "      <td>IR1</td>\n",
       "      <td>Lvl</td>\n",
       "      <td>...</td>\n",
       "      <td>0</td>\n",
       "      <td>NaN</td>\n",
       "      <td>NaN</td>\n",
       "      <td>NaN</td>\n",
       "      <td>0</td>\n",
       "      <td>5</td>\n",
       "      <td>2010</td>\n",
       "      <td>WD</td>\n",
       "      <td>Normal</td>\n",
       "      <td>215000</td>\n",
       "    </tr>\n",
       "    <tr>\n",
       "      <th>1</th>\n",
       "      <td>2</td>\n",
       "      <td>526350040</td>\n",
       "      <td>20</td>\n",
       "      <td>RH</td>\n",
       "      <td>80.0</td>\n",
       "      <td>11622</td>\n",
       "      <td>Pave</td>\n",
       "      <td>NaN</td>\n",
       "      <td>Reg</td>\n",
       "      <td>Lvl</td>\n",
       "      <td>...</td>\n",
       "      <td>0</td>\n",
       "      <td>NaN</td>\n",
       "      <td>MnPrv</td>\n",
       "      <td>NaN</td>\n",
       "      <td>0</td>\n",
       "      <td>6</td>\n",
       "      <td>2010</td>\n",
       "      <td>WD</td>\n",
       "      <td>Normal</td>\n",
       "      <td>105000</td>\n",
       "    </tr>\n",
       "    <tr>\n",
       "      <th>2</th>\n",
       "      <td>3</td>\n",
       "      <td>526351010</td>\n",
       "      <td>20</td>\n",
       "      <td>RL</td>\n",
       "      <td>81.0</td>\n",
       "      <td>14267</td>\n",
       "      <td>Pave</td>\n",
       "      <td>NaN</td>\n",
       "      <td>IR1</td>\n",
       "      <td>Lvl</td>\n",
       "      <td>...</td>\n",
       "      <td>0</td>\n",
       "      <td>NaN</td>\n",
       "      <td>NaN</td>\n",
       "      <td>Gar2</td>\n",
       "      <td>12500</td>\n",
       "      <td>6</td>\n",
       "      <td>2010</td>\n",
       "      <td>WD</td>\n",
       "      <td>Normal</td>\n",
       "      <td>172000</td>\n",
       "    </tr>\n",
       "    <tr>\n",
       "      <th>3</th>\n",
       "      <td>4</td>\n",
       "      <td>526353030</td>\n",
       "      <td>20</td>\n",
       "      <td>RL</td>\n",
       "      <td>93.0</td>\n",
       "      <td>11160</td>\n",
       "      <td>Pave</td>\n",
       "      <td>NaN</td>\n",
       "      <td>Reg</td>\n",
       "      <td>Lvl</td>\n",
       "      <td>...</td>\n",
       "      <td>0</td>\n",
       "      <td>NaN</td>\n",
       "      <td>NaN</td>\n",
       "      <td>NaN</td>\n",
       "      <td>0</td>\n",
       "      <td>4</td>\n",
       "      <td>2010</td>\n",
       "      <td>WD</td>\n",
       "      <td>Normal</td>\n",
       "      <td>244000</td>\n",
       "    </tr>\n",
       "    <tr>\n",
       "      <th>4</th>\n",
       "      <td>5</td>\n",
       "      <td>527105010</td>\n",
       "      <td>60</td>\n",
       "      <td>RL</td>\n",
       "      <td>74.0</td>\n",
       "      <td>13830</td>\n",
       "      <td>Pave</td>\n",
       "      <td>NaN</td>\n",
       "      <td>IR1</td>\n",
       "      <td>Lvl</td>\n",
       "      <td>...</td>\n",
       "      <td>0</td>\n",
       "      <td>NaN</td>\n",
       "      <td>MnPrv</td>\n",
       "      <td>NaN</td>\n",
       "      <td>0</td>\n",
       "      <td>3</td>\n",
       "      <td>2010</td>\n",
       "      <td>WD</td>\n",
       "      <td>Normal</td>\n",
       "      <td>189900</td>\n",
       "    </tr>\n",
       "  </tbody>\n",
       "</table>\n",
       "<p>5 rows × 82 columns</p>\n",
       "</div>"
      ],
      "text/plain": [
       "   Order        PID  MS SubClass MS Zoning  Lot Frontage  Lot Area Street  \\\n",
       "0      1  526301100           20        RL         141.0     31770   Pave   \n",
       "1      2  526350040           20        RH          80.0     11622   Pave   \n",
       "2      3  526351010           20        RL          81.0     14267   Pave   \n",
       "3      4  526353030           20        RL          93.0     11160   Pave   \n",
       "4      5  527105010           60        RL          74.0     13830   Pave   \n",
       "\n",
       "  Alley Lot Shape Land Contour    ...     Pool Area Pool QC  Fence  \\\n",
       "0   NaN       IR1          Lvl    ...             0     NaN    NaN   \n",
       "1   NaN       Reg          Lvl    ...             0     NaN  MnPrv   \n",
       "2   NaN       IR1          Lvl    ...             0     NaN    NaN   \n",
       "3   NaN       Reg          Lvl    ...             0     NaN    NaN   \n",
       "4   NaN       IR1          Lvl    ...             0     NaN  MnPrv   \n",
       "\n",
       "  Misc Feature Misc Val Mo Sold Yr Sold Sale Type  Sale Condition  SalePrice  \n",
       "0          NaN        0       5    2010       WD           Normal     215000  \n",
       "1          NaN        0       6    2010       WD           Normal     105000  \n",
       "2         Gar2    12500       6    2010       WD           Normal     172000  \n",
       "3          NaN        0       4    2010       WD           Normal     244000  \n",
       "4          NaN        0       3    2010       WD           Normal     189900  \n",
       "\n",
       "[5 rows x 82 columns]"
      ]
     },
     "execution_count": 2,
     "metadata": {},
     "output_type": "execute_result"
    }
   ],
   "source": [
    "housing = pd.read_csv('AmesHousing.tsv', delimiter='\\t')\n",
    "#housing.head()\n",
    "\n",
    "df = housing.copy()\n",
    "df.head()"
   ]
  },
  {
   "cell_type": "markdown",
   "metadata": {},
   "source": [
    "### Initial Model"
   ]
  },
  {
   "cell_type": "code",
   "execution_count": 3,
   "metadata": {
    "collapsed": false
   },
   "outputs": [
    {
     "name": "stdout",
     "output_type": "stream",
     "text": [
      "57088.25161263909\n"
     ]
    }
   ],
   "source": [
    "def transform_features(df):\n",
    "    return df\n",
    "\n",
    "def select_features(df):\n",
    "    cols =  ['Gr Liv Area','SalePrice']\n",
    "    return df[cols]\n",
    "\n",
    "def train_and_test(df):\n",
    "    train = df[0:1460]\n",
    "    test = df[1460:]\n",
    "    \n",
    "    #select numeric columns\n",
    "    numeric_train = train.select_dtypes(include=['integer', 'float'])  \n",
    "    numeric_test = test.select_dtypes(include=['integer', 'float'])\n",
    "\n",
    "    features = numeric_train.columns.drop('SalePrice')\n",
    "    \n",
    "    lr = LinearRegression()\n",
    "    lr.fit(train[features], train['SalePrice'])\n",
    "    predictions = lr.predict(test[features])\n",
    "    rmse = np.sqrt(mean_squared_error(test['SalePrice'], predictions))  \n",
    "    return rmse\n",
    "\n",
    "transformed_df = transform_features(df)\n",
    "filtered_df = select_features(transformed_df)\n",
    "rmse = train_and_test(filtered_df)\n",
    "print(rmse)    "
   ]
  },
  {
   "cell_type": "markdown",
   "metadata": {
    "collapsed": true
   },
   "source": [
    "### Transforming Features\n"
   ]
  },
  {
   "cell_type": "markdown",
   "metadata": {},
   "source": [
    "##### 1: Drop columns from the data frame with more than 5% missing values.\n",
    "\n"
   ]
  },
  {
   "cell_type": "code",
   "execution_count": 4,
   "metadata": {
    "collapsed": false
   },
   "outputs": [
    {
     "data": {
      "text/plain": [
       "(2930, 82)"
      ]
     },
     "execution_count": 4,
     "metadata": {},
     "output_type": "execute_result"
    }
   ],
   "source": [
    "df.shape\n"
   ]
  },
  {
   "cell_type": "code",
   "execution_count": 6,
   "metadata": {
    "collapsed": false
   },
   "outputs": [
    {
     "name": "stdout",
     "output_type": "stream",
     "text": [
      "Garage Type       157\n",
      "Garage Yr Blt     159\n",
      "Garage Finish     159\n",
      "Garage Qual       159\n",
      "Garage Cond       159\n",
      "Lot Frontage      490\n",
      "Fireplace Qu     1422\n",
      "Fence            2358\n",
      "Alley            2732\n",
      "Misc Feature     2824\n",
      "Pool QC          2917\n",
      "dtype: int64\n"
     ]
    },
    {
     "data": {
      "text/plain": [
       "(2930, 71)"
      ]
     },
     "execution_count": 6,
     "metadata": {},
     "output_type": "execute_result"
    }
   ],
   "source": [
    "# filter series with more than 5% missing value count\n",
    "null_counts = df.isnull().sum()\n",
    "cols_5pct_mv = null_counts[null_counts > len(df)/20].sort_values()    \n",
    "print(cols_5pct_mv)\n",
    "df = df.drop(cols_5pct_mv.index, axis=1)   \n",
    "df.shape\n"
   ]
  },
  {
   "cell_type": "markdown",
   "metadata": {
    "collapsed": true
   },
   "source": [
    "##### 2: Text columns: Drop any with 1 or more missing values for now.\n",
    "\n"
   ]
  },
  {
   "cell_type": "code",
   "execution_count": 7,
   "metadata": {
    "collapsed": false
   },
   "outputs": [
    {
     "data": {
      "text/plain": [
       "(2930, 64)"
      ]
     },
     "execution_count": 7,
     "metadata": {},
     "output_type": "execute_result"
    }
   ],
   "source": [
    "# drop tex columns with 1 or more missing values\n",
    "text_mv_counts = df.select_dtypes(include=['object']).isnull().sum().sort_values(ascending=False)     \n",
    "df = df.drop(text_mv_counts[text_mv_counts > 0].index, axis=1)\n",
    "df.shape\n"
   ]
  },
  {
   "cell_type": "markdown",
   "metadata": {
    "collapsed": true
   },
   "source": [
    "##### 3: Numerical columns: For columns with missing values, fill in with the most common value in that column\n",
    "\n"
   ]
  },
  {
   "cell_type": "code",
   "execution_count": 8,
   "metadata": {
    "collapsed": false
   },
   "outputs": [
    {
     "data": {
      "text/plain": [
       "BsmtFin SF 1       1\n",
       "BsmtFin SF 2       1\n",
       "Bsmt Unf SF        1\n",
       "Total Bsmt SF      1\n",
       "Garage Cars        1\n",
       "Garage Area        1\n",
       "Bsmt Full Bath     2\n",
       "Bsmt Half Bath     2\n",
       "Mas Vnr Area      23\n",
       "dtype: int64"
      ]
     },
     "execution_count": 8,
     "metadata": {},
     "output_type": "execute_result"
    }
   ],
   "source": [
    "# compute numerical column-wise missing value count\n",
    "num_mv_counts = df.select_dtypes(include=['int', 'float']).isnull().sum()     \n",
    "\n",
    "cols_num_mv  = num_mv_counts[(num_mv_counts < len(df)/20) & (num_mv_counts > 0)].sort_values()\n",
    "cols_num_mv\n",
    "  "
   ]
  },
  {
   "cell_type": "code",
   "execution_count": 9,
   "metadata": {
    "collapsed": false
   },
   "outputs": [
    {
     "data": {
      "text/plain": [
       "{'Bsmt Full Bath': 0.0,\n",
       " 'Bsmt Half Bath': 0.0,\n",
       " 'Bsmt Unf SF': 0.0,\n",
       " 'BsmtFin SF 1': 0.0,\n",
       " 'BsmtFin SF 2': 0.0,\n",
       " 'Garage Area': 0.0,\n",
       " 'Garage Cars': 2.0,\n",
       " 'Mas Vnr Area': 0.0,\n",
       " 'Total Bsmt SF': 0.0}"
      ]
     },
     "execution_count": 9,
     "metadata": {},
     "output_type": "execute_result"
    }
   ],
   "source": [
    "# replacement value\n",
    "most_common_value_dict = df[cols_num_mv.index].mode().to_dict(orient='records')[0]     \n",
    "most_common_value_dict\n"
   ]
  },
  {
   "cell_type": "code",
   "execution_count": 10,
   "metadata": {
    "collapsed": true
   },
   "outputs": [],
   "source": [
    "# fill missing value in numeric column with replacement \n",
    "# of most common value repectively\n",
    "df = df.fillna(most_common_value_dict)\n",
    "\n"
   ]
  },
  {
   "cell_type": "markdown",
   "metadata": {
    "collapsed": true
   },
   "source": [
    "Verify every column has no missing value"
   ]
  },
  {
   "cell_type": "code",
   "execution_count": 11,
   "metadata": {
    "collapsed": false
   },
   "outputs": [
    {
     "data": {
      "text/plain": [
       "0    64\n",
       "dtype: int64"
      ]
     },
     "execution_count": 11,
     "metadata": {},
     "output_type": "execute_result"
    }
   ],
   "source": [
    "df.isnull().sum().value_counts()\n",
    "\n"
   ]
  },
  {
   "cell_type": "markdown",
   "metadata": {},
   "source": [
    "##### 4: Create new features that better capture information in some features\n",
    "\n"
   ]
  },
  {
   "cell_type": "code",
   "execution_count": 12,
   "metadata": {
    "collapsed": false
   },
   "outputs": [
    {
     "name": "stdout",
     "output_type": "stream",
     "text": [
      "<class 'pandas.core.frame.DataFrame'>\n",
      "RangeIndex: 2930 entries, 0 to 2929\n",
      "Data columns (total 64 columns):\n",
      "Order              2930 non-null int64\n",
      "PID                2930 non-null int64\n",
      "MS SubClass        2930 non-null int64\n",
      "MS Zoning          2930 non-null object\n",
      "Lot Area           2930 non-null int64\n",
      "Street             2930 non-null object\n",
      "Lot Shape          2930 non-null object\n",
      "Land Contour       2930 non-null object\n",
      "Utilities          2930 non-null object\n",
      "Lot Config         2930 non-null object\n",
      "Land Slope         2930 non-null object\n",
      "Neighborhood       2930 non-null object\n",
      "Condition 1        2930 non-null object\n",
      "Condition 2        2930 non-null object\n",
      "Bldg Type          2930 non-null object\n",
      "House Style        2930 non-null object\n",
      "Overall Qual       2930 non-null int64\n",
      "Overall Cond       2930 non-null int64\n",
      "Year Built         2930 non-null int64\n",
      "Year Remod/Add     2930 non-null int64\n",
      "Roof Style         2930 non-null object\n",
      "Roof Matl          2930 non-null object\n",
      "Exterior 1st       2930 non-null object\n",
      "Exterior 2nd       2930 non-null object\n",
      "Mas Vnr Area       2930 non-null float64\n",
      "Exter Qual         2930 non-null object\n",
      "Exter Cond         2930 non-null object\n",
      "Foundation         2930 non-null object\n",
      "BsmtFin SF 1       2930 non-null float64\n",
      "BsmtFin SF 2       2930 non-null float64\n",
      "Bsmt Unf SF        2930 non-null float64\n",
      "Total Bsmt SF      2930 non-null float64\n",
      "Heating            2930 non-null object\n",
      "Heating QC         2930 non-null object\n",
      "Central Air        2930 non-null object\n",
      "1st Flr SF         2930 non-null int64\n",
      "2nd Flr SF         2930 non-null int64\n",
      "Low Qual Fin SF    2930 non-null int64\n",
      "Gr Liv Area        2930 non-null int64\n",
      "Bsmt Full Bath     2930 non-null float64\n",
      "Bsmt Half Bath     2930 non-null float64\n",
      "Full Bath          2930 non-null int64\n",
      "Half Bath          2930 non-null int64\n",
      "Bedroom AbvGr      2930 non-null int64\n",
      "Kitchen AbvGr      2930 non-null int64\n",
      "Kitchen Qual       2930 non-null object\n",
      "TotRms AbvGrd      2930 non-null int64\n",
      "Functional         2930 non-null object\n",
      "Fireplaces         2930 non-null int64\n",
      "Garage Cars        2930 non-null float64\n",
      "Garage Area        2930 non-null float64\n",
      "Paved Drive        2930 non-null object\n",
      "Wood Deck SF       2930 non-null int64\n",
      "Open Porch SF      2930 non-null int64\n",
      "Enclosed Porch     2930 non-null int64\n",
      "3Ssn Porch         2930 non-null int64\n",
      "Screen Porch       2930 non-null int64\n",
      "Pool Area          2930 non-null int64\n",
      "Misc Val           2930 non-null int64\n",
      "Mo Sold            2930 non-null int64\n",
      "Yr Sold            2930 non-null int64\n",
      "Sale Type          2930 non-null object\n",
      "Sale Condition     2930 non-null object\n",
      "SalePrice          2930 non-null int64\n",
      "dtypes: float64(9), int64(28), object(27)\n",
      "memory usage: 1.4+ MB\n"
     ]
    }
   ],
   "source": [
    "df.info()\n"
   ]
  },
  {
   "cell_type": "code",
   "execution_count": 13,
   "metadata": {
    "collapsed": false
   },
   "outputs": [
    {
     "data": {
      "text/plain": [
       "2180   -1\n",
       "dtype: int64"
      ]
     },
     "execution_count": 13,
     "metadata": {},
     "output_type": "execute_result"
    }
   ],
   "source": [
    "years_sold = df['Yr Sold'] - df['Year Built']\n",
    "years_sold[years_sold < 0]"
   ]
  },
  {
   "cell_type": "code",
   "execution_count": 14,
   "metadata": {
    "collapsed": false
   },
   "outputs": [
    {
     "data": {
      "text/plain": [
       "1702   -1\n",
       "2180   -2\n",
       "2181   -1\n",
       "dtype: int64"
      ]
     },
     "execution_count": 14,
     "metadata": {},
     "output_type": "execute_result"
    }
   ],
   "source": [
    "years_since_remod = df['Yr Sold'] - df['Year Remod/Add']  \n",
    "years_since_remod[years_since_remod < 0]\n"
   ]
  },
  {
   "cell_type": "code",
   "execution_count": 15,
   "metadata": {
    "collapsed": false
   },
   "outputs": [
    {
     "data": {
      "text/plain": [
       "(2927, 64)"
      ]
     },
     "execution_count": 15,
     "metadata": {},
     "output_type": "execute_result"
    }
   ],
   "source": [
    "# create new column\n",
    "df['Years Before Sale'] = years_sold\n",
    "df['Years Since Remod'] = years_since_remod\n",
    "\n",
    "# drop rows with negative values for both new features\n",
    "df = df.drop([1702, 2180, 2181], axis=0)\n",
    "\n",
    "# drop original columns no long used\n",
    "df = df.drop(['Year Remod/Add', 'Year Built'], axis=1)\n",
    "\n",
    "df.shape\n"
   ]
  },
  {
   "cell_type": "markdown",
   "metadata": {},
   "source": [
    "##### 5: Drop features that aren't useful for machine learning or leak infomation about the sale\n",
    "\n"
   ]
  },
  {
   "cell_type": "code",
   "execution_count": 16,
   "metadata": {
    "collapsed": false
   },
   "outputs": [
    {
     "data": {
      "text/plain": [
       "(2927, 58)"
      ]
     },
     "execution_count": 16,
     "metadata": {},
     "output_type": "execute_result"
    }
   ],
   "source": [
    "# Drop columns that are not useful for machine learning\n",
    "df = df.drop(['PID', 'Order'], axis=1)\n",
    "\n",
    "# Drop columns that leak info about final sale\n",
    "df = df.drop([\"Mo Sold\", \"Sale Condition\", \"Sale Type\", \"Yr Sold\"], axis=1)   \n",
    "\n",
    "df.shape\n"
   ]
  },
  {
   "cell_type": "markdown",
   "metadata": {
    "collapsed": true
   },
   "source": [
    "##### 6: Update transform_features() function:\n",
    "\n",
    "- Drop any column from the data frame with more than 5% (or another cutoff value) missing values \n",
    "- Remove features not used in the model, just based on the number of missing values or data leakage\n",
    "- Fill in missing values with most common value\n",
    "- Create new features by combining other features\n",
    "\n"
   ]
  },
  {
   "cell_type": "code",
   "execution_count": 42,
   "metadata": {
    "collapsed": false
   },
   "outputs": [
    {
     "name": "stdout",
     "output_type": "stream",
     "text": [
      "55275.36731241307\n"
     ]
    }
   ],
   "source": [
    "def transform_features(df):\n",
    "    # filter series with more than 5% missing value count\n",
    "    null_counts = df.isnull().sum()\n",
    "    cols_5pct_mv = null_counts[null_counts > len(df)/20].sort_values()    \n",
    "    df = df.drop(cols_5pct_mv.index, axis=1) \n",
    "    \n",
    "    # drop tex columns with 1 or more missing values\n",
    "    text_mv_counts = df.select_dtypes(include=['object']).isnull().sum().sort_values(ascending=False)    \n",
    "    df = df.drop(text_mv_counts[text_mv_counts > 0].index, axis=1)\n",
    "\n",
    "    # compute numerical column-wise missing value count\n",
    "    num_mv_counts = df.select_dtypes(include=['int', 'float']).isnull().sum()     \n",
    "    cols_num_mv  = num_mv_counts[(num_mv_counts < len(df)/20) & (num_mv_counts > 0)].sort_values()  \n",
    "    # replacement value of the most common value\n",
    "    most_common_value_dict = df[cols_num_mv.index].mode().to_dict(orient='records')[0]     \n",
    "    # fill missing value in numeric column with replacement \n",
    "    # of most common value repectively\n",
    "    df = df.fillna(most_common_value_dict)\n",
    "    \n",
    "    # create new features\n",
    "    df['Years Before Sale'] = df['Yr Sold'] - df['Year Built']\n",
    "    df['Years Since Remod'] = df['Yr Sold'] - df['Year Remod/Add']  \n",
    "\n",
    "    # drop rows with negative values for both new features\n",
    "    df = df.drop([1702, 2180, 2181], axis=0)\n",
    "\n",
    "    # drop original columns no long used or not useful \n",
    "    # for ml, or leak info for final sales\n",
    "    df = df.drop(['Year Remod/Add', 'Year Built', 'PID', 'Order', \"Mo Sold\", \"Sale Condition\", \"Sale Type\", \"Yr Sold\"], axis=1)\n",
    "    return df\n",
    "\n",
    "def select_features(df):\n",
    "    cols =  ['Gr Liv Area','SalePrice']\n",
    "    return df[cols]\n",
    "\n",
    "def train_and_test(df):\n",
    "    train = df[0:1460]\n",
    "    test = df[1460:]\n",
    "    \n",
    "    #select numeric columns\n",
    "    numeric_train = train.select_dtypes(include=['integer', 'float'])  \n",
    "    numeric_test = test.select_dtypes(include=['integer', 'float'])\n",
    "\n",
    "    features = numeric_train.columns.drop('SalePrice')\n",
    "    \n",
    "    lr = LinearRegression()\n",
    "    lr.fit(train[features], train['SalePrice'])\n",
    "    predictions = lr.predict(test[features])\n",
    "    rmse = np.sqrt(mean_squared_error(test['SalePrice'], predictions))  \n",
    "    return rmse\n",
    "\n",
    "df = housing.copy()\n",
    "transformed_df = transform_features(df)\n",
    "filtered_df = select_features(transformed_df)\n",
    "rmse = train_and_test(filtered_df)\n",
    "print(rmse)    "
   ]
  },
  {
   "cell_type": "markdown",
   "metadata": {
    "collapsed": true
   },
   "source": [
    "### Feature Selection\n",
    "\n"
   ]
  },
  {
   "cell_type": "markdown",
   "metadata": {},
   "source": [
    "##### 1: Investigete numerical column correlation with 'SalePrice'.  Only keep numerical columns with correlation coefficient greater than 0.4.\n"
   ]
  },
  {
   "cell_type": "code",
   "execution_count": 43,
   "metadata": {
    "collapsed": false
   },
   "outputs": [
    {
     "name": "stdout",
     "output_type": "stream",
     "text": [
      "<class 'pandas.core.frame.DataFrame'>\n",
      "Int64Index: 2927 entries, 0 to 2929\n",
      "Data columns (total 33 columns):\n",
      "MS SubClass          2927 non-null int64\n",
      "Lot Area             2927 non-null int64\n",
      "Overall Qual         2927 non-null int64\n",
      "Overall Cond         2927 non-null int64\n",
      "Mas Vnr Area         2927 non-null float64\n",
      "BsmtFin SF 1         2927 non-null float64\n",
      "BsmtFin SF 2         2927 non-null float64\n",
      "Bsmt Unf SF          2927 non-null float64\n",
      "Total Bsmt SF        2927 non-null float64\n",
      "1st Flr SF           2927 non-null int64\n",
      "2nd Flr SF           2927 non-null int64\n",
      "Low Qual Fin SF      2927 non-null int64\n",
      "Gr Liv Area          2927 non-null int64\n",
      "Bsmt Full Bath       2927 non-null float64\n",
      "Bsmt Half Bath       2927 non-null float64\n",
      "Full Bath            2927 non-null int64\n",
      "Half Bath            2927 non-null int64\n",
      "Bedroom AbvGr        2927 non-null int64\n",
      "Kitchen AbvGr        2927 non-null int64\n",
      "TotRms AbvGrd        2927 non-null int64\n",
      "Fireplaces           2927 non-null int64\n",
      "Garage Cars          2927 non-null float64\n",
      "Garage Area          2927 non-null float64\n",
      "Wood Deck SF         2927 non-null int64\n",
      "Open Porch SF        2927 non-null int64\n",
      "Enclosed Porch       2927 non-null int64\n",
      "3Ssn Porch           2927 non-null int64\n",
      "Screen Porch         2927 non-null int64\n",
      "Pool Area            2927 non-null int64\n",
      "Misc Val             2927 non-null int64\n",
      "SalePrice            2927 non-null int64\n",
      "Years Before Sale    2927 non-null int64\n",
      "Years Since Remod    2927 non-null int64\n",
      "dtypes: float64(9), int64(24)\n",
      "memory usage: 777.5 KB\n"
     ]
    }
   ],
   "source": [
    "# select numerical columns\n",
    "numerical_df = transformed_df.select_dtypes(include=['int', 'float'])     \n",
    "numerical_df.info()\n"
   ]
  },
  {
   "cell_type": "code",
   "execution_count": 44,
   "metadata": {
    "collapsed": false
   },
   "outputs": [
    {
     "data": {
      "text/plain": [
       "SalePrice            1.000000\n",
       "Overall Qual         0.801206\n",
       "Gr Liv Area          0.717596\n",
       "Garage Cars          0.648361\n",
       "Total Bsmt SF        0.644012\n",
       "Garage Area          0.641425\n",
       "1st Flr SF           0.635185\n",
       "Years Before Sale    0.558979\n",
       "Full Bath            0.546118\n",
       "Years Since Remod    0.534985\n",
       "Mas Vnr Area         0.506983\n",
       "TotRms AbvGrd        0.498574\n",
       "Fireplaces           0.474831\n",
       "BsmtFin SF 1         0.439284\n",
       "Wood Deck SF         0.328183\n",
       "Open Porch SF        0.316262\n",
       "Half Bath            0.284871\n",
       "Bsmt Full Bath       0.276258\n",
       "2nd Flr SF           0.269601\n",
       "Lot Area             0.267520\n",
       "Bsmt Unf SF          0.182751\n",
       "Bedroom AbvGr        0.143916\n",
       "Enclosed Porch       0.128685\n",
       "Kitchen AbvGr        0.119760\n",
       "Screen Porch         0.112280\n",
       "Overall Cond         0.101540\n",
       "MS SubClass          0.085128\n",
       "Pool Area            0.068438\n",
       "Low Qual Fin SF      0.037629\n",
       "Bsmt Half Bath       0.035875\n",
       "3Ssn Porch           0.032268\n",
       "Misc Val             0.019273\n",
       "BsmtFin SF 2         0.006127\n",
       "Name: SalePrice, dtype: float64"
      ]
     },
     "execution_count": 44,
     "metadata": {},
     "output_type": "execute_result"
    }
   ],
   "source": [
    "# check correlation of columns to 'SalePrice'\n",
    "abs_corr_coef_to_SalePrice = numerical_df.corr()['SalePrice'].abs().sort_values(ascending=False)      \n",
    "abs_corr_coef_to_SalePrice\n"
   ]
  },
  {
   "cell_type": "code",
   "execution_count": 45,
   "metadata": {
    "collapsed": false
   },
   "outputs": [
    {
     "data": {
      "text/plain": [
       "SalePrice            1.000000\n",
       "Overall Qual         0.801206\n",
       "Gr Liv Area          0.717596\n",
       "Garage Cars          0.648361\n",
       "Total Bsmt SF        0.644012\n",
       "Garage Area          0.641425\n",
       "1st Flr SF           0.635185\n",
       "Years Before Sale    0.558979\n",
       "Full Bath            0.546118\n",
       "Years Since Remod    0.534985\n",
       "Mas Vnr Area         0.506983\n",
       "TotRms AbvGrd        0.498574\n",
       "Fireplaces           0.474831\n",
       "BsmtFin SF 1         0.439284\n",
       "Name: SalePrice, dtype: float64"
      ]
     },
     "execution_count": 45,
     "metadata": {},
     "output_type": "execute_result"
    }
   ],
   "source": [
    "# only keep column with correlation coefficient > 0.4\n",
    "abs_corr_coef_to_SalePrice[abs_corr_coef_to_SalePrice > .4]        \n"
   ]
  },
  {
   "cell_type": "code",
   "execution_count": 46,
   "metadata": {
    "collapsed": false
   },
   "outputs": [
    {
     "data": {
      "text/plain": [
       "(2927, 39)"
      ]
     },
     "execution_count": 46,
     "metadata": {},
     "output_type": "execute_result"
    }
   ],
   "source": [
    "# Drop columns with corr coefficient less than 0.4\n",
    "transformed_df = transformed_df.drop(abs_corr_coef_to_SalePrice[abs_corr_coef_to_SalePrice < .4].index, axis=1) \n",
    "\n",
    "transformed_df.shape\n"
   ]
  },
  {
   "cell_type": "markdown",
   "metadata": {},
   "source": [
    "##### 2: Generate heatmap of strong correlation columns to 'SalePrice'.   Are there columns having strong correlation to each other which indicates duplicate infomation?\n"
   ]
  },
  {
   "cell_type": "code",
   "execution_count": 52,
   "metadata": {
    "collapsed": false
   },
   "outputs": [
    {
     "data": {
      "image/png": "[encoded data removed]",
      "text/plain": [
       "<matplotlib.figure.Figure at 0x7f3b0d12ea58>"
      ]
     },
     "metadata": {},
     "output_type": "display_data"
    }
   ],
   "source": [
    "strong_corrs = abs_corr_coef_to_SalePrice[abs_corr_coef_to_SalePrice > .4]     \n",
    "corr_matrix = transformed_df[strong_corrs.index].corr()\n",
    "sns.heatmap(corr_matrix)\n",
    "plt.show()\n"
   ]
  },
  {
   "cell_type": "markdown",
   "metadata": {},
   "source": [
    "Strong correlated pair:\n",
    "'Garage Areas' and 'Garage Car',\n",
    "'1st Flr SF' and 'Total Bsmt SF',\n",
    "'TotRms AbvGrd', 'Gr Liv Area'\n"
   ]
  },
  {
   "cell_type": "code",
   "execution_count": 53,
   "metadata": {
    "collapsed": false
   },
   "outputs": [
    {
     "data": {
      "text/plain": [
       "(2927, 36)"
      ]
     },
     "execution_count": 53,
     "metadata": {},
     "output_type": "execute_result"
    }
   ],
   "source": [
    "# drop collinearity pair\n",
    "transformed_df = transformed_df.drop(['Garage Area', '1st Flr SF', 'TotRms AbvGrd'], axis=1)    \n",
    "transformed_df.shape\n",
    "\n"
   ]
  },
  {
   "cell_type": "markdown",
   "metadata": {},
   "source": [
    "##### 3: Which columns are currently numerical but need to be encoded as categorical instead (because the numbers don't have any semantic meaning)?"
   ]
  },
  {
   "cell_type": "code",
   "execution_count": 56,
   "metadata": {
    "collapsed": false
   },
   "outputs": [
    {
     "name": "stdout",
     "output_type": "stream",
     "text": [
      "<class 'pandas.core.frame.DataFrame'>\n",
      "Int64Index: 2927 entries, 0 to 2929\n",
      "Data columns (total 11 columns):\n",
      "Overall Qual         2927 non-null int64\n",
      "Mas Vnr Area         2927 non-null float64\n",
      "BsmtFin SF 1         2927 non-null float64\n",
      "Total Bsmt SF        2927 non-null float64\n",
      "Gr Liv Area          2927 non-null int64\n",
      "Full Bath            2927 non-null int64\n",
      "Fireplaces           2927 non-null int64\n",
      "Garage Cars          2927 non-null float64\n",
      "SalePrice            2927 non-null int64\n",
      "Years Before Sale    2927 non-null int64\n",
      "Years Since Remod    2927 non-null int64\n",
      "dtypes: float64(4), int64(7)\n",
      "memory usage: 274.4 KB\n"
     ]
    }
   ],
   "source": [
    "num_cols = transformed_df.select_dtypes(include=['int', 'float']).info()\n",
    "num_cols\n"
   ]
  },
  {
   "cell_type": "code",
   "execution_count": 58,
   "metadata": {
    "collapsed": false
   },
   "outputs": [
    {
     "data": {
      "text/plain": [
       "0    2.0\n",
       "1    1.0\n",
       "2    1.0\n",
       "3    2.0\n",
       "4    2.0\n",
       "Name: Garage Cars, dtype: float64"
      ]
     },
     "execution_count": 58,
     "metadata": {},
     "output_type": "execute_result"
    }
   ],
   "source": [
    "transformed_df['Garage Cars'].head()"
   ]
  },
  {
   "cell_type": "code",
   "execution_count": 63,
   "metadata": {
    "collapsed": false
   },
   "outputs": [
    {
     "data": {
      "text/plain": [
       "0    2\n",
       "1    1\n",
       "2    1\n",
       "3    2\n",
       "4    2\n",
       "Name: Garage Cars, dtype: category\n",
       "Categories (6, int64): [0, 1, 2, 3, 4, 5]"
      ]
     },
     "execution_count": 63,
     "metadata": {},
     "output_type": "execute_result"
    }
   ],
   "source": [
    "# It seems 'Garage Cars' columns currently is numerical \n",
    "# but needs to be encoded as categorical\n",
    "transformed_df['Garage Cars'] = transformed_df['Garage Cars'].astype('int').astype('category')\n",
    "transformed_df['Garage Cars'].head()\n"
   ]
  },
  {
   "cell_type": "markdown",
   "metadata": {},
   "source": [
    "##### 4: Exam what categorical columns to keep ( those with unique value counts less than 10)\n"
   ]
  },
  {
   "cell_type": "code",
   "execution_count": 78,
   "metadata": {
    "collapsed": true
   },
   "outputs": [],
   "source": [
    "# Create a list of column names from documentation that are *meant* to be categorical\n",
    "nominal_features = [\"PID\", \"MS SubClass\", \"MS Zoning\", \"Street\", \"Alley\", \"Land Contour\", \"Lot Config\", \"Neighborhood\", \n",
    "                    \"Condition 1\", \"Condition 2\", \"Bldg Type\", \"House Style\", \"Roof Style\", \"Roof Matl\", \"Exterior 1st\", \n",
    "                    \"Exterior 2nd\", \"Mas Vnr Type\", \"Foundation\", \"Heating\", \"Central Air\", \"Garage Type\", \n",
    "                    \"Misc Feature\", \"Sale Type\", \"Sale Condition\"]\n"
   ]
  },
  {
   "cell_type": "code",
   "execution_count": 79,
   "metadata": {
    "collapsed": false
   },
   "outputs": [
    {
     "data": {
      "text/plain": [
       "Index(['MS Zoning', 'Street', 'Lot Shape', 'Land Contour', 'Utilities',\n",
       "       'Lot Config', 'Land Slope', 'Condition 1', 'Condition 2', 'Bldg Type',\n",
       "       'House Style', 'Overall Qual', 'Roof Style', 'Roof Matl',\n",
       "       'Mas Vnr Area', 'Exter Qual', 'Exter Cond', 'Foundation',\n",
       "       'BsmtFin SF 1', 'Total Bsmt SF', 'Heating', 'Heating QC', 'Central Air',\n",
       "       'Gr Liv Area', 'Full Bath', 'Kitchen Qual', 'Functional', 'Fireplaces',\n",
       "       'Garage Cars', 'Paved Drive', 'SalePrice', 'Years Before Sale',\n",
       "       'Years Since Remod'],\n",
       "      dtype='object')"
      ]
     },
     "execution_count": 79,
     "metadata": {},
     "output_type": "execute_result"
    }
   ],
   "source": [
    "transformed_df.columns\n"
   ]
  },
  {
   "cell_type": "code",
   "execution_count": 80,
   "metadata": {
    "collapsed": false
   },
   "outputs": [
    {
     "data": {
      "text/plain": [
       "['MS Zoning',\n",
       " 'Street',\n",
       " 'Land Contour',\n",
       " 'Lot Config',\n",
       " 'Condition 1',\n",
       " 'Condition 2',\n",
       " 'Bldg Type',\n",
       " 'House Style',\n",
       " 'Roof Style',\n",
       " 'Roof Matl',\n",
       " 'Foundation',\n",
       " 'Heating',\n",
       " 'Central Air']"
      ]
     },
     "execution_count": 80,
     "metadata": {},
     "output_type": "execute_result"
    }
   ],
   "source": [
    "# Which categorical columns are still in transformed_df\n",
    "transformed_cat_col = []\n",
    "for col in transformed_df.columns:\n",
    "    if col in nominal_features:\n",
    "        transformed_cat_col.append(col)\n",
    "        \n",
    "transformed_cat_col        \n"
   ]
  },
  {
   "cell_type": "code",
   "execution_count": 81,
   "metadata": {
    "collapsed": false
   },
   "outputs": [
    {
     "data": {
      "text/plain": [
       "Street          2\n",
       "Central Air     2\n",
       "Land Contour    4\n",
       "Lot Config      5\n",
       "Bldg Type       5\n",
       "Roof Style      6\n",
       "Foundation      6\n",
       "Heating         6\n",
       "MS Zoning       7\n",
       "Condition 2     8\n",
       "House Style     8\n",
       "Roof Matl       8\n",
       "Condition 1     9\n",
       "dtype: int64"
      ]
     },
     "execution_count": 81,
     "metadata": {},
     "output_type": "execute_result"
    }
   ],
   "source": [
    "# how many unique values in each nominal columns\n",
    "uniqueness_counts = transformed_df[transformed_cat_col].apply(lambda col: len(col.value_counts())).sort_values()\n",
    "uniqueness_counts\n"
   ]
  },
  {
   "cell_type": "code",
   "execution_count": 82,
   "metadata": {
    "collapsed": false
   },
   "outputs": [
    {
     "data": {
      "text/plain": [
       "(2927, 33)"
      ]
     },
     "execution_count": 82,
     "metadata": {},
     "output_type": "execute_result"
    }
   ],
   "source": [
    "# Drop off column with unique counts of more than 10\n",
    "uniqueness_counts_gt_10 = uniqueness_counts[uniqueness_counts > 10]    \n",
    "transformed_df = transformed_df.drop(uniqueness_counts_gt_10.index, axis=1)\n",
    "transformed_df.shape\n"
   ]
  },
  {
   "cell_type": "markdown",
   "metadata": {},
   "source": [
    "##### 5: Which categorical columns have a few unique values but more than 95% of the values in the column belong to a specific category? This would be similar to a low variance numerical feature (no variability in the data for the model to capture)."
   ]
  },
  {
   "cell_type": "code",
   "execution_count": 100,
   "metadata": {
    "collapsed": false
   },
   "outputs": [
    {
     "data": {
      "text/plain": [
       "Pave    2915\n",
       "Grvl      12\n",
       "Name: Street, dtype: int64"
      ]
     },
     "execution_count": 100,
     "metadata": {},
     "output_type": "execute_result"
    }
   ],
   "source": [
    "transformed_df['Street'].value_counts()"
   ]
  },
  {
   "cell_type": "code",
   "execution_count": 101,
   "metadata": {
    "collapsed": false
   },
   "outputs": [
    {
     "data": {
      "text/plain": [
       "Norm      2898\n",
       "Feedr       13\n",
       "Artery       5\n",
       "PosA         4\n",
       "PosN         3\n",
       "RRNn         2\n",
       "RRAe         1\n",
       "RRAn         1\n",
       "Name: Condition 2, dtype: int64"
      ]
     },
     "execution_count": 101,
     "metadata": {},
     "output_type": "execute_result"
    }
   ],
   "source": [
    "transformed_df['Condition 2'].value_counts()"
   ]
  },
  {
   "cell_type": "code",
   "execution_count": 99,
   "metadata": {
    "collapsed": false
   },
   "outputs": [
    {
     "data": {
      "text/plain": [
       "CompShg    2884\n",
       "Tar&Grv      23\n",
       "WdShake       9\n",
       "WdShngl       7\n",
       "Metal         1\n",
       "Membran       1\n",
       "Roll          1\n",
       "ClyTile       1\n",
       "Name: Roof Matl, dtype: int64"
      ]
     },
     "execution_count": 99,
     "metadata": {},
     "output_type": "execute_result"
    }
   ],
   "source": [
    "transformed_df['Roof Matl'].value_counts()\n",
    "    \n"
   ]
  },
  {
   "cell_type": "code",
   "execution_count": 102,
   "metadata": {
    "collapsed": false
   },
   "outputs": [
    {
     "data": {
      "text/plain": [
       "GasA     2882\n",
       "GasW       27\n",
       "Grav        9\n",
       "Wall        6\n",
       "OthW        2\n",
       "Floor       1\n",
       "Name: Heating, dtype: int64"
      ]
     },
     "execution_count": 102,
     "metadata": {},
     "output_type": "execute_result"
    }
   ],
   "source": [
    "transformed_df['Heating'].value_counts()"
   ]
  },
  {
   "cell_type": "code",
   "execution_count": 103,
   "metadata": {
    "collapsed": false
   },
   "outputs": [
    {
     "data": {
      "text/plain": [
       "(2927, 29)"
      ]
     },
     "execution_count": 103,
     "metadata": {},
     "output_type": "execute_result"
    }
   ],
   "source": [
    "# Drop low variance columns\n",
    "transformed_df = transformed_df.drop(['Street', 'Condition 2', 'Roof Matl', 'Heating'], axis=1)    \n",
    "transformed_df.shape\n"
   ]
  },
  {
   "cell_type": "markdown",
   "metadata": {},
   "source": [
    "##### 6. Get dummies columns for remaining categorical columns\n"
   ]
  },
  {
   "cell_type": "code",
   "execution_count": 104,
   "metadata": {
    "collapsed": false
   },
   "outputs": [
    {
     "data": {
      "text/plain": [
       "(2927, 127)"
      ]
     },
     "execution_count": 104,
     "metadata": {},
     "output_type": "execute_result"
    }
   ],
   "source": [
    "# Select the remaining text columns and convert them to \n",
    "# categorical\n",
    "text_cols = transformed_df.select_dtypes(include=['object'])  \n",
    "for col in text_cols:\n",
    "    transformed_df[col] = transformed_df[col].astype('category')    \n",
    "\n",
    "# Create dummy columns and add it back to dataframe\n",
    "dummy_cols = pd.get_dummies(transformed_df.select_dtypes(include=['category']))     \n",
    "         \n",
    "transformed_df = pd.concat([transformed_df, dummy_cols], axis=1)\n",
    "\n",
    "# Drop original text columns\n",
    "#transformed_df = transformed_df.drop(text_cols, axis=1)\n",
    "\n",
    "transformed_df.shape\n"
   ]
  },
  {
   "cell_type": "markdown",
   "metadata": {},
   "source": [
    "##### 7: Update select_features() function:\n",
    "\n",
    " - Drop numberical columns whose correlation coefficient to 'SalePrice' is less than 0.4 \n",
    " - Drop categorical columns whose unique value counts is greater than 10\n",
    " - Get dummy columns for those remaining categorical columns\n",
    " "
   ]
  },
  {
   "cell_type": "code",
   "execution_count": 106,
   "metadata": {
    "collapsed": false
   },
   "outputs": [
    {
     "name": "stdout",
     "output_type": "stream",
     "text": [
      "31830.233441368862\n"
     ]
    }
   ],
   "source": [
    "def transform_features(df):\n",
    "    # filter series with more than 5% missing value count\n",
    "    null_counts = df.isnull().sum()\n",
    "    cols_5pct_mv = null_counts[null_counts > len(df)/20].sort_values()    \n",
    "    df = df.drop(cols_5pct_mv.index, axis=1) \n",
    "    \n",
    "    # drop tex columns with 1 or more missing values\n",
    "    text_mv_counts = df.select_dtypes(include=['object']).isnull().sum().sort_values(ascending=False)    \n",
    "    df = df.drop(text_mv_counts[text_mv_counts > 0].index, axis=1)\n",
    "\n",
    "    # compute numerical column-wise missing value count\n",
    "    num_mv_counts = df.select_dtypes(include=['int', 'float']).isnull().sum()     \n",
    "    cols_num_mv  = num_mv_counts[(num_mv_counts < len(df)/20) & (num_mv_counts > 0)].sort_values()  \n",
    "    # replacement value of the most common value\n",
    "    most_common_value_dict = df[cols_num_mv.index].mode().to_dict(orient='records')[0]     \n",
    "    # fill missing value in numeric column with replacement \n",
    "    # of most common value repectively\n",
    "    df = df.fillna(most_common_value_dict)\n",
    "    \n",
    "    # create new features\n",
    "    df['Years Before Sale'] = df['Yr Sold'] - df['Year Built']\n",
    "    df['Years Since Remod'] = df['Yr Sold'] - df['Year Remod/Add']  \n",
    "\n",
    "    # drop rows with negative values for both new features\n",
    "    df = df.drop([1702, 2180, 2181], axis=0)\n",
    "\n",
    "    # drop original columns no long used or not useful \n",
    "    # for ml, or leak info for final sales\n",
    "    df = df.drop(['Year Remod/Add', 'Year Built', 'PID', 'Order', \"Mo Sold\", \"Sale Condition\", \"Sale Type\", \"Yr Sold\"], axis=1)\n",
    "    return df\n",
    "\n",
    "def select_features(df):\n",
    "    # select numerical columns\n",
    "    numerical_df = df.select_dtypes(include=['int', 'float'])     \n",
    "    # check correlation of columns to 'SalePrice'\n",
    "    abs_corr_coef_to_SalePrice = numerical_df.corr()['SalePrice'].abs().sort_values(ascending=False)      \n",
    "    # only keep column with correlation coefficient > 0.4\n",
    "    abs_corr_coef_to_SalePrice[abs_corr_coef_to_SalePrice > .4]        \n",
    "    # Drop columns with corr coefficient less than 0.4\n",
    "    df = df.drop(abs_corr_coef_to_SalePrice[abs_corr_coef_to_SalePrice < .4].index, axis=1) \n",
    "    \n",
    "    # drop collinearity pair\n",
    "    df = df.drop(['Garage Area', '1st Flr SF', 'TotRms AbvGrd'], axis=1)    \n",
    "    # It seems 'Garage Cars' columns currently is numerical \n",
    "    # but needs to be encoded as categorical\n",
    "    df['Garage Cars'] = df['Garage Cars'].astype('int').astype('category')\n",
    "\n",
    "    # Create a list of column names from documentation that are *meant* to be categorical\n",
    "    nominal_features = [\"PID\", \"MS SubClass\", \"MS Zoning\", \"Street\", \"Alley\", \"Land Contour\", \"Lot Config\", \"Neighborhood\", \n",
    "                    \"Condition 1\", \"Condition 2\", \"Bldg Type\", \"House Style\", \"Roof Style\", \"Roof Matl\", \"Exterior 1st\", \n",
    "                    \"Exterior 2nd\", \"Mas Vnr Type\", \"Foundation\", \"Heating\", \"Central Air\", \"Garage Type\", \n",
    "                    \"Misc Feature\", \"Sale Type\", \"Sale Condition\"]\n",
    "    \n",
    "    # Which categorical columns are still in transformed_df\n",
    "    cat_col = []\n",
    "    for col in df.columns:\n",
    "        if col in nominal_features:\n",
    "            cat_col.append(col)\n",
    "    # how many unique values in each nominal columns\n",
    "    uniqueness_counts = df[cat_col].apply(lambda col: len(col.value_counts())).sort_values()\n",
    "    # Drop off column with unique counts of more than 10\n",
    "    uniqueness_counts_gt_10 = uniqueness_counts[uniqueness_counts > 10]    \n",
    "    df = df.drop(uniqueness_counts_gt_10.index, axis=1)\n",
    "    \n",
    "    # Drop low variance columns\n",
    "    df = df.drop(['Street', 'Condition 2', 'Roof Matl', 'Heating'], axis=1)    \n",
    "    \n",
    "    # Select the remaining text columns and convert them to \n",
    "    # categorical\n",
    "    text_cols = df.select_dtypes(include=['object'])  \n",
    "    for col in text_cols:\n",
    "        df[col] = df[col].astype('category')    \n",
    "\n",
    "    # Create dummy columns and add it back to dataframe\n",
    "    dummy_cols = pd.get_dummies(df.select_dtypes(include=['category']))     \n",
    "    df = pd.concat([df, dummy_cols], axis=1)\n",
    "\n",
    "    # Drop original text columns\n",
    "    #df = df.drop(text_cols, axis=1)\n",
    "\n",
    "    return df\n",
    "\n",
    "def train_and_test(df):\n",
    "    train = df[0:1460]\n",
    "    test = df[1460:]\n",
    "    \n",
    "    #select numeric columns\n",
    "    numeric_train = train.select_dtypes(include=['integer', 'float'])  \n",
    "    numeric_test = test.select_dtypes(include=['integer', 'float'])\n",
    "\n",
    "    features = numeric_train.columns.drop('SalePrice')\n",
    "    \n",
    "    lr = LinearRegression()\n",
    "    lr.fit(train[features], train['SalePrice'])\n",
    "    predictions = lr.predict(test[features])\n",
    "    rmse = np.sqrt(mean_squared_error(test['SalePrice'], predictions))  \n",
    "    return rmse      \n",
    "    \n",
    "df = housing.copy()\n",
    "transformed_df = transform_features(df)\n",
    "filtered_df = select_features(transformed_df)\n",
    "rmse = train_and_test(filtered_df)\n",
    "print(rmse)    "
   ]
  },
  {
   "cell_type": "markdown",
   "metadata": {},
   "source": [
    "### Build best fitting model with k-folds cross validation"
   ]
  },
  {
   "cell_type": "code",
   "execution_count": 22,
   "metadata": {
    "collapsed": false,
    "scrolled": true
   },
   "outputs": [
    {
     "name": "stdout",
     "output_type": "stream",
     "text": [
      "k=0 avg_rmse=31830.233441368862\n",
      "k=1 avg_rmse=29368.360978955745\n",
      "[31295.321540196735, 27855.94086299145]\n",
      "k=2 avg_rmse=29575.631201594093\n",
      "[33880.9912680786, 24030.719643129505, 26553.032067159653]\n",
      "k=3 avg_rmse=28154.914326122587\n",
      "[27521.185911297747, 34359.247715819714, 27022.680111736816, 24152.98795205541]\n",
      "k=4 avg_rmse=28264.02542272742\n",
      "[25796.886173517152, 25510.967784659526, 25626.733379018857, 38247.0722307317, 24005.816019714617]\n",
      "k=5 avg_rmse=27837.49511752837\n",
      "[27789.831614081926, 25178.189694443914, 26233.724318410335, 37935.809143050035, 26369.57246438806, 26345.533440347972]\n",
      "k=6 avg_rmse=28308.77677912037\n",
      "[29402.765366501564, 27947.97444696205, 21214.361876446408, 23632.703258415928, 26399.48103533483, 24114.282178919537, 41056.72163132028]\n",
      "k=7 avg_rmse=27681.184256271514\n",
      "[24242.980991224245, 24859.3337860343, 24567.252998189033, 28445.04139900053, 30613.772617983697, 23720.897371826668, 41235.98894330403, 26711.590684346163]\n",
      "k=8 avg_rmse=28049.607348988582\n"
     ]
    }
   ],
   "source": [
    "def transform_features(df):\n",
    "    # filter series with more than 5% missing value count\n",
    "    null_counts = df.isnull().sum()\n",
    "    cols_5pct_mv = null_counts[null_counts > len(df)/20].sort_values()    \n",
    "    df = df.drop(cols_5pct_mv.index, axis=1) \n",
    "    \n",
    "    # drop tex columns with 1 or more missing values\n",
    "    text_mv_counts = df.select_dtypes(include=['object']).isnull().sum().sort_values(ascending=False)    \n",
    "    df = df.drop(text_mv_counts[text_mv_counts > 0].index, axis=1)\n",
    "\n",
    "    # compute numerical column-wise missing value count\n",
    "    num_mv_counts = df.select_dtypes(include=['int', 'float']).isnull().sum()     \n",
    "    cols_num_mv  = num_mv_counts[(num_mv_counts < len(df)/20) & (num_mv_counts > 0)].sort_values()  \n",
    "    # replacement value of the most common value\n",
    "    most_common_value_dict = df[cols_num_mv.index].mode().to_dict(orient='records')[0]     \n",
    "    # fill missing value in numeric column with replacement \n",
    "    # of most common value repectively\n",
    "    df = df.fillna(most_common_value_dict)\n",
    "    \n",
    "    # create new features\n",
    "    df['Years Before Sale'] = df['Yr Sold'] - df['Year Built']\n",
    "    df['Years Since Remod'] = df['Yr Sold'] - df['Year Remod/Add']  \n",
    "\n",
    "    # drop rows with negative values for both new features\n",
    "    df = df.drop([1702, 2180, 2181], axis=0)\n",
    "\n",
    "    # drop original columns no long used or not useful \n",
    "    # for ml, or leak info for final sales\n",
    "    df = df.drop(['Year Remod/Add', 'Year Built', 'PID', 'Order', \"Mo Sold\", \"Sale Condition\", \"Sale Type\", \"Yr Sold\"], axis=1)\n",
    "    return df\n",
    "\n",
    "def select_features(df):\n",
    "    # select numerical columns\n",
    "    numerical_df = df.select_dtypes(include=['int', 'float'])     \n",
    "    # check correlation of columns to 'SalePrice'\n",
    "    abs_corr_coef_to_SalePrice = numerical_df.corr()['SalePrice'].abs().sort_values(ascending=False)      \n",
    "    # only keep column with correlation coefficient > 0.4\n",
    "    abs_corr_coef_to_SalePrice[abs_corr_coef_to_SalePrice > .4]        \n",
    "    # Drop columns with corr coefficient less than 0.4\n",
    "    df = df.drop(abs_corr_coef_to_SalePrice[abs_corr_coef_to_SalePrice < .4].index, axis=1) \n",
    "    \n",
    "    # drop collinearity pair\n",
    "    df = df.drop(['Garage Area', '1st Flr SF', 'TotRms AbvGrd'], axis=1)    \n",
    "    # It seems 'Garage Cars' columns currently is numerical \n",
    "    # but needs to be encoded as categorical\n",
    "    df['Garage Cars'] = df['Garage Cars'].astype('int').astype('category')\n",
    "\n",
    "    # Create a list of column names from documentation that are *meant* to be categorical\n",
    "    nominal_features = [\"PID\", \"MS SubClass\", \"MS Zoning\", \"Street\", \"Alley\", \"Land Contour\", \"Lot Config\", \"Neighborhood\", \n",
    "                    \"Condition 1\", \"Condition 2\", \"Bldg Type\", \"House Style\", \"Roof Style\", \"Roof Matl\", \"Exterior 1st\", \n",
    "                    \"Exterior 2nd\", \"Mas Vnr Type\", \"Foundation\", \"Heating\", \"Central Air\", \"Garage Type\", \n",
    "                    \"Misc Feature\", \"Sale Type\", \"Sale Condition\"]\n",
    "    \n",
    "    # Which categorical columns are still in transformed_df\n",
    "    cat_col = []\n",
    "    for col in df.columns:\n",
    "        if col in nominal_features:\n",
    "            cat_col.append(col)\n",
    "    # how many unique values in each nominal columns\n",
    "    uniqueness_counts = df[cat_col].apply(lambda col: len(col.value_counts())).sort_values()\n",
    "    # Drop off column with unique counts of more than 10\n",
    "    uniqueness_counts_gt_10 = uniqueness_counts[uniqueness_counts > 10]    \n",
    "    df = df.drop(uniqueness_counts_gt_10.index, axis=1)\n",
    "    \n",
    "    # Drop low variance columns\n",
    "    df = df.drop(['Street', 'Condition 2', 'Roof Matl', 'Heating'], axis=1)    \n",
    "    \n",
    "    # Select the remaining text columns and convert them to \n",
    "    # categorical\n",
    "    text_cols = df.select_dtypes(include=['object'])  \n",
    "    for col in text_cols:\n",
    "        df[col] = df[col].astype('category')    \n",
    "\n",
    "    # Create dummy columns and add it back to dataframe\n",
    "    dummy_cols = pd.get_dummies(df.select_dtypes(include=['category']))     \n",
    "    df = pd.concat([df, dummy_cols], axis=1)\n",
    "\n",
    "    # Drop original text columns\n",
    "    #df = df.drop(text_cols, axis=1)\n",
    "\n",
    "    return df\n",
    "\n",
    "def train_and_test(df, k=0):\n",
    "    #select numeric columns\n",
    "    numeric_df = df.select_dtypes(include=['integer', 'float'])  \n",
    "    features = numeric_df.columns.drop('SalePrice')\n",
    "    # initiate model\n",
    "    lr = LinearRegression()\n",
    "    \n",
    "    if k == 0:\n",
    "        train = df[0:1460]\n",
    "        test = df[1460:]\n",
    "        lr.fit(train[features], train['SalePrice'])\n",
    "        predictions = lr.predict(test[features])\n",
    "        mse = mean_squared_error(test['SalePrice'], predictions)\n",
    "        rmse = rmse = np.sqrt(mse)\n",
    "        return rmse\n",
    "\n",
    "    if k == 1:\n",
    "        # shuffle all rows \n",
    "        shuffled_df = df.sample(frac=1,)\n",
    "        fold_one = df[0:1460]\n",
    "        fold_two = df[1460:]\n",
    "        # Train on fold_one and test on fold_two\n",
    "        lr.fit(fold_one[features], fold_one['SalePrice'])\n",
    "        predictions = lr.predict(fold_two[features])\n",
    "        mse = mean_squared_error(fold_two['SalePrice'], predictions)\n",
    "        rmse_one = rmse = np.sqrt(mse)\n",
    "        # Train on fold_two and test on fold_one\n",
    "        lr.fit(fold_two[features], fold_two['SalePrice'])\n",
    "        predictions = lr.predict(fold_one[features])\n",
    "        mse = mean_squared_error(fold_one['SalePrice'], predictions)\n",
    "        rmse_two = rmse = np.sqrt(mse)\n",
    "        \n",
    "        avg_rmse = np.mean([rmse_one, rmse_two])\n",
    "        return avg_rmse\n",
    "    else:\n",
    "        kf = KFold(n_splits=k, shuffle=True)\n",
    "        rmse_values = []\n",
    "        for train_index, test_index in kf.split(df):\n",
    "            train = df.iloc[train_index]\n",
    "            test = df.iloc[test_index]\n",
    "            lr.fit(train[features], train['SalePrice'])\n",
    "            predictions = lr.predict(test[features])\n",
    "            mse = mean_squared_error(test['SalePrice'], predictions)\n",
    "            rmse = rmse = np.sqrt(mse)\n",
    "            rmse_values.append(rmse)\n",
    "        print(rmse_values)\n",
    "        avg_rmse = np.mean(rmse_values)\n",
    "        return avg_rmse\n",
    "  \n",
    "df = housing.copy()\n",
    "transformed_df = transform_features(df)\n",
    "filtered_df = select_features(transformed_df)\n",
    "filtered_df.to_csv('filtered_df.csv')\n",
    "\n",
    "avg_rmse_values = []\n",
    "for K in range(9):\n",
    "    rmse = train_and_test(filtered_df, k=K)\n",
    "    print('k={} avg_rmse={}'.format(K, rmse))\n",
    "    avg_rmse_values.append(rmse)\n"
   ]
  },
  {
   "cell_type": "code",
   "execution_count": 23,
   "metadata": {
    "collapsed": false
   },
   "outputs": [
    {
     "data": {
      "text/plain": [
       "<matplotlib.text.Text at 0x7f21c18dd4a8>"
      ]
     },
     "execution_count": 23,
     "metadata": {},
     "output_type": "execute_result"
    },
    {
     "data": {
      "image/png": "[encoded data removed]",
      "text/plain": [
       "<matplotlib.figure.Figure at 0x7f21c1a00f98>"
      ]
     },
     "metadata": {},
     "output_type": "display_data"
    }
   ],
   "source": [
    "# plot avg_rmse for different k folds\n",
    "k_values = [k for k in range(9)]\n",
    "plt.plot(k_values, avg_rmse_values)\n",
    "plt.title('Avg RMSE for Different k Folds')\n"
   ]
  },
  {
   "cell_type": "markdown",
   "metadata": {},
   "source": [
    "As it can be seen, as k folds increases, Average RMSE decreases.  After k reaches 7 or 8, there is not much significient improvement to average RMSE. "
   ]
  },
  {
   "cell_type": "code",
   "execution_count": null,
   "metadata": {
    "collapsed": true
   },
   "outputs": [],
   "source": []
  }
 ],
 "metadata": {
  "anaconda-cloud": {},
  "kernelspec": {
   "display_name": "Python 3",
   "language": "python",
   "name": "python3"
  },
  "language_info": {
   "codemirror_mode": {
    "name": "ipython",
    "version": 3
   },
   "file_extension": ".py",
   "mimetype": "text/x-python",
   "name": "python",
   "nbconvert_exporter": "python",
   "pygments_lexer": "ipython3",
   "version": "3.4.3"
  }
 },
 "nbformat": 4,
 "nbformat_minor": 2
}
