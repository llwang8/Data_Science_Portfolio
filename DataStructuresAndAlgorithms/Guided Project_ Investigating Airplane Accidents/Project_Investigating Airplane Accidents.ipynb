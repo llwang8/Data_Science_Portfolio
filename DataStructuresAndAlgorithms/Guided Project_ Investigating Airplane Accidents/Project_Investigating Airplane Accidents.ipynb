{
 "cells": [
  {
   "cell_type": "markdown",
   "metadata": {},
   "source": [
    "# Investigating Airplane Accidents\n",
    "\n",
    "The data in AviationData.txt file comes from the National Transportation Safety Board (NTSB) downloaded the file at data.gov.  This data set contains 77,282 aviation accidents that occurred in the U.S., and the metadata associated with them.\n",
    "\n",
    "Accidents are an unfortunate fact of air travel. Although flying is statistically safer than driving, minor and major flying accidents occur daily. In this project, I am using this data set of airplane accident statistics to analyze patterns and look for any common threads.\n",
    "\n",
    "The data set that contains 77,282 aviation accidents that occurred in the U.S., and the metadata associated with them.\n",
    "Here are descriptions for some of the columns:\n",
    "\n",
    "Event Id - The unique id for the incident\n",
    "Investigation Type - The type of investigation the NTSB conducted\n",
    "Event Date - The date of the accident\n",
    "Location - Where the accident occurred\n",
    "Country - The country where the accident occurred\n",
    "Latitude - The latitude where the accident occurred\n",
    "Longitude - The longitude where the accident occurred\n",
    "Injury Severity - The severity of any injuries\n",
    "Aircraft Damage - The extent of the damage to the aircraft\n",
    "Aircraft Category - The type of aircraft\n",
    "Make - The make of the aircraft\n",
    "Model - The model of the aircraft\n",
    "Number of Engines - The number of engines on the plane\n",
    "Air Carrier - The carrier operating the aircraft\n",
    "Total Fatal Injuries - The number of fatal injuries\n",
    "Total Serious Injuries - The number of serious injuries\n",
    "Total Minor Injuries - The number of minor injuries\n",
    "Total Uninjured - The number of people who did not sustain injuries\n",
    "Broad Phase of Flight - The phase of flight during which the accident occurred\n"
   ]
  },
  {
   "cell_type": "markdown",
   "metadata": {},
   "source": [
    "### Import Libraries and Read In Data\n"
   ]
  },
  {
   "cell_type": "code",
   "execution_count": 38,
   "metadata": {},
   "outputs": [
    {
     "name": "stdout",
     "output_type": "stream",
     "text": [
      "['20150906X32704', 'Accident', 'ERA15LA339', '09/05/2015', 'Laconia, NH', 'United States', '43.606389', '-71.452778', 'LCI', 'Laconia Municipal Airport', 'Fatal(1)', 'Substantial', 'Weight-Shift', 'N2264X', 'EVOLUTION AIRCRAFT INC', 'REVO', 'No', '1', 'Reciprocating', 'Part 91: General Aviation', '', 'Personal', '', '1', '', '', '', 'VMC', 'MANEUVERING', 'Preliminary', '09/10/2015', '\\n']\n"
     ]
    }
   ],
   "source": [
    "import re\n",
    "import math\n",
    "import operator\n",
    "import matplotlib.pyplot as plt\n",
    "\n",
    "aviation_data = []\n",
    "with open('AviationData.txt') as f:\n",
    "    for line in f:\n",
    "        aviation_data.append(line)\n",
    "\n",
    "# Create a dictionary for aviation data\n",
    "aviation_list = []\n",
    "for item in aviation_data:\n",
    "    aviation_list.append(item.split(' | '))\n",
    "print(aviation_list[2])"
   ]
  },
  {
   "cell_type": "code",
   "execution_count": 3,
   "metadata": {},
   "outputs": [
    {
     "name": "stdout",
     "output_type": "stream",
     "text": [
      "{'Event Id': '20150908X74637', 'Investigation Type': 'Accident', 'Accident Number': 'CEN15LA402', 'Event Date': '09/08/2015', 'Location': 'Freeport, IL', 'Country': 'United States', 'Latitude': '42.246111', 'Longitude': '-89.581945', 'Airport Code': 'KFEP', 'Airport Name': 'albertus Airport', 'Injury Severity': 'Non-Fatal', 'Aircraft Damage': 'Substantial', 'Aircraft Category': 'Unknown', 'Registration Number': 'N24TL', 'Make': 'CLARKE REGINALD W', 'Model': 'DRAGONFLY MK', 'Amateur Built': '', 'Number of Engines': '', 'Engine Type': '', 'FAR Description': 'Part 91: General Aviation', 'Schedule': '', 'Purpose of Flight': 'Personal', 'Air Carrier': '', 'Total Fatal Injuries': '', 'Total Serious Injuries': '1', 'Total Minor Injuries': '', 'Total Uninjured': '', 'Weather Condition': 'VMC', 'Broad Phase of Flight': 'TAKEOFF', 'Report Status': 'Preliminary', 'Publication Date': '09/09/2015', '\\n': '\\n'}\n"
     ]
    }
   ],
   "source": [
    "# Create a dictionary for aviation data\n",
    "def list_dict(alist):\n",
    "    dict_list = []\n",
    "    columns = alist[0].split(' | ')\n",
    "    length = len(columns)\n",
    "    alist = alist[1:]\n",
    "\n",
    "    for line in alist:\n",
    "        adict = {}\n",
    "        line_list = line.split(' | ')\n",
    "        for i in range(length):\n",
    "            adict[columns[i]] = line_list[i]\n",
    "        dict_list.append(adict)\n",
    "    return dict_list\n",
    "\n",
    "aviation_dict_list = list_dict(aviation_data)\n",
    "print(aviation_dict_list[0])\n"
   ]
  },
  {
   "cell_type": "markdown",
   "metadata": {},
   "source": [
    "### Experiment with different searching algorithms for a specific accident"
   ]
  },
  {
   "cell_type": "markdown",
   "metadata": {},
   "source": [
    "##### Brute force search"
   ]
  },
  {
   "cell_type": "code",
   "execution_count": 9,
   "metadata": {},
   "outputs": [
    {
     "name": "stdout",
     "output_type": "stream",
     "text": [
      "Exponential time Search ...\n",
      "[['20001218X45447', 'Accident', 'LAX94LA336', '07/19/1962', 'BRIDGEPORT, CA', 'United States', '', '', '', '', 'Fatal(4)', 'Destroyed', '', 'N5069P', 'PIPER', 'PA24-180', 'No', '1', 'Reciprocating', '', '', 'Personal', '', '4', '0', '0', '0', 'UNK', 'UNKNOWN', 'Probable Cause', '09/19/1996', '\\n']]\n"
     ]
    }
   ],
   "source": [
    "def search_exp():\n",
    "    lax_code = []\n",
    "    for row in aviation_list:\n",
    "        for item in row:\n",
    "            if re.search(r'LAX94LA336', item):\n",
    "                lax_code.append(row)\n",
    "                break\n",
    "    print('Exponential time Search ...')\n",
    "    print(lax_code)\n",
    "\n",
    "search_exp()\n",
    "# Time complexity for this approach is O(n^2)\n"
   ]
  },
  {
   "cell_type": "markdown",
   "metadata": {},
   "source": [
    "##### Linear search"
   ]
  },
  {
   "cell_type": "code",
   "execution_count": 10,
   "metadata": {},
   "outputs": [
    {
     "name": "stdout",
     "output_type": "stream",
     "text": [
      "Linear time algorithm search ...\n",
      "[['20001218X45447', 'Accident', 'LAX94LA336', '07/19/1962', 'BRIDGEPORT, CA', 'United States', '', '', '', '', 'Fatal(4)', 'Destroyed', '', 'N5069P', 'PIPER', 'PA24-180', 'No', '1', 'Reciprocating', '', '', 'Personal', '', '4', '0', '0', '0', 'UNK', 'UNKNOWN', 'Probable Cause', '09/19/1996', '\\n']]\n"
     ]
    }
   ],
   "source": [
    "def search_linear():\n",
    "    lax_code = []\n",
    "    for line in aviation_data:\n",
    "        if 'LAX94LA336' in line:\n",
    "            lax_code.append(line.split(' | '))\n",
    "    print('Linear time algorithm search ...')\n",
    "    print(lax_code)\n",
    "\n",
    "search_linear()"
   ]
  },
  {
   "cell_type": "markdown",
   "metadata": {},
   "source": [
    "##### Logarithmatic search - binary search"
   ]
  },
  {
   "cell_type": "code",
   "execution_count": 11,
   "metadata": {},
   "outputs": [
    {
     "name": "stdout",
     "output_type": "stream",
     "text": [
      "log(n) time algorithm search ...\n",
      "[['20001218X45447', 'Accident', 'LAX94LA336', '07/19/1962', 'BRIDGEPORT, CA', 'United States', '', '', '', '', 'Fatal(4)', 'Destroyed', '', 'N5069P', 'PIPER', 'PA24-180', 'No', '1', 'Reciprocating', '', '', 'Personal', '', '4', '0', '0', '0', 'UNK', 'UNKNOWN', 'Probable Cause', '09/19/1996', '\\n']]\n"
     ]
    }
   ],
   "source": [
    "def search_log():\n",
    "    lax_code = []\n",
    "    aviation_list_s = sorted(aviation_list, key=lambda x: x[2])\n",
    "    #print(aviation_list_s[2])\n",
    "\n",
    "    lower_bound = 0\n",
    "    upper_bound = len(aviation_list_s) - 1\n",
    "    index = math.floor((lower_bound + upper_bound) / 2)\n",
    "    guess = aviation_list_s[index][2]\n",
    "    while guess != 'LAX94LA336' and lower_bound <= upper_bound:\n",
    "        if 'LAX94LA336' < guess:\n",
    "            upper_bound = index - 1\n",
    "        else:\n",
    "            lower_bound = index + 1\n",
    "        index = math.floor((lower_bound + upper_bound) / 2)\n",
    "        guess = aviation_list_s[index][2]\n",
    "    if guess == 'LAX94LA336':\n",
    "        lax_code.append(aviation_list_s[index])\n",
    "    print('log(n) time algorithm search ...')\n",
    "    print(lax_code)\n",
    "\n",
    "search_log()"
   ]
  },
  {
   "cell_type": "markdown",
   "metadata": {},
   "source": [
    "##### Search with a dictionary data structure"
   ]
  },
  {
   "cell_type": "code",
   "execution_count": 12,
   "metadata": {},
   "outputs": [
    {
     "name": "stdout",
     "output_type": "stream",
     "text": [
      "search dictionary list...\n",
      "[{'Event Id': '20001218X45447', 'Investigation Type': 'Accident', 'Accident Number': 'LAX94LA336', 'Event Date': '07/19/1962', 'Location': 'BRIDGEPORT, CA', 'Country': 'United States', 'Latitude': '', 'Longitude': '', 'Airport Code': '', 'Airport Name': '', 'Injury Severity': 'Fatal(4)', 'Aircraft Damage': 'Destroyed', 'Aircraft Category': '', 'Registration Number': 'N5069P', 'Make': 'PIPER', 'Model': 'PA24-180', 'Amateur Built': 'No', 'Number of Engines': '1', 'Engine Type': 'Reciprocating', 'FAR Description': '', 'Schedule': '', 'Purpose of Flight': 'Personal', 'Air Carrier': '', 'Total Fatal Injuries': '4', 'Total Serious Injuries': '0', 'Total Minor Injuries': '0', 'Total Uninjured': '0', 'Weather Condition': 'UNK', 'Broad Phase of Flight': 'UNKNOWN', 'Report Status': 'Probable Cause', 'Publication Date': '09/19/1996', '\\n': '\\n'}]\n"
     ]
    }
   ],
   "source": [
    "def search_dict_list(dict_list):\n",
    "    lax_code = []\n",
    "    for idict in dict_list:\n",
    "        vals_list = idict.values()\n",
    "        if 'LAX94LA336' in vals_list:\n",
    "            lax_code.append(idict)\n",
    "    print('search dictionary list...')\n",
    "    print(lax_code)\n",
    "\n",
    "search_dict_list(aviation_dict_list)"
   ]
  },
  {
   "cell_type": "markdown",
   "metadata": {},
   "source": [
    "It is about the same to search through a list of dictionaries as through a list of lists with respect to time complexity. But list of dictionaries takes up more memory space."
   ]
  },
  {
   "cell_type": "markdown",
   "metadata": {},
   "source": [
    "### Count how many accidents in each U.S. state and find out which state has the most accidents"
   ]
  },
  {
   "cell_type": "code",
   "execution_count": 20,
   "metadata": {},
   "outputs": [
    {
     "name": "stdout",
     "output_type": "stream",
     "text": [
      "Total Accidents by State ...\n"
     ]
    },
    {
     "data": {
      "text/plain": [
       "{'': 33,\n",
       " 'AK': 5049,\n",
       " 'AL': 1032,\n",
       " 'AO': 7,\n",
       " 'AR': 1389,\n",
       " 'AS': 1,\n",
       " 'AZ': 2502,\n",
       " 'CA': 8030,\n",
       " 'CO': 2460,\n",
       " 'CT': 447,\n",
       " 'DC': 43,\n",
       " 'DE': 100,\n",
       " 'FL': 5118,\n",
       " 'FN': 5,\n",
       " 'GA': 1747,\n",
       " 'GM': 63,\n",
       " 'GU': 14,\n",
       " 'HI': 434,\n",
       " 'IA': 731,\n",
       " 'ID': 1228,\n",
       " 'IL': 1874,\n",
       " 'IN': 1169,\n",
       " 'KS': 981,\n",
       " 'KY': 577,\n",
       " 'LA': 1073,\n",
       " 'MA': 896,\n",
       " 'MD': 720,\n",
       " 'ME': 458,\n",
       " 'MI': 1863,\n",
       " 'MN': 1317,\n",
       " 'MO': 1404,\n",
       " 'MP': 2,\n",
       " 'MS': 746,\n",
       " 'MT': 936,\n",
       " 'NC': 1433,\n",
       " 'ND': 514,\n",
       " 'NE': 642,\n",
       " 'NH': 326,\n",
       " 'NJ': 1068,\n",
       " 'NM': 1219,\n",
       " 'NV': 1054,\n",
       " 'NY': 1716,\n",
       " 'OH': 1616,\n",
       " 'OK': 1110,\n",
       " 'ON': 1,\n",
       " 'OR': 1559,\n",
       " 'PA': 1573,\n",
       " 'PO': 8,\n",
       " 'PR': 88,\n",
       " 'RI': 147,\n",
       " 'SC': 850,\n",
       " 'SD': 393,\n",
       " 'TN': 951,\n",
       " 'TX': 5112,\n",
       " 'UN': 5,\n",
       " 'UT': 1162,\n",
       " 'VA': 1108,\n",
       " 'VI': 12,\n",
       " 'VT': 213,\n",
       " 'WA': 2354,\n",
       " 'WI': 1389,\n",
       " 'WV': 362,\n",
       " 'WY': 663}"
      ]
     },
     "execution_count": 20,
     "metadata": {},
     "output_type": "execute_result"
    }
   ],
   "source": [
    "def get_state_accidents():\n",
    "    state_acc = {}\n",
    "    for adict in aviation_dict_list:\n",
    "        if adict['Country'] == 'United States':\n",
    "            state = adict['Location'][-2:]\n",
    "            if state in state_acc:\n",
    "                state_acc[state] += 1\n",
    "            else:\n",
    "                state_acc[state] = 1\n",
    "    return state_acc\n",
    "\n",
    "state_accidents = get_state_accidents()\n",
    "print('Total Accidents by State ...')\n",
    "state_accidents\n"
   ]
  },
  {
   "cell_type": "code",
   "execution_count": 22,
   "metadata": {},
   "outputs": [
    {
     "name": "stdout",
     "output_type": "stream",
     "text": [
      "The State with the most aviation accidents...\n",
      "('CA', 8030)\n"
     ]
    }
   ],
   "source": [
    "state_accidents_list = sorted(state_accidents.items(), key=operator.itemgetter(1), reverse=True)\n",
    "print('The State with the most aviation accidents...')\n",
    "print(state_accidents_list[0])"
   ]
  },
  {
   "cell_type": "markdown",
   "metadata": {},
   "source": [
    "### Count how many fatalities and serious injuries occured each month"
   ]
  },
  {
   "cell_type": "code",
   "execution_count": 34,
   "metadata": {},
   "outputs": [
    {
     "name": "stdout",
     "output_type": "stream",
     "text": [
      "08\n"
     ]
    }
   ],
   "source": [
    "# tester\n",
    "print(aviation_list[10][3][:2])"
   ]
  },
  {
   "cell_type": "code",
   "execution_count": 35,
   "metadata": {},
   "outputs": [
    {
     "data": {
      "text/plain": [
       "{'': 2,\n",
       " '01': 4224,\n",
       " '02': 3907,\n",
       " '03': 3797,\n",
       " '04': 4318,\n",
       " '05': 4955,\n",
       " '06': 5191,\n",
       " '07': 7003,\n",
       " '08': 6924,\n",
       " '09': 5529,\n",
       " '10': 5092,\n",
       " '11': 4995,\n",
       " '12': 4747,\n",
       " 'Ev': 0}"
      ]
     },
     "execution_count": 35,
     "metadata": {},
     "output_type": "execute_result"
    }
   ],
   "source": [
    "def injuries_by_month():\n",
    "    monthly_dict = {}\n",
    "    for row in aviation_list:\n",
    "        month = row[3][:2]\n",
    "        #fatal_n = 0 if row[23] is None else int(row[23])\n",
    "        #injury_n = 0 if row[24] is None else int(row[24])\n",
    "        try:\n",
    "            fatal_n = int(row[23])\n",
    "        except ValueError:\n",
    "            fatal_n = 0\n",
    "        try:\n",
    "            injury_n = int(row[24])\n",
    "        except ValueError:\n",
    "            injury_n = 0\n",
    "            \n",
    "        if month in monthly_dict:\n",
    "            monthly_dict[month] += fatal_n + injury_n\n",
    "        else:\n",
    "            monthly_dict[month] = fatal_n + injury_n\n",
    "    return monthly_dict\n",
    "\n",
    "monthly_injuries = injuries_by_month()\n",
    "monthly_injuries\n"
   ]
  },
  {
   "cell_type": "code",
   "execution_count": 37,
   "metadata": {},
   "outputs": [
    {
     "name": "stdout",
     "output_type": "stream",
     "text": [
      "['Ev', '09', '08', '07', '06', '05', '04', '03', '02', '01', '12', '11', '10', '']\n",
      "[0, 5529, 6924, 7003, 5191, 4955, 4318, 3797, 3907, 4224, 4747, 4995, 5092, 2]\n"
     ]
    }
   ],
   "source": [
    "month_names_list = list(monthly_injuries.keys())\n",
    "print(month_names_list)\n",
    "injuries_num_list = list(monthly_injuries.values())\n",
    "print(injuries_num_list)"
   ]
  },
  {
   "cell_type": "code",
   "execution_count": null,
   "metadata": {
    "collapsed": true
   },
   "outputs": [],
   "source": [
    "# Create a bar chart to display accidents by month\n",
    "fig, az"
   ]
  },
  {
   "cell_type": "markdown",
   "metadata": {},
   "source": [
    "### Map out accidents using the basemap library for matplotlib.\n"
   ]
  },
  {
   "cell_type": "markdown",
   "metadata": {},
   "source": [
    "### Count the number of accidents by air carrier.\n"
   ]
  },
  {
   "cell_type": "markdown",
   "metadata": {},
   "source": [
    "### Count the number of accidents by airplane make and model.\n"
   ]
  },
  {
   "cell_type": "markdown",
   "metadata": {},
   "source": [
    "### Figure out what percentage of accidents occur under adverse weather conditions.\n"
   ]
  },
  {
   "cell_type": "code",
   "execution_count": null,
   "metadata": {
    "collapsed": true
   },
   "outputs": [],
   "source": []
  }
 ],
 "metadata": {
  "kernelspec": {
   "display_name": "Python 3",
   "language": "python",
   "name": "python3"
  },
  "language_info": {
   "codemirror_mode": {
    "name": "ipython",
    "version": 3
   },
   "file_extension": ".py",
   "mimetype": "text/x-python",
   "name": "python",
   "nbconvert_exporter": "python",
   "pygments_lexer": "ipython3",
   "version": "3.6.3"
  }
 },
 "nbformat": 4,
 "nbformat_minor": 2
}
