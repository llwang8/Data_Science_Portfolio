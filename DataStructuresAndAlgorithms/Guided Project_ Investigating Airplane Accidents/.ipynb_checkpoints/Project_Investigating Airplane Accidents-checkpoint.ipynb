{
 "cells": [
  {
   "cell_type": "markdown",
   "metadata": {},
   "source": [
    "# Investigating Airplane Accidents\n",
    "\n",
    "The data in AviationData.txt file comes from the National Transportation Safety Board (NTSB) downloaded the file at data.gov.  This data set contains 77,282 aviation accidents that occurred in the U.S., and the metadata associated with them.\n",
    "\n",
    "Accidents are an unfortunate fact of air travel. Although flying is statistically safer than driving, minor and major flying accidents occur daily. In this project, I am using this data set of airplane accident statistics to analyze patterns and look for any common threads.\n",
    "\n",
    "The data set that contains 77,282 aviation accidents that occurred in the U.S., and the metadata associated with them.\n",
    "Here are descriptions for some of the columns:\n",
    "\n",
    "Event Id - The unique id for the incident\n",
    "Investigation Type - The type of investigation the NTSB conducted\n",
    "Event Date - The date of the accident\n",
    "Location - Where the accident occurred\n",
    "Country - The country where the accident occurred\n",
    "Latitude - The latitude where the accident occurred\n",
    "Longitude - The longitude where the accident occurred\n",
    "Injury Severity - The severity of any injuries\n",
    "Aircraft Damage - The extent of the damage to the aircraft\n",
    "Aircraft Category - The type of aircraft\n",
    "Make - The make of the aircraft\n",
    "Model - The model of the aircraft\n",
    "Number of Engines - The number of engines on the plane\n",
    "Air Carrier - The carrier operating the aircraft\n",
    "Total Fatal Injuries - The number of fatal injuries\n",
    "Total Serious Injuries - The number of serious injuries\n",
    "Total Minor Injuries - The number of minor injuries\n",
    "Total Uninjured - The number of people who did not sustain injuries\n",
    "Broad Phase of Flight - The phase of flight during which the accident occurred\n"
   ]
  },
  {
   "cell_type": "markdown",
   "metadata": {},
   "source": [
    "### Import Libraries and Read In Data\n"
   ]
  },
  {
   "cell_type": "code",
   "execution_count": null,
   "metadata": {
    "collapsed": true
   },
   "outputs": [],
   "source": [
    "import re\n",
    "import math\n",
    "import operator\n",
    "\n",
    "aviation_data = []\n",
    "with open('AviationData.txt') as f:\n",
    "    for line in f:\n",
    "        aviation_data.append(line)\n",
    "\n",
    "# Create a dictionary for aviation data\n",
    "aviation_list = []\n",
    "for item in aviation_data:\n",
    "    aviation_list.append(item.split(' | '))\n",
    "#print(aviation_list[2])"
   ]
  },
  {
   "cell_type": "code",
   "execution_count": null,
   "metadata": {
    "collapsed": true
   },
   "outputs": [],
   "source": [
    "# Create a dictionary for aviation data\n",
    "def list_dict(alist):\n",
    "    dict_list = []\n",
    "    columns = alist[0].split(' | ')\n",
    "    length = len(columns)\n",
    "    alist = alist[1:]\n",
    "\n",
    "    for line in alist:\n",
    "        adict = {}\n",
    "        line_list = line.split(' | ')\n",
    "        for i in range(length):\n",
    "            adict[columns[i]] = line_list[i]\n",
    "        dict_list.append(adict)\n",
    "    return dict_list\n",
    "\n",
    "aviation_dict_list = list_dict(aviation_data)\n",
    "print(aviation_dict_list[0])\n"
   ]
  },
  {
   "cell_type": "markdown",
   "metadata": {},
   "source": [
    "### Experiment with different searching algorithms for a specific accident"
   ]
  },
  {
   "cell_type": "markdown",
   "metadata": {},
   "source": [
    "##### Brute force search"
   ]
  },
  {
   "cell_type": "code",
   "execution_count": null,
   "metadata": {
    "collapsed": true
   },
   "outputs": [],
   "source": [
    "def search_exp():\n",
    "    lax_code = []\n",
    "    for row in aviation_list:\n",
    "        for item in row:\n",
    "            if re.search(r'LAX94LA336', item):\n",
    "                lax_code.append(row)\n",
    "                break\n",
    "    print('expo...')\n",
    "    print(lax_code)\n",
    "\n",
    "search_exp()\n",
    "# Time complexity for this approach is O(n^2)\n"
   ]
  },
  {
   "cell_type": "markdown",
   "metadata": {},
   "source": [
    "##### Linear search"
   ]
  },
  {
   "cell_type": "code",
   "execution_count": null,
   "metadata": {
    "collapsed": true
   },
   "outputs": [],
   "source": [
    "def search_linear():\n",
    "    lax_code = []\n",
    "    for line in aviation_data:\n",
    "        if 'LAX94LA336' in line:\n",
    "            lax_code.append(line.split(' | '))\n",
    "    print('linear...')\n",
    "    print(lax_code)\n",
    "\n",
    "search_linear()"
   ]
  },
  {
   "cell_type": "markdown",
   "metadata": {},
   "source": [
    "##### Logarithmatic search - binary search"
   ]
  },
  {
   "cell_type": "code",
   "execution_count": null,
   "metadata": {
    "collapsed": true
   },
   "outputs": [],
   "source": [
    "def search_log():\n",
    "    lax_code = []\n",
    "    aviation_list_s = sorted(aviation_list, key=lambda x: x[2])\n",
    "    print(aviation_list_s[2])\n",
    "\n",
    "    lower_bound = 0\n",
    "    upper_bound = len(aviation_list_s) - 1\n",
    "    index = math.floor((lower_bound + upper_bound) / 2)\n",
    "    guess = aviation_list_s[index][2]\n",
    "    while guess != 'LAX94LA336' and lower_bound <= upper_bound:\n",
    "        if 'LAX94LA336' < guess:\n",
    "            upper_bound = index - 1\n",
    "        else:\n",
    "            lower_bound = index + 1\n",
    "        index = math.floor((lower_bound + upper_bound) / 2)\n",
    "        guess = aviation_list_s[index][2]\n",
    "    if guess == 'LAX94LA336':\n",
    "        lax_code.append(aviation_list_s[index])\n",
    "    print('log...')\n",
    "    print(lax_code)\n",
    "\n",
    "search_log()"
   ]
  },
  {
   "cell_type": "markdown",
   "metadata": {},
   "source": [
    "##### Search with a dictionary data structure"
   ]
  },
  {
   "cell_type": "code",
   "execution_count": null,
   "metadata": {
    "collapsed": true
   },
   "outputs": [],
   "source": [
    "def search_dict_list(dict_list):\n",
    "    lax_code = []\n",
    "    for idict in dict_list:\n",
    "        vals_list = idict.values()\n",
    "        if 'LAX94LA336' in vals_list:\n",
    "            lax_code.append(idict)\n",
    "    print('search dictionary list...')\n",
    "    print(lax_code)\n",
    "\n",
    "#search_dict_list(aviation_dict_list)"
   ]
  },
  {
   "cell_type": "code",
   "execution_count": null,
   "metadata": {
    "collapsed": true
   },
   "outputs": [],
   "source": [
    "# It is about the same to search through a list of dictionaries\n",
    "# as through a list of lists with respect to time complexity.\n",
    "# But list of dictionaries takes up more space."
   ]
  },
  {
   "cell_type": "markdown",
   "metadata": {},
   "source": [
    "### Count how many accidents in each U.S. state and find out which state has the most accidents"
   ]
  },
  {
   "cell_type": "code",
   "execution_count": null,
   "metadata": {
    "collapsed": true
   },
   "outputs": [],
   "source": [
    "def get_state_accidents():\n",
    "    state_acc = {}\n",
    "    for adict in aviation_dict_list:\n",
    "        if adict['Country'] == 'United States':\n",
    "            state = adict['Location'][-2]\n",
    "            if state in state_acc:\n",
    "                state_acc[state] += 1\n",
    "            else:\n",
    "                state_acc[state] = 1\n",
    "    return state_acc\n",
    "\n",
    "state_accidents = get_state_accidents()\n",
    "state_accidents\n"
   ]
  },
  {
   "cell_type": "code",
   "execution_count": null,
   "metadata": {
    "collapsed": true
   },
   "outputs": [],
   "source": [
    "state_accidents = sorted(state_accidents.items(), key=operator.itemgetter(1), reverse=True)\n",
    "print('The State wit the most aviation accidents...')\n",
    "print(state_accidents[0])"
   ]
  },
  {
   "cell_type": "markdown",
   "metadata": {},
   "source": [
    "### Count how many fatalities and serious injuries occured each month"
   ]
  },
  {
   "cell_type": "code",
   "execution_count": null,
   "metadata": {
    "collapsed": true
   },
   "outputs": [],
   "source": [
    "def injuries_by_month():\n",
    "    monthly_dict = {}\n",
    "    for row in aviation_list:\n",
    "        month = row[3][3:5]\n",
    "        fatal_n = 0 if row[23] is None else row[23]\n",
    "        injury_n = 0 if row[24] is None else row[24]\n",
    "        if month in monthly_dict:\n",
    "            monthly_dict[month] += fatal_n + injury_n\n",
    "        else:\n",
    "            monthly_dict[month] = fatal_n + injury_n\n",
    "    return monthly_dict\n",
    "\n",
    "monthly_injuries = injuries_by_month()\n",
    "monthly_injuries\n",
    "\n"
   ]
  },
  {
   "cell_type": "code",
   "execution_count": null,
   "metadata": {
    "collapsed": true
   },
   "outputs": [],
   "source": [
    "month_names_list = monthly_injuries.keys()\n",
    "print(month_names_list)\n",
    "injuries_num_list = monthly_injuries.values()"
   ]
  },
  {
   "cell_type": "markdown",
   "metadata": {},
   "source": [
    "### Map out accidents using the basemap library for matplotlib.\n"
   ]
  },
  {
   "cell_type": "markdown",
   "metadata": {},
   "source": [
    "### Count the number of accidents by air carrier.\n"
   ]
  },
  {
   "cell_type": "markdown",
   "metadata": {},
   "source": [
    "### Count the number of accidents by airplane make and model.\n"
   ]
  },
  {
   "cell_type": "markdown",
   "metadata": {},
   "source": [
    "### Figure out what percentage of accidents occur under adverse weather conditions.\n"
   ]
  }
 ],
 "metadata": {
  "kernelspec": {
   "display_name": "Python 3",
   "language": "python",
   "name": "python3"
  },
  "language_info": {
   "codemirror_mode": {
    "name": "ipython",
    "version": 3
   },
   "file_extension": ".py",
   "mimetype": "text/x-python",
   "name": "python",
   "nbconvert_exporter": "python",
   "pygments_lexer": "ipython3",
   "version": "3.6.3"
  }
 },
 "nbformat": 4,
 "nbformat_minor": 2
}
